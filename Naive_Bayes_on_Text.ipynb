{
 "cells": [
  {
   "cell_type": "markdown",
   "metadata": {},
   "source": [
    "# Naive Bayes classifier for Amazon fine food reviews for Bag of words and tf-idf"
   ]
  },
  {
   "cell_type": "markdown",
   "metadata": {},
   "source": [
    "### The objective\n",
    "\n",
    "Given a text review, we have to predict whether the review represents positove sentiment or negative.\n",
    "In other words, we ahve to classify the review as 'Positive' or 'Negative'.\n",
    "We will use the Amazon fine food review dataset from Kaggle.com\n",
    "\n",
    "https://www.kaggle.com/snap/amazon-fine-food-reviews\n",
    "    \n",
    "### Context\n",
    "\n",
    "This dataset consists of reviews of fine foods from amazon. The data span a period of more than 10 years, including all ~500,000 reviews up to October 2012. Reviews include product and user information, ratings, and a plain text review. It also includes reviews from all other Amazon categories.\n",
    "\n",
    "### Contents\n",
    "\n",
    "    Reviews.csv: Pulled from the corresponding SQLite table named Reviews in database.sqlite\n",
    "    database.sqlite: Contains the table 'Reviews'\n",
    "\n",
    "Data includes:\n",
    "- Reviews from Oct 1999 - Oct 2012\n",
    "- 568,454 reviews\n",
    "- 256,059 users\n",
    "- 74,258 products\n",
    "- 260 users with > 50 reviews    \n",
    "\n",
    "In this notebook, we will use MultinomialNB and BernoulliNB classifiers on BoW and Tf-Idf vectorizers on Text column. We will also check if adding additional feature like length of text helps in improving the performance.\n",
    "\n",
    "First, import all required libraries\n"
   ]
  },
  {
   "cell_type": "code",
   "execution_count": 1,
   "metadata": {},
   "outputs": [
    {
     "name": "stdout",
     "output_type": "stream",
     "text": [
      "Done\n",
      "Wall time: 12.3 s\n"
     ]
    }
   ],
   "source": [
    "%%time\n",
    "%matplotlib inline\n",
    "from datetime import datetime\n",
    "import sqlite3\n",
    "from sklearn.metrics import roc_curve, auc,roc_auc_score\n",
    "import pandas as pd\n",
    "import numpy as np\n",
    "import nltk\n",
    "import string\n",
    "import matplotlib.pyplot as plt\n",
    "import seaborn as sns\n",
    "from sklearn.feature_extraction.text import TfidfTransformer\n",
    "from sklearn.feature_extraction.text import TfidfVectorizer\n",
    "from sklearn.naive_bayes import BernoulliNB\n",
    "from sklearn.model_selection import GridSearchCV\n",
    "from sklearn.model_selection import TimeSeriesSplit\n",
    "from sklearn.naive_bayes import MultinomialNB\n",
    "from sklearn.feature_extraction.text import CountVectorizer\n",
    "from sklearn.metrics import confusion_matrix\n",
    "from sklearn.model_selection import train_test_split\n",
    "from sklearn import metrics\n",
    "from sklearn.metrics import roc_curve, auc\n",
    "from nltk.stem.porter import PorterStemmer\n",
    "from sklearn.pipeline import Pipeline, FeatureUnion\n",
    "from sklearn.feature_extraction.text import CountVectorizer\n",
    "from sklearn.feature_extraction.text import TfidfTransformer\n",
    "from sklearn.preprocessing import FunctionTransformer\n",
    "import warnings\n",
    "warnings.filterwarnings('ignore')\n",
    "import gensim\n",
    "print('Done')"
   ]
  },
  {
   "cell_type": "markdown",
   "metadata": {},
   "source": [
    "#### Function to print confusion matrix and classification report"
   ]
  },
  {
   "cell_type": "code",
   "execution_count": 2,
   "metadata": {},
   "outputs": [],
   "source": [
    "from prettytable import PrettyTable\n",
    "#source: https://gist.github.com/shaypal5/94c53d765083101efc0240d776a23823\n",
    "\n",
    "def print_confusion_matrix(confusion_matrix, class_names, figsize = (6,6), fontsize=10):\n",
    "    \n",
    "    df_cm = pd.DataFrame(\n",
    "        confusion_matrix, index=class_names, columns=class_names, \n",
    "    )\n",
    "    fig = plt.figure(figsize=figsize)\n",
    "    try:\n",
    "        heatmap = sns.heatmap(df_cm, annot=True, fmt=\"d\")\n",
    "    except ValueError:\n",
    "        raise ValueError(\"Confusion matrix values must be integers.\")\n",
    "    heatmap.yaxis.set_ticklabels(heatmap.yaxis.get_ticklabels(), rotation=0, ha='right', fontsize=fontsize)\n",
    "    heatmap.xaxis.set_ticklabels(heatmap.xaxis.get_ticklabels(), rotation=45, ha='right', fontsize=fontsize)\n",
    "    plt.ylabel('True label')\n",
    "    plt.xlabel('Predicted label')\n",
    "    \n",
    "\n",
    "    \n",
    "def print_classif_report(input_dict):\n",
    "    tab = PrettyTable()\n",
    "    tab.field_names = [\"Label\",\"Precision\",\"Recall\",\"f1-Score\",\"Support\"]\n",
    "    list1=[]\n",
    "    for k,v in input_dict.items():\n",
    "        list1=[]\n",
    "        list1.append(k)\n",
    "        for i,j in v.items():\n",
    "            list1.append(\"{0:.2f}\".format(j))\n",
    "        \n",
    "        tab.add_row(list1)\n",
    "    print(tab)    "
   ]
  },
  {
   "cell_type": "markdown",
   "metadata": {},
   "source": [
    "#### function to get important features for given classifier and vectorizer"
   ]
  },
  {
   "cell_type": "code",
   "execution_count": 3,
   "metadata": {},
   "outputs": [],
   "source": [
    "\n",
    "def most_informative_feature(vectorizer, classifier, n=10):\n",
    "    class_labels = classifier.classes_\n",
    "    feature_names = vectorizer.get_feature_names()\n",
    "    topn_class1 = sorted(zip(classifier.feature_log_prob_[0], feature_names),reverse=True)[:n]\n",
    "    topn_class2 = sorted(zip(classifier.feature_log_prob_[1], feature_names),reverse=True)[:n]\n",
    "\n",
    "    print('Negative class')\n",
    "    \n",
    "    for coef, feat in topn_class1:\n",
    "        print(class_labels[0], coef, feat)\n",
    "\n",
    "    print(' ************************************* ')\n",
    "    print('Positive class')\n",
    "\n",
    "    for coef, feat in topn_class2:\n",
    "        print(class_labels[1], coef, feat)\n"
   ]
  },
  {
   "cell_type": "markdown",
   "metadata": {},
   "source": [
    "### function to return column of text lengths"
   ]
  },
  {
   "cell_type": "code",
   "execution_count": 4,
   "metadata": {},
   "outputs": [],
   "source": [
    "def get_text_length(x):\n",
    "    return np.array([len(t) for t in x]).reshape(-1, 1)"
   ]
  },
  {
   "cell_type": "markdown",
   "metadata": {},
   "source": [
    "### Read the data from SQLite file"
   ]
  },
  {
   "cell_type": "markdown",
   "metadata": {},
   "source": [
    "Read the data from database.\n",
    "We will not consider 3 star reviews as they are neutral (neither completely positive nor negative)"
   ]
  },
  {
   "cell_type": "code",
   "execution_count": 6,
   "metadata": {},
   "outputs": [],
   "source": [
    "# using the SQLite Table to read data.\n",
    "con = sqlite3.connect('./database.sqlite') \n",
    "\n",
    "#filtering only positive and negative reviews i.e. \n",
    "# not taking into consideration those reviews with Score=3 as they are neutral\n",
    "\n",
    "filtered_data = pd.read_sql_query(\"\"\"\n",
    "SELECT *\n",
    "FROM Reviews\n",
    "WHERE Score != 3\n",
    "\"\"\", con) \n",
    "\n",
    "#Function to map reviews with Score>3 to a positive rating, and reviews with a score<3 to a negative rating.\n",
    "def partition(x):\n",
    "    if x < 3:\n",
    "        return 0\n",
    "    return 1\n",
    "\n",
    "#changing reviews with score less than 3 to be positive and vice-versa\n",
    "\n",
    "filtered_data['Score'] = filtered_data['Score'].map(partition)"
   ]
  },
  {
   "cell_type": "markdown",
   "metadata": {},
   "source": [
    "Check sample data"
   ]
  },
  {
   "cell_type": "code",
   "execution_count": 7,
   "metadata": {},
   "outputs": [
    {
     "data": {
      "text/html": [
       "<div>\n",
       "<style scoped>\n",
       "    .dataframe tbody tr th:only-of-type {\n",
       "        vertical-align: middle;\n",
       "    }\n",
       "\n",
       "    .dataframe tbody tr th {\n",
       "        vertical-align: top;\n",
       "    }\n",
       "\n",
       "    .dataframe thead th {\n",
       "        text-align: right;\n",
       "    }\n",
       "</style>\n",
       "<table border=\"1\" class=\"dataframe\">\n",
       "  <thead>\n",
       "    <tr style=\"text-align: right;\">\n",
       "      <th></th>\n",
       "      <th>Id</th>\n",
       "      <th>ProductId</th>\n",
       "      <th>UserId</th>\n",
       "      <th>ProfileName</th>\n",
       "      <th>HelpfulnessNumerator</th>\n",
       "      <th>HelpfulnessDenominator</th>\n",
       "      <th>Score</th>\n",
       "      <th>Time</th>\n",
       "      <th>Summary</th>\n",
       "      <th>Text</th>\n",
       "    </tr>\n",
       "  </thead>\n",
       "  <tbody>\n",
       "    <tr>\n",
       "      <th>0</th>\n",
       "      <td>1</td>\n",
       "      <td>B001E4KFG0</td>\n",
       "      <td>A3SGXH7AUHU8GW</td>\n",
       "      <td>delmartian</td>\n",
       "      <td>1</td>\n",
       "      <td>1</td>\n",
       "      <td>1</td>\n",
       "      <td>1303862400</td>\n",
       "      <td>Good Quality Dog Food</td>\n",
       "      <td>I have bought several of the Vitality canned d...</td>\n",
       "    </tr>\n",
       "  </tbody>\n",
       "</table>\n",
       "</div>"
      ],
      "text/plain": [
       "   Id   ProductId          UserId ProfileName  HelpfulnessNumerator  \\\n",
       "0   1  B001E4KFG0  A3SGXH7AUHU8GW  delmartian                     1   \n",
       "\n",
       "   HelpfulnessDenominator  Score        Time                Summary  \\\n",
       "0                       1      1  1303862400  Good Quality Dog Food   \n",
       "\n",
       "                                                Text  \n",
       "0  I have bought several of the Vitality canned d...  "
      ]
     },
     "execution_count": 7,
     "metadata": {},
     "output_type": "execute_result"
    }
   ],
   "source": [
    "filtered_data.head(1)"
   ]
  },
  {
   "cell_type": "markdown",
   "metadata": {},
   "source": [
    "Sort the data by productid"
   ]
  },
  {
   "cell_type": "code",
   "execution_count": 8,
   "metadata": {},
   "outputs": [],
   "source": [
    "sorted_data=filtered_data.sort_values('ProductId', axis=0, ascending=True, inplace=False, kind='quicksort', na_position='last')"
   ]
  },
  {
   "cell_type": "markdown",
   "metadata": {},
   "source": [
    "Remove duplicates"
   ]
  },
  {
   "cell_type": "code",
   "execution_count": 9,
   "metadata": {},
   "outputs": [
    {
     "data": {
      "text/plain": [
       "(364173, 10)"
      ]
     },
     "execution_count": 9,
     "metadata": {},
     "output_type": "execute_result"
    }
   ],
   "source": [
    "#Remove duplicate reviews by same user at same time\n",
    "final=sorted_data.drop_duplicates(subset={\"UserId\",\"ProfileName\",\"Time\",\"Text\"}, keep='first', inplace=False)\n",
    "final.shape"
   ]
  },
  {
   "cell_type": "markdown",
   "metadata": {},
   "source": [
    "Remove rows where helpfulness denominator is greater than helpfulness numerator"
   ]
  },
  {
   "cell_type": "code",
   "execution_count": 10,
   "metadata": {},
   "outputs": [
    {
     "data": {
      "text/plain": [
       "(364171, 10)"
      ]
     },
     "execution_count": 10,
     "metadata": {},
     "output_type": "execute_result"
    }
   ],
   "source": [
    "#Keep only those records where HelpfulnessNumerator is less than or equal to HelpfulnessDenominator\n",
    "final=final[final.HelpfulnessNumerator<=final.HelpfulnessDenominator]\n",
    "final.shape"
   ]
  },
  {
   "cell_type": "markdown",
   "metadata": {},
   "source": [
    "Function to clean the sentences.\n",
    "The function will remove html tags and punctuation marks from the input text and return cleaned text."
   ]
  },
  {
   "cell_type": "code",
   "execution_count": 11,
   "metadata": {},
   "outputs": [],
   "source": [
    "import re\n",
    "import string\n",
    "from nltk.corpus import stopwords\n",
    "\n",
    "stop = set(stopwords.words('english')) #set of stopwords\n",
    "sno = nltk.stem.SnowballStemmer('english') #initialising the snowball stemmer\n",
    "\n",
    "def cleansentence(sentence): #function to clean the word of any html-tags\n",
    "    cleanr = re.compile('<.*?>')\n",
    "    cleantext = re.sub(cleanr, ' ', sentence)\n",
    "    cleantext = re.sub(r'[?|!|\\'|\"|#]',r'',cleantext)\n",
    "    cleantext = re.sub(r'[.|,|)|(|\\|/|-|+|;|&]',r' ',cleantext)\n",
    "    return  cleantext\n"
   ]
  },
  {
   "cell_type": "markdown",
   "metadata": {},
   "source": [
    "Sort by time for time based splitting"
   ]
  },
  {
   "cell_type": "code",
   "execution_count": 12,
   "metadata": {},
   "outputs": [],
   "source": [
    "sample=final.sort_values('Time', axis=0, ascending=True, inplace=False, kind='quicksort', na_position='last')"
   ]
  },
  {
   "cell_type": "markdown",
   "metadata": {},
   "source": [
    "Cleaning the review text by using above written function.\n",
    "Also performing the stemming procedure to reduce the words to their base stem forms.\n",
    "Cleaned text will be stored in separate column.\n",
    "For tf-idf weighted word2vec, we are storing non-stemmed clean review text in another column."
   ]
  },
  {
   "cell_type": "code",
   "execution_count": 13,
   "metadata": {},
   "outputs": [],
   "source": [
    "i=0\n",
    "str1=' '\n",
    "str2=' '\n",
    "final_string=[]\n",
    "final_string_2=[]\n",
    "s=''\n",
    "s1=''\n",
    "for sent in sample['Text'].values:\n",
    "    filtered_sentence=[]\n",
    "    filtered_nostem = []\n",
    "    #print(sent);\n",
    "    sent=cleansentence(sent) # remove HTMl tags\n",
    "    for w in sent.split():\n",
    "        if((w.isalpha()) & (len(w)>2)):    \n",
    "                if(w.lower() not in stop):\n",
    "                    s=(sno.stem(w.lower())).encode('utf8')\n",
    "                    s1 = (w.lower()).encode('utf8')\n",
    "                    filtered_sentence.append(s)\n",
    "                    filtered_nostem.append(s1)\n",
    "                    \n",
    "                else:\n",
    "                    continue\n",
    "        else:\n",
    "                continue \n",
    "    #print(filtered_sentence)\n",
    "    str1 = b\" \".join(filtered_sentence) #final string of cleaned words\n",
    "    str2 = b\" \".join(filtered_nostem) #final string of cleaned words\n",
    "    #print(\"***********************************************************************\")\n",
    "    \n",
    "    final_string.append(str1)\n",
    "    final_string_2.append(str2)\n",
    "    i+=1"
   ]
  },
  {
   "cell_type": "code",
   "execution_count": 14,
   "metadata": {},
   "outputs": [],
   "source": [
    "#adding a column  which displays the data after pre-processing of the review \n",
    "sample['CleanedText']=final_string\n",
    "sample['CleanedTextNoStem']=final_string_2"
   ]
  },
  {
   "cell_type": "markdown",
   "metadata": {},
   "source": [
    "Save the cleaned text in a file for use later"
   ]
  },
  {
   "cell_type": "code",
   "execution_count": 15,
   "metadata": {},
   "outputs": [],
   "source": [
    "#pickle.dump(sample,open('cleaned_final.p','wb'))\n",
    "pd.to_pickle(sample,'cleaned_Text.pkl')"
   ]
  },
  {
   "cell_type": "code",
   "execution_count": 5,
   "metadata": {},
   "outputs": [],
   "source": [
    "testdf=pd.read_pickle('cleaned_Text.pkl')"
   ]
  },
  {
   "cell_type": "code",
   "execution_count": 6,
   "metadata": {},
   "outputs": [],
   "source": [
    "testdf.shape\n",
    "sample=testdf"
   ]
  },
  {
   "cell_type": "code",
   "execution_count": 7,
   "metadata": {},
   "outputs": [
    {
     "data": {
      "text/html": [
       "<div>\n",
       "<style scoped>\n",
       "    .dataframe tbody tr th:only-of-type {\n",
       "        vertical-align: middle;\n",
       "    }\n",
       "\n",
       "    .dataframe tbody tr th {\n",
       "        vertical-align: top;\n",
       "    }\n",
       "\n",
       "    .dataframe thead th {\n",
       "        text-align: right;\n",
       "    }\n",
       "</style>\n",
       "<table border=\"1\" class=\"dataframe\">\n",
       "  <thead>\n",
       "    <tr style=\"text-align: right;\">\n",
       "      <th></th>\n",
       "      <th>Id</th>\n",
       "      <th>ProductId</th>\n",
       "      <th>UserId</th>\n",
       "      <th>ProfileName</th>\n",
       "      <th>HelpfulnessNumerator</th>\n",
       "      <th>HelpfulnessDenominator</th>\n",
       "      <th>Score</th>\n",
       "      <th>Time</th>\n",
       "      <th>Summary</th>\n",
       "      <th>Text</th>\n",
       "      <th>CleanedText</th>\n",
       "      <th>CleanedTextNoStem</th>\n",
       "    </tr>\n",
       "  </thead>\n",
       "  <tbody>\n",
       "    <tr>\n",
       "      <th>138706</th>\n",
       "      <td>150524</td>\n",
       "      <td>0006641040</td>\n",
       "      <td>ACITT7DI6IDDL</td>\n",
       "      <td>shari zychinski</td>\n",
       "      <td>0</td>\n",
       "      <td>0</td>\n",
       "      <td>1</td>\n",
       "      <td>939340800</td>\n",
       "      <td>EVERY book is educational</td>\n",
       "      <td>this witty little book makes my son laugh at l...</td>\n",
       "      <td>b'witti littl book make son laugh loud recit c...</td>\n",
       "      <td>b'witty little book makes son laugh loud recit...</td>\n",
       "    </tr>\n",
       "  </tbody>\n",
       "</table>\n",
       "</div>"
      ],
      "text/plain": [
       "            Id   ProductId         UserId      ProfileName  \\\n",
       "138706  150524  0006641040  ACITT7DI6IDDL  shari zychinski   \n",
       "\n",
       "        HelpfulnessNumerator  HelpfulnessDenominator  Score       Time  \\\n",
       "138706                     0                       0      1  939340800   \n",
       "\n",
       "                          Summary  \\\n",
       "138706  EVERY book is educational   \n",
       "\n",
       "                                                     Text  \\\n",
       "138706  this witty little book makes my son laugh at l...   \n",
       "\n",
       "                                              CleanedText  \\\n",
       "138706  b'witti littl book make son laugh loud recit c...   \n",
       "\n",
       "                                        CleanedTextNoStem  \n",
       "138706  b'witty little book makes son laugh loud recit...  "
      ]
     },
     "execution_count": 7,
     "metadata": {},
     "output_type": "execute_result"
    }
   ],
   "source": [
    "#sample.head(1)\n",
    "sample.head(1)\n",
    "#sample['Score'].value_counts()"
   ]
  },
  {
   "cell_type": "markdown",
   "metadata": {},
   "source": [
    "### First using Bag of Words vectorizer"
   ]
  },
  {
   "cell_type": "code",
   "execution_count": 8,
   "metadata": {},
   "outputs": [],
   "source": [
    "#sort by time for time based splitting\n",
    "sample=sample.sort_values('Time', axis=0, ascending=True, inplace=False, kind='quicksort', na_position='last')"
   ]
  },
  {
   "cell_type": "code",
   "execution_count": 9,
   "metadata": {},
   "outputs": [],
   "source": [
    "from sklearn.model_selection import train_test_split\n",
    "\n",
    "x_train, x_test, y_train, y_test = train_test_split(sample['CleanedText'].values,sample['Score'].values,test_size=0.2,shuffle=False)\n"
   ]
  },
  {
   "cell_type": "markdown",
   "metadata": {},
   "source": [
    "### MultinomialNB for bag of words\n",
    "\n",
    "The Sklearn documentation for MultinomialNB reads:\n",
    "\n",
    "The multinomial Naive Bayes classifier is suitable for classification with discrete features (e.g., word counts for text classification). The multinomial distribution normally requires integer feature counts. However, in practice, fractional counts such as tf-idf may also work.\n",
    "\n",
    "So, we will use MultinomialNB for the BoW and Tf-Idf vectorizers"
   ]
  },
  {
   "cell_type": "code",
   "execution_count": 10,
   "metadata": {},
   "outputs": [
    {
     "name": "stdout",
     "output_type": "stream",
     "text": [
      "best parameter alpha {'alpha': 0.001}\n",
      "AUC score:  0.72\n",
      "Classification report  :-\n",
      "+--------------+-----------+--------+----------+----------+\n",
      "|    Label     | Precision | Recall | f1-Score | Support  |\n",
      "+--------------+-----------+--------+----------+----------+\n",
      "|      0       |    0.83   |  0.46  |   0.59   | 12535.00 |\n",
      "|      1       |    0.90   |  0.98  |   0.94   | 60300.00 |\n",
      "|  micro avg   |    0.89   |  0.89  |   0.89   | 72835.00 |\n",
      "|  macro avg   |    0.86   |  0.72  |   0.76   | 72835.00 |\n",
      "| weighted avg |    0.88   |  0.89  |   0.88   | 72835.00 |\n",
      "+--------------+-----------+--------+----------+----------+\n",
      "Confusion matrix  :-\n"
     ]
    },
    {
     "data": {
      "image/png": "[encoded data removed]",
      "text/plain": [
       "<Figure size 432x432 with 2 Axes>"
      ]
     },
     "metadata": {},
     "output_type": "display_data"
    }
   ],
   "source": [
    "#Using bigrams\n",
    "count_vect = CountVectorizer(ngram_range=(1,2))\n",
    "bag_of_words_train = count_vect.fit_transform(x_train)\n",
    "bag_of_words_test =  count_vect.transform(x_test)\n",
    "clf = MultinomialNB()\n",
    "tscv = TimeSeriesSplit(n_splits=10)\n",
    "paramsearch = GridSearchCV(clf, param_grid=dict(alpha=[0.1,0.01,0.0001,0.001]), n_jobs=1,cv=tscv,refit='AUC')\n",
    "paramsearch.fit(bag_of_words_train,y_train)\n",
    "print('best parameter alpha',paramsearch.best_params_)\n",
    "pred = paramsearch.predict(bag_of_words_test)\n",
    "\n",
    "bow_score = roc_auc_score(y_test,pred)\n",
    "print('AUC score: ',round(bow_score,2))\n",
    "print('Classification report  :-')\n",
    "bow_dict = metrics.classification_report(y_test,pred,output_dict=True)\n",
    "print_classif_report(bow_dict)\n",
    "print('Confusion matrix  :-')\n",
    "print_confusion_matrix(confusion_matrix(y_test, pred,labels=[1,0]), [1,0])\n",
    "\n",
    " \n"
   ]
  },
  {
   "cell_type": "code",
   "execution_count": 11,
   "metadata": {},
   "outputs": [
    {
     "name": "stdout",
     "output_type": "stream",
     "text": [
      "Negative class\n",
      "0 -4.8800468976267375 tast\n",
      "0 -4.963816425464492 like\n",
      "0 -5.135649424250467 product\n",
      "0 -5.412449914016955 one\n",
      "0 -5.442095175249078 flavor\n",
      "0 -5.558829135172392 would\n",
      "0 -5.5632713575348856 tri\n",
      "0 -5.726728443905287 good\n",
      "0 -5.744043046165492 coffe\n",
      "0 -5.753204734348433 use\n",
      " ************************************* \n",
      "Positive class\n",
      "1 -5.11142243986591 like\n",
      "1 -5.177334492768708 tast\n",
      "1 -5.318387223915307 good\n",
      "1 -5.334507627151305 flavor\n",
      "1 -5.373109914261352 love\n",
      "1 -5.39908355854879 great\n",
      "1 -5.4157182172197995 use\n",
      "1 -5.469133066293436 one\n",
      "1 -5.5543961705764495 product\n",
      "1 -5.576337167488662 tea\n"
     ]
    }
   ],
   "source": [
    "most_informative_feature(count_vect, paramsearch.best_estimator_)"
   ]
  },
  {
   "cell_type": "code",
   "execution_count": 12,
   "metadata": {},
   "outputs": [
    {
     "name": "stdout",
     "output_type": "stream",
     "text": [
      "best parameter alpha {'alpha': 0.1}\n",
      "AUC score:  0.82\n",
      "Classification report  :-\n",
      "+--------------+-----------+--------+----------+----------+\n",
      "|    Label     | Precision | Recall | f1-Score | Support  |\n",
      "+--------------+-----------+--------+----------+----------+\n",
      "|      0       |    0.68   |  0.71  |   0.69   | 12535.00 |\n",
      "|      1       |    0.94   |  0.93  |   0.93   | 60300.00 |\n",
      "|  micro avg   |    0.89   |  0.89  |   0.89   | 72835.00 |\n",
      "|  macro avg   |    0.81   |  0.82  |   0.81   | 72835.00 |\n",
      "| weighted avg |    0.89   |  0.89  |   0.89   | 72835.00 |\n",
      "+--------------+-----------+--------+----------+----------+\n",
      "Confusion matrix  :-\n"
     ]
    },
    {
     "data": {
      "image/png": "[encoded data removed]",
      "text/plain": [
       "<Figure size 432x432 with 2 Axes>"
      ]
     },
     "metadata": {},
     "output_type": "display_data"
    }
   ],
   "source": [
    "# Unigrams only\n",
    "count_vect = CountVectorizer()\n",
    "bag_of_words_train = count_vect.fit_transform(x_train)\n",
    "bag_of_words_test =  count_vect.transform(x_test)\n",
    "clf = MultinomialNB()\n",
    "tscv = TimeSeriesSplit(n_splits=10)\n",
    "paramsearch = GridSearchCV(clf, param_grid=dict(alpha=[0.1,0.01,0.0001,0.001]), n_jobs=1,cv=tscv,refit='AUC')\n",
    "paramsearch.fit(bag_of_words_train,y_train)\n",
    "print('best parameter alpha',paramsearch.best_params_)\n",
    "pred = paramsearch.predict(bag_of_words_test)\n",
    "\n",
    "bow_score = roc_auc_score(y_test,pred)\n",
    "print('AUC score: ',round(bow_score,2))\n",
    "print('Classification report  :-')\n",
    "bow_dict = metrics.classification_report(y_test,pred,output_dict=True)\n",
    "print_classif_report(bow_dict)\n",
    "print('Confusion matrix  :-')\n",
    "print_confusion_matrix(confusion_matrix(y_test, pred,labels=[1,0]), [1,0])\n",
    "\n",
    " \n"
   ]
  },
  {
   "cell_type": "code",
   "execution_count": 13,
   "metadata": {},
   "outputs": [
    {
     "name": "stdout",
     "output_type": "stream",
     "text": [
      "Negative class\n",
      "0 -4.201883950621312 tast\n",
      "0 -4.28565316477685 like\n",
      "0 -4.45748543171506 product\n",
      "0 -4.734284443219311 one\n",
      "0 -4.7639295204955285 flavor\n",
      "0 -4.880662700639093 would\n",
      "0 -4.885104891492071 tri\n",
      "0 -5.048560715492096 good\n",
      "0 -5.065875171544221 coffe\n",
      "0 -5.075036781333731 use\n",
      " ************************************* \n",
      "Positive class\n",
      "1 -4.432087704503532 like\n",
      "1 -4.4979996968417435 tast\n",
      "1 -4.6390522841553405 good\n",
      "1 -4.655172669623797 flavor\n",
      "1 -4.693774913004837 love\n",
      "1 -4.719748526904619 great\n",
      "1 -4.7363831656953135 use\n",
      "1 -4.789797948649529 one\n",
      "1 -4.875060939791135 product\n",
      "1 -4.897001905993831 tea\n"
     ]
    }
   ],
   "source": [
    "most_informative_feature(count_vect, paramsearch.best_estimator_)"
   ]
  },
  {
   "cell_type": "markdown",
   "metadata": {},
   "source": [
    "### BernoulliNB for BoW with binary = True\n",
    "\n",
    "The sklearn documentation for BernoulliNB reads: \n",
    "BernoulliNB is designed for binary/boolean features\n",
    "\n",
    "So, we will use the BernoulliNB classifier for the Bow using binary = True"
   ]
  },
  {
   "cell_type": "code",
   "execution_count": 14,
   "metadata": {},
   "outputs": [
    {
     "name": "stdout",
     "output_type": "stream",
     "text": [
      "AUC score: 0.7\n",
      "Classification report  :-\n",
      "+--------------+-----------+--------+----------+----------+\n",
      "|    Label     | Precision | Recall | f1-Score | Support  |\n",
      "+--------------+-----------+--------+----------+----------+\n",
      "|      0       |    0.87   |  0.41  |   0.55   | 12535.00 |\n",
      "|      1       |    0.89   |  0.99  |   0.94   | 60300.00 |\n",
      "|  micro avg   |    0.89   |  0.89  |   0.89   | 72835.00 |\n",
      "|  macro avg   |    0.88   |  0.70  |   0.74   | 72835.00 |\n",
      "| weighted avg |    0.88   |  0.89  |   0.87   | 72835.00 |\n",
      "+--------------+-----------+--------+----------+----------+\n",
      "Confusion matrix  :-\n"
     ]
    },
    {
     "data": {
      "image/png": "[encoded data removed]",
      "text/plain": [
       "<Figure size 432x432 with 2 Axes>"
      ]
     },
     "metadata": {},
     "output_type": "display_data"
    }
   ],
   "source": [
    "#including bigrams\n",
    "classifier = Pipeline([\n",
    "    ('Vectorizer', CountVectorizer(ngram_range=(1,2),binary=True)),\n",
    "    ('clf', GridSearchCV(BernoulliNB(), param_grid=dict(alpha=[0.1,0.01,0.0001,0.001]), n_jobs=1,cv=tscv,refit='AUC')    )\n",
    "])\n",
    "\n",
    "classifier.fit(x_train, y_train)\n",
    "predicted = classifier.predict(x_test)\n",
    "bow_score = roc_auc_score(y_test,predicted)\n",
    "print('AUC score:',round(bow_score,2))\n",
    "print('Classification report  :-')\n",
    "bow_dict = metrics.classification_report(y_test,predicted,output_dict=True)\n",
    "print_classif_report(bow_dict)\n",
    "print('Confusion matrix  :-')\n",
    "print_confusion_matrix(confusion_matrix(y_test, predicted,labels=[1,0]), [1,0])\n"
   ]
  },
  {
   "cell_type": "code",
   "execution_count": 15,
   "metadata": {},
   "outputs": [
    {
     "name": "stdout",
     "output_type": "stream",
     "text": [
      "AUC score: 0.79\n",
      "Classification report  :-\n",
      "+--------------+-----------+--------+----------+----------+\n",
      "|    Label     | Precision | Recall | f1-Score | Support  |\n",
      "+--------------+-----------+--------+----------+----------+\n",
      "|      0       |    0.67   |  0.65  |   0.66   | 12535.00 |\n",
      "|      1       |    0.93   |  0.93  |   0.93   | 60300.00 |\n",
      "|  micro avg   |    0.89   |  0.89  |   0.89   | 72835.00 |\n",
      "|  macro avg   |    0.80   |  0.79  |   0.80   | 72835.00 |\n",
      "| weighted avg |    0.88   |  0.89  |   0.89   | 72835.00 |\n",
      "+--------------+-----------+--------+----------+----------+\n",
      "Confusion matrix  :-\n"
     ]
    },
    {
     "data": {
      "image/png": "[encoded data removed]",
      "text/plain": [
       "<Figure size 432x432 with 2 Axes>"
      ]
     },
     "metadata": {},
     "output_type": "display_data"
    }
   ],
   "source": [
    "#including unigrams only\n",
    "classifier = Pipeline([\n",
    "    ('Vectorizer', CountVectorizer(binary=True)),\n",
    "    ('clf', GridSearchCV(BernoulliNB(), param_grid=dict(alpha=[0.1,0.01,0.0001,0.001]), n_jobs=-1,cv=tscv,refit='AUC')    )\n",
    "])\n",
    "\n",
    "classifier.fit(x_train, y_train)\n",
    "predicted = classifier.predict(x_test)\n",
    "bow_score = roc_auc_score(y_test,predicted)\n",
    "print('AUC score:',round(bow_score,2))\n",
    "print('Classification report  :-')\n",
    "bow_dict = metrics.classification_report(y_test,predicted,output_dict=True)\n",
    "print_classif_report(bow_dict)\n",
    "print('Confusion matrix  :-')\n",
    "print_confusion_matrix(confusion_matrix(y_test, predicted,labels=[1,0]), [1,0])\n"
   ]
  },
  {
   "cell_type": "markdown",
   "metadata": {},
   "source": [
    "### MultinomialNB for BoW including summary length as another feature"
   ]
  },
  {
   "cell_type": "code",
   "execution_count": 16,
   "metadata": {},
   "outputs": [
    {
     "name": "stdout",
     "output_type": "stream",
     "text": [
      "AUC score: 0.82\n",
      "Classification report  :-\n",
      "+--------------+-----------+--------+----------+----------+\n",
      "|    Label     | Precision | Recall | f1-Score | Support  |\n",
      "+--------------+-----------+--------+----------+----------+\n",
      "|      0       |    0.68   |  0.71  |   0.69   | 12535.00 |\n",
      "|      1       |    0.94   |  0.93  |   0.93   | 60300.00 |\n",
      "|  micro avg   |    0.89   |  0.89  |   0.89   | 72835.00 |\n",
      "|  macro avg   |    0.81   |  0.82  |   0.81   | 72835.00 |\n",
      "| weighted avg |    0.89   |  0.89  |   0.89   | 72835.00 |\n",
      "+--------------+-----------+--------+----------+----------+\n",
      "Confusion matrix  :-\n"
     ]
    },
    {
     "data": {
      "image/png": "[encoded data removed]",
      "text/plain": [
       "<Figure size 432x432 with 2 Axes>"
      ]
     },
     "metadata": {},
     "output_type": "display_data"
    }
   ],
   "source": [
    "#including summary length as another feature with unigram bow\n",
    "\n",
    "classifier = Pipeline([\n",
    "    ('features', FeatureUnion([\n",
    "        ('text', CountVectorizer()),\n",
    "        ('length', Pipeline([\n",
    "            ('count', FunctionTransformer(get_text_length, validate=False)),\n",
    "        ]))\n",
    "    ])),\n",
    "    ('clf', GridSearchCV(MultinomialNB(), param_grid=dict(alpha=[0.1,0.01,0.0001,0.001]), n_jobs=-1,cv=tscv,refit='AUC')    )\n",
    "])\n",
    "\n",
    "classifier.fit(x_train, y_train)\n",
    "predicted = classifier.predict(x_test)\n",
    "bow_score = roc_auc_score(y_test,predicted)\n",
    "print('AUC score:',round(bow_score,2))\n",
    "print('Classification report  :-')\n",
    "bow_dict = metrics.classification_report(y_test,predicted,output_dict=True)\n",
    "print_classif_report(bow_dict)\n",
    "print('Confusion matrix  :-')\n",
    "print_confusion_matrix(confusion_matrix(y_test, predicted,labels=[1,0]), [1,0])\n"
   ]
  },
  {
   "cell_type": "code",
   "execution_count": 17,
   "metadata": {},
   "outputs": [
    {
     "name": "stdout",
     "output_type": "stream",
     "text": [
      "AUC score: 0.72\n",
      "Classification report  :-\n",
      "+--------------+-----------+--------+----------+----------+\n",
      "|    Label     | Precision | Recall | f1-Score | Support  |\n",
      "+--------------+-----------+--------+----------+----------+\n",
      "|      0       |    0.83   |  0.46  |   0.59   | 12535.00 |\n",
      "|      1       |    0.90   |  0.98  |   0.94   | 60300.00 |\n",
      "|  micro avg   |    0.89   |  0.89  |   0.89   | 72835.00 |\n",
      "|  macro avg   |    0.86   |  0.72  |   0.76   | 72835.00 |\n",
      "| weighted avg |    0.89   |  0.89  |   0.88   | 72835.00 |\n",
      "+--------------+-----------+--------+----------+----------+\n",
      "Confusion matrix  :-\n"
     ]
    },
    {
     "data": {
      "image/png": "[encoded data removed]",
      "text/plain": [
       "<Figure size 432x432 with 2 Axes>"
      ]
     },
     "metadata": {},
     "output_type": "display_data"
    }
   ],
   "source": [
    "#including summary length as another feature with unigram/bigram bow\n",
    "\n",
    "classifier = Pipeline([\n",
    "    ('features', FeatureUnion([\n",
    "        ('text', CountVectorizer(ngram_range=(1,2))),\n",
    "        ('length', Pipeline([\n",
    "            ('count', FunctionTransformer(get_text_length, validate=False)),\n",
    "        ]))\n",
    "    ])),\n",
    "    ('clf', GridSearchCV(MultinomialNB(), param_grid=dict(alpha=[0.1,0.01,0.0001,0.001]), n_jobs=-1,cv=tscv,refit='AUC')    )\n",
    "])\n",
    "\n",
    "classifier.fit(x_train, y_train)\n",
    "predicted = classifier.predict(x_test)\n",
    "bow_score = roc_auc_score(y_test,predicted)\n",
    "print('AUC score:',round(bow_score,2))\n",
    "print('Classification report  :-')\n",
    "bow_dict = metrics.classification_report(y_test,predicted,output_dict=True)\n",
    "print_classif_report(bow_dict)\n",
    "print('Confusion matrix  :-')\n",
    "print_confusion_matrix(confusion_matrix(y_test, predicted,labels=[1,0]), [1,0])\n"
   ]
  },
  {
   "cell_type": "markdown",
   "metadata": {},
   "source": [
    "### BernoulliNB for BoW including summary length"
   ]
  },
  {
   "cell_type": "code",
   "execution_count": 18,
   "metadata": {},
   "outputs": [
    {
     "name": "stdout",
     "output_type": "stream",
     "text": [
      "AUC score: 0.79\n",
      "Classification report  :-\n",
      "+--------------+-----------+--------+----------+----------+\n",
      "|    Label     | Precision | Recall | f1-Score | Support  |\n",
      "+--------------+-----------+--------+----------+----------+\n",
      "|      0       |    0.67   |  0.65  |   0.66   | 12535.00 |\n",
      "|      1       |    0.93   |  0.93  |   0.93   | 60300.00 |\n",
      "|  micro avg   |    0.89   |  0.89  |   0.89   | 72835.00 |\n",
      "|  macro avg   |    0.80   |  0.79  |   0.80   | 72835.00 |\n",
      "| weighted avg |    0.88   |  0.89  |   0.89   | 72835.00 |\n",
      "+--------------+-----------+--------+----------+----------+\n",
      "Confusion matrix  :-\n"
     ]
    },
    {
     "data": {
      "image/png": "[encoded data removed]",
      "text/plain": [
       "<Figure size 432x432 with 2 Axes>"
      ]
     },
     "metadata": {},
     "output_type": "display_data"
    }
   ],
   "source": [
    "#including summary length as another feature with unigram bow\n",
    "\n",
    "classifier = Pipeline([\n",
    "    ('features', FeatureUnion([\n",
    "        ('text', CountVectorizer(binary=True)),\n",
    "        ('length', Pipeline([\n",
    "            ('count', FunctionTransformer(get_text_length, validate=False)),\n",
    "        ]))\n",
    "    ])),\n",
    "    ('clf', GridSearchCV(BernoulliNB(), param_grid=dict(alpha=[0.1,0.01,0.0001,0.001]), n_jobs=-1,cv=tscv,refit='AUC')    )\n",
    "])\n",
    "\n",
    "classifier.fit(x_train, y_train)\n",
    "predicted = classifier.predict(x_test)\n",
    "bow_score = roc_auc_score(y_test,predicted)\n",
    "print('AUC score:',round(bow_score,2))\n",
    "print('Classification report  :-')\n",
    "bow_dict = metrics.classification_report(y_test,predicted,output_dict=True)\n",
    "print_classif_report(bow_dict)\n",
    "print('Confusion matrix  :-')\n",
    "print_confusion_matrix(confusion_matrix(y_test, predicted,labels=[1,0]), [1,0])\n"
   ]
  },
  {
   "cell_type": "code",
   "execution_count": 19,
   "metadata": {},
   "outputs": [
    {
     "name": "stdout",
     "output_type": "stream",
     "text": [
      "AUC score: 0.7\n",
      "Classification report  :-\n",
      "+--------------+-----------+--------+----------+----------+\n",
      "|    Label     | Precision | Recall | f1-Score | Support  |\n",
      "+--------------+-----------+--------+----------+----------+\n",
      "|      0       |    0.87   |  0.41  |   0.55   | 12535.00 |\n",
      "|      1       |    0.89   |  0.99  |   0.94   | 60300.00 |\n",
      "|  micro avg   |    0.89   |  0.89  |   0.89   | 72835.00 |\n",
      "|  macro avg   |    0.88   |  0.70  |   0.74   | 72835.00 |\n",
      "| weighted avg |    0.88   |  0.89  |   0.87   | 72835.00 |\n",
      "+--------------+-----------+--------+----------+----------+\n",
      "Confusion matrix  :-\n"
     ]
    },
    {
     "data": {
      "image/png": "[encoded data removed]",
      "text/plain": [
       "<Figure size 432x432 with 2 Axes>"
      ]
     },
     "metadata": {},
     "output_type": "display_data"
    }
   ],
   "source": [
    "#including summary length as another feature with bigram bow\n",
    "\n",
    "classifier = Pipeline([\n",
    "    ('features', FeatureUnion([\n",
    "        ('text', CountVectorizer(binary=True,ngram_range=(1,2))),\n",
    "        ('length', Pipeline([\n",
    "            ('count', FunctionTransformer(get_text_length, validate=False)),\n",
    "        ]))\n",
    "    ])),\n",
    "    ('clf', GridSearchCV(BernoulliNB(), param_grid=dict(alpha=[0.1,0.01,0.0001,0.001]), n_jobs=-1,cv=tscv,refit='AUC')    )\n",
    "])\n",
    "\n",
    "classifier.fit(x_train, y_train)\n",
    "predicted = classifier.predict(x_test)\n",
    "bow_score = roc_auc_score(y_test,predicted)\n",
    "print('AUC score:',round(bow_score,2))\n",
    "print('Classification report  :-')\n",
    "bow_dict = metrics.classification_report(y_test,predicted,output_dict=True)\n",
    "print_classif_report(bow_dict)\n",
    "print('Confusion matrix  :-')\n",
    "print_confusion_matrix(confusion_matrix(y_test, predicted,labels=[1,0]), [1,0])\n"
   ]
  },
  {
   "cell_type": "markdown",
   "metadata": {},
   "source": [
    "### Summary for BoW vectorizer"
   ]
  },
  {
   "cell_type": "code",
   "execution_count": 33,
   "metadata": {},
   "outputs": [
    {
     "name": "stdout",
     "output_type": "stream",
     "text": [
      "+---------------+-------------+---------------------+------+\n",
      "|   Classifier  | Ngram_range | Length included Y/N | AUC  |\n",
      "+---------------+-------------+---------------------+------+\n",
      "| MultinomialNB |      1      |          N          | 0.82 |\n",
      "| MultinomialNB |     1,2     |          N          | 0.72 |\n",
      "|  BernoulliNB  |      1      |          N          | 0.79 |\n",
      "|  BernoulliNB  |     1,2     |          N          | 0.70 |\n",
      "| MultinomialNB |      1      |          Y          | 0.82 |\n",
      "| MultinomialNB |     1,2     |          Y          | 0.72 |\n",
      "|  BernoulliNB  |      1      |          Y          | 0.79 |\n",
      "|  BernoulliNB  |     1,2     |          Y          | 0.70 |\n",
      "+---------------+-------------+---------------------+------+\n"
     ]
    }
   ],
   "source": [
    "tab = PrettyTable()\n",
    "tab.field_names = [\"Classifier\",\"Ngram_range\",\"Length included Y/N\",\"AUC\"]\n",
    "list1=[\"MultinomialNB\",\"1\",\"N\",\"0.82\"]\n",
    "list2=[\"MultinomialNB\",\"1,2\",\"N\",\"0.72\"]\n",
    "list3=[\"BernoulliNB\",\"1\",\"N\",\"0.79\"]\n",
    "list4=[\"BernoulliNB\",\"1,2\",\"N\",\"0.70\"]\n",
    "list5=[\"MultinomialNB\",\"1\",\"Y\",\"0.82\"]\n",
    "list6=[\"MultinomialNB\",\"1,2\",\"Y\",\"0.72\"]\n",
    "list7=[\"BernoulliNB\",\"1\",\"Y\",\"0.79\"]\n",
    "list8=[\"BernoulliNB\",\"1,2\",\"Y\",\"0.70\"]\n",
    "tab.add_row(list1)\n",
    "tab.add_row(list2)\n",
    "tab.add_row(list3)\n",
    "tab.add_row(list4)\n",
    "tab.add_row(list5)\n",
    "tab.add_row(list6)\n",
    "tab.add_row(list7)\n",
    "tab.add_row(list8)\n",
    "print(tab) "
   ]
  },
  {
   "cell_type": "markdown",
   "metadata": {},
   "source": [
    "## Using TF-IDF Vectorizer"
   ]
  },
  {
   "cell_type": "markdown",
   "metadata": {},
   "source": [
    "### MultinomialNB for Tf-Idf"
   ]
  },
  {
   "cell_type": "code",
   "execution_count": 20,
   "metadata": {},
   "outputs": [
    {
     "name": "stdout",
     "output_type": "stream",
     "text": [
      "best parameter alpha {'alpha': 0.01}\n",
      "AUC score:  0.7\n",
      "Classification report  :-\n",
      "+--------------+-----------+--------+----------+----------+\n",
      "|    Label     | Precision | Recall | f1-Score | Support  |\n",
      "+--------------+-----------+--------+----------+----------+\n",
      "|      0       |    0.89   |  0.45  |   0.59   | 12535.00 |\n",
      "|      1       |    0.90   |  0.99  |   0.94   | 60300.00 |\n",
      "|  micro avg   |    0.90   |  0.90  |   0.90   | 72835.00 |\n",
      "|  macro avg   |    0.89   |  0.72  |   0.77   | 72835.00 |\n",
      "| weighted avg |    0.89   |  0.90  |   0.88   | 72835.00 |\n",
      "+--------------+-----------+--------+----------+----------+\n",
      "Confusion matrix  :-\n"
     ]
    },
    {
     "data": {
      "image/png": "[encoded data removed]",
      "text/plain": [
       "<Figure size 432x432 with 2 Axes>"
      ]
     },
     "metadata": {},
     "output_type": "display_data"
    }
   ],
   "source": [
    "#Using bigrams\n",
    "vect = TfidfVectorizer(ngram_range=(1,2))\n",
    "tfidf_train = vect.fit_transform(x_train)\n",
    "tfidf_test =  vect.transform(x_test)\n",
    "clf = MultinomialNB()\n",
    "tscv = TimeSeriesSplit(n_splits=10)\n",
    "paramsearch = GridSearchCV(clf, param_grid=dict(alpha=[0.1,0.01,0.0001,0.001]), n_jobs=-1,cv=tscv,refit='AUC')\n",
    "paramsearch.fit(tfidf_train,y_train)\n",
    "print('best parameter alpha',paramsearch.best_params_)\n",
    "pred = paramsearch.predict(tfidf_test)\n",
    "\n",
    "tfidf_score = roc_auc_score(y_test,pred)\n",
    "print('AUC score: ',round(bow_score,2))\n",
    "print('Classification report  :-')\n",
    "bow_dict = metrics.classification_report(y_test,pred,output_dict=True)\n",
    "print_classif_report(bow_dict)\n",
    "print('Confusion matrix  :-')\n",
    "print_confusion_matrix(confusion_matrix(y_test, pred,labels=[1,0]), [1,0])\n",
    "\n",
    " \n"
   ]
  },
  {
   "cell_type": "code",
   "execution_count": 21,
   "metadata": {},
   "outputs": [
    {
     "name": "stdout",
     "output_type": "stream",
     "text": [
      "Negative class\n",
      "0 -6.040811706230108 tast\n",
      "0 -6.1868466490712 like\n",
      "0 -6.235187611057945 product\n",
      "0 -6.5303156967672855 would\n",
      "0 -6.543245784093453 flavor\n",
      "0 -6.550234137932577 coffe\n",
      "0 -6.573393375897642 one\n",
      "0 -6.676125538980858 tri\n",
      "0 -6.701801620583285 buy\n",
      "0 -6.714604691431835 order\n",
      " ************************************* \n",
      "Positive class\n",
      "1 -6.233458549105974 great\n",
      "1 -6.240166090909289 love\n",
      "1 -6.283343936586439 tast\n",
      "1 -6.294478604170486 like\n",
      "1 -6.296617275202786 good\n",
      "1 -6.30330458512822 tea\n",
      "1 -6.352944767303246 flavor\n",
      "1 -6.377572180663797 coffe\n",
      "1 -6.465435544130965 use\n",
      "1 -6.4731957412418435 product\n"
     ]
    }
   ],
   "source": [
    "most_informative_feature(vect, paramsearch.best_estimator_)"
   ]
  },
  {
   "cell_type": "code",
   "execution_count": 22,
   "metadata": {},
   "outputs": [
    {
     "name": "stdout",
     "output_type": "stream",
     "text": [
      "best parameter alpha {'alpha': 0.01}\n",
      "AUC score:  0.7\n",
      "Classification report  :-\n",
      "+--------------+-----------+--------+----------+----------+\n",
      "|    Label     | Precision | Recall | f1-Score | Support  |\n",
      "+--------------+-----------+--------+----------+----------+\n",
      "|      0       |    0.86   |  0.27  |   0.41   | 12535.00 |\n",
      "|      1       |    0.87   |  0.99  |   0.92   | 60300.00 |\n",
      "|  micro avg   |    0.87   |  0.87  |   0.87   | 72835.00 |\n",
      "|  macro avg   |    0.86   |  0.63  |   0.67   | 72835.00 |\n",
      "| weighted avg |    0.87   |  0.87  |   0.84   | 72835.00 |\n",
      "+--------------+-----------+--------+----------+----------+\n",
      "Confusion matrix  :-\n"
     ]
    },
    {
     "data": {
      "image/png": "[encoded data removed]",
      "text/plain": [
       "<Figure size 432x432 with 2 Axes>"
      ]
     },
     "metadata": {},
     "output_type": "display_data"
    }
   ],
   "source": [
    "#Using unigrams only\n",
    "vect = TfidfVectorizer()\n",
    "tfidf_train = vect.fit_transform(x_train)\n",
    "tfidf_test =  vect.transform(x_test)\n",
    "clf = MultinomialNB()\n",
    "tscv = TimeSeriesSplit(n_splits=10)\n",
    "paramsearch = GridSearchCV(clf, param_grid=dict(alpha=[0.1,0.01,0.0001,0.001]), n_jobs=-1,cv=tscv,refit='AUC')\n",
    "paramsearch.fit(tfidf_train,y_train)\n",
    "print('best parameter alpha',paramsearch.best_params_)\n",
    "pred = paramsearch.predict(tfidf_test)\n",
    "\n",
    "tfidf_score = roc_auc_score(y_test,pred)\n",
    "print('AUC score: ',round(bow_score,2))\n",
    "print('Classification report  :-')\n",
    "bow_dict = metrics.classification_report(y_test,pred,output_dict=True)\n",
    "print_classif_report(bow_dict)\n",
    "print('Confusion matrix  :-')\n",
    "print_confusion_matrix(confusion_matrix(y_test, pred,labels=[1,0]), [1,0])\n",
    "\n",
    " \n"
   ]
  },
  {
   "cell_type": "code",
   "execution_count": 23,
   "metadata": {},
   "outputs": [
    {
     "name": "stdout",
     "output_type": "stream",
     "text": [
      "Negative class\n",
      "0 -4.827700924440859 tast\n",
      "0 -4.98304311269626 like\n",
      "0 -5.032820414074225 product\n",
      "0 -5.324277885474799 would\n",
      "0 -5.33804821537005 flavor\n",
      "0 -5.35029882505596 coffe\n",
      "0 -5.373064008992803 one\n",
      "0 -5.468950594973154 tri\n",
      "0 -5.488037157354664 buy\n",
      "0 -5.5072206776964 order\n",
      " ************************************* \n",
      "Positive class\n",
      "1 -5.066326748583313 great\n",
      "1 -5.078040832276059 love\n",
      "1 -5.13624816661096 tast\n",
      "1 -5.138636007571398 good\n",
      "1 -5.155970540844006 like\n",
      "1 -5.1853722526811765 tea\n",
      "1 -5.208311211159984 flavor\n",
      "1 -5.238632195756493 coffe\n",
      "1 -5.315379685926004 product\n",
      "1 -5.332929626037677 use\n"
     ]
    }
   ],
   "source": [
    "most_informative_feature(vect, paramsearch.best_estimator_)"
   ]
  },
  {
   "cell_type": "markdown",
   "metadata": {},
   "source": [
    "### MultinomialNB for Tf-Idf with summary length as additional feature"
   ]
  },
  {
   "cell_type": "code",
   "execution_count": 24,
   "metadata": {},
   "outputs": [
    {
     "name": "stdout",
     "output_type": "stream",
     "text": [
      "AUC score: 0.72\n",
      "Classification report  :-\n",
      "+--------------+-----------+--------+----------+----------+\n",
      "|    Label     | Precision | Recall | f1-Score | Support  |\n",
      "+--------------+-----------+--------+----------+----------+\n",
      "|      0       |    0.89   |  0.45  |   0.59   | 12535.00 |\n",
      "|      1       |    0.90   |  0.99  |   0.94   | 60300.00 |\n",
      "|  micro avg   |    0.90   |  0.90  |   0.90   | 72835.00 |\n",
      "|  macro avg   |    0.89   |  0.72  |   0.77   | 72835.00 |\n",
      "| weighted avg |    0.89   |  0.90  |   0.88   | 72835.00 |\n",
      "+--------------+-----------+--------+----------+----------+\n",
      "Confusion matrix  :-\n"
     ]
    },
    {
     "data": {
      "image/png": "[encoded data removed]",
      "text/plain": [
       "<Figure size 432x432 with 2 Axes>"
      ]
     },
     "metadata": {},
     "output_type": "display_data"
    }
   ],
   "source": [
    "#including summary length as another feature with bigram bow\n",
    "\n",
    "classifier = Pipeline([\n",
    "    ('features', FeatureUnion([\n",
    "        ('text', TfidfVectorizer(ngram_range=(1,2))),\n",
    "        ('length', Pipeline([\n",
    "            ('count', FunctionTransformer(get_text_length, validate=False)),\n",
    "        ]))\n",
    "    ])),\n",
    "    ('clf', GridSearchCV(MultinomialNB(), param_grid=dict(alpha=[0.1,0.01,0.0001,0.001]), n_jobs=-1,cv=tscv,refit='AUC')    )\n",
    "])\n",
    "\n",
    "classifier.fit(x_train, y_train)\n",
    "predicted = classifier.predict(x_test)\n",
    "bow_score = roc_auc_score(y_test,predicted)\n",
    "print('AUC score:',round(bow_score,2))\n",
    "print('Classification report  :-')\n",
    "bow_dict = metrics.classification_report(y_test,predicted,output_dict=True)\n",
    "print_classif_report(bow_dict)\n",
    "print('Confusion matrix  :-')\n",
    "print_confusion_matrix(confusion_matrix(y_test, predicted,labels=[1,0]), [1,0])\n"
   ]
  },
  {
   "cell_type": "code",
   "execution_count": 25,
   "metadata": {},
   "outputs": [
    {
     "name": "stdout",
     "output_type": "stream",
     "text": [
      "AUC score: 0.63\n",
      "Classification report  :-\n",
      "+--------------+-----------+--------+----------+----------+\n",
      "|    Label     | Precision | Recall | f1-Score | Support  |\n",
      "+--------------+-----------+--------+----------+----------+\n",
      "|      0       |    0.83   |  0.27  |   0.40   | 12535.00 |\n",
      "|      1       |    0.87   |  0.99  |   0.92   | 60300.00 |\n",
      "|  micro avg   |    0.86   |  0.86  |   0.86   | 72835.00 |\n",
      "|  macro avg   |    0.85   |  0.63  |   0.66   | 72835.00 |\n",
      "| weighted avg |    0.86   |  0.86  |   0.83   | 72835.00 |\n",
      "+--------------+-----------+--------+----------+----------+\n",
      "Confusion matrix  :-\n"
     ]
    },
    {
     "data": {
      "image/png": "[encoded data removed]",
      "text/plain": [
       "<Figure size 432x432 with 2 Axes>"
      ]
     },
     "metadata": {},
     "output_type": "display_data"
    }
   ],
   "source": [
    "#including summary length as another feature with unigram bow\n",
    "\n",
    "classifier = Pipeline([\n",
    "    ('features', FeatureUnion([\n",
    "        ('text', TfidfVectorizer()),\n",
    "        ('length', Pipeline([\n",
    "            ('count', FunctionTransformer(get_text_length, validate=False)),\n",
    "        ]))\n",
    "    ])),\n",
    "    ('clf', GridSearchCV(MultinomialNB(), param_grid=dict(alpha=[0.1,0.01,0.0001,0.001]), n_jobs=-1,cv=tscv,refit='AUC')    )\n",
    "])\n",
    "\n",
    "classifier.fit(x_train, y_train)\n",
    "predicted = classifier.predict(x_test)\n",
    "bow_score = roc_auc_score(y_test,predicted)\n",
    "print('AUC score:',round(bow_score,2))\n",
    "print('Classification report  :-')\n",
    "bow_dict = metrics.classification_report(y_test,predicted,output_dict=True)\n",
    "print_classif_report(bow_dict)\n",
    "print('Confusion matrix  :-')\n",
    "print_confusion_matrix(confusion_matrix(y_test, predicted,labels=[1,0]), [1,0])\n"
   ]
  },
  {
   "cell_type": "markdown",
   "metadata": {},
   "source": [
    "### Summary for Tf-Idf vectorizer"
   ]
  },
  {
   "cell_type": "code",
   "execution_count": 40,
   "metadata": {},
   "outputs": [
    {
     "name": "stdout",
     "output_type": "stream",
     "text": [
      "+---------------+-------------+---------------------+------+\n",
      "|   Classifier  | Ngram_range | Length included Y/N | AUC  |\n",
      "+---------------+-------------+---------------------+------+\n",
      "| MultinomialNB |      1      |          N          | 0.70 |\n",
      "| MultinomialNB |     1,2     |          N          | 0.70 |\n",
      "| MultinomialNB |      1      |          Y          | 0.72 |\n",
      "| MultinomialNB |     1,2     |          Y          | 0.63 |\n",
      "+---------------+-------------+---------------------+------+\n"
     ]
    }
   ],
   "source": [
    "tab = PrettyTable()\n",
    "tab.field_names = [\"Classifier\",\"Ngram_range\",\"Length included Y/N\",\"AUC\"]\n",
    "list1=[\"MultinomialNB\",\"1\",\"N\",\"0.70\"]\n",
    "list2=[\"MultinomialNB\",\"1,2\",\"N\",\"0.70\"]\n",
    "list3=[\"MultinomialNB\",\"1\",\"Y\",\"0.72\"]\n",
    "list4=[\"MultinomialNB\",\"1,2\",\"Y\",\"0.63\"]\n",
    "tab.add_row(list1)\n",
    "tab.add_row(list2)\n",
    "tab.add_row(list3)\n",
    "tab.add_row(list4)\n",
    "print(tab) "
   ]
  },
  {
   "cell_type": "code",
   "execution_count": null,
   "metadata": {},
   "outputs": [],
   "source": []
  }
 ],
 "metadata": {
  "kernelspec": {
   "display_name": "Python 3",
   "language": "python",
   "name": "python3"
  },
  "language_info": {
   "codemirror_mode": {
    "name": "ipython",
    "version": 3
   },
   "file_extension": ".py",
   "mimetype": "text/x-python",
   "name": "python",
   "nbconvert_exporter": "python",
   "pygments_lexer": "ipython3",
   "version": "3.6.5"
  }
 },
 "nbformat": 4,
 "nbformat_minor": 2
}
