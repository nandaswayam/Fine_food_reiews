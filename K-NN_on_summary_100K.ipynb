{
 "cells": [
  {
   "cell_type": "markdown",
   "metadata": {},
   "source": [
    "### K-Nearest Neighbours for Amazon fine food reviews for Bag of words, tf-idf, average word2vec, tf-idf weighted word2vec"
   ]
  },
  {
   "cell_type": "markdown",
   "metadata": {},
   "source": [
    "### The objective\n",
    "\n",
    "Given a text review, we have to predict whether the review represents positove sentiment or negative.\n",
    "In other words, we ahve to classify the review as 'Positive' or 'Negative'.\n",
    "We will use the Amazon fine food review dataset from Kaggle.com\n",
    "\n",
    "First, import all required libraries\n"
   ]
  },
  {
   "cell_type": "code",
   "execution_count": 1,
   "metadata": {},
   "outputs": [
    {
     "name": "stdout",
     "output_type": "stream",
     "text": [
      "Done\n",
      "Wall time: 40.5 s\n"
     ]
    }
   ],
   "source": [
    "%%time\n",
    "%matplotlib inline\n",
    "from datetime import datetime\n",
    "from sklearn.neighbors import KNeighborsClassifier\n",
    "from sklearn import metrics\n",
    "from sklearn.decomposition import TruncatedSVD\n",
    "import sqlite3\n",
    "import pandas as pd\n",
    "import numpy as np\n",
    "import nltk\n",
    "import pickle\n",
    "import string\n",
    "import matplotlib.pyplot as plt\n",
    "import seaborn as sns\n",
    "from sklearn.feature_extraction.text import TfidfTransformer\n",
    "from sklearn.feature_extraction.text import TfidfVectorizer\n",
    "from sklearn.model_selection import GridSearchCV\n",
    "from sklearn.neighbors import KNeighborsClassifier\n",
    "from sklearn.model_selection import TimeSeriesSplit\n",
    "from sklearn.feature_extraction.text import CountVectorizer\n",
    "from sklearn.metrics import confusion_matrix\n",
    "from sklearn.model_selection import train_test_split\n",
    "from sklearn import metrics\n",
    "from sklearn.metrics import roc_curve, auc,roc_auc_score\n",
    "from nltk.stem.porter import PorterStemmer\n",
    "import scipy\n",
    "import warnings\n",
    "warnings.filterwarnings('ignore')\n",
    "import gensim\n",
    "print('Done')"
   ]
  },
  {
   "cell_type": "code",
   "execution_count": 2,
   "metadata": {},
   "outputs": [],
   "source": [
    "from prettytable import PrettyTable\n",
    "#source: https://gist.github.com/shaypal5/94c53d765083101efc0240d776a23823\n",
    "\n",
    "def print_confusion_matrix(confusion_matrix, class_names, figsize = (6,6), fontsize=10):\n",
    "    \n",
    "    df_cm = pd.DataFrame(\n",
    "        confusion_matrix, index=class_names, columns=class_names, \n",
    "    )\n",
    "    fig = plt.figure(figsize=figsize)\n",
    "    try:\n",
    "        heatmap = sns.heatmap(df_cm, annot=True, fmt=\"d\")\n",
    "    except ValueError:\n",
    "        raise ValueError(\"Confusion matrix values must be integers.\")\n",
    "    heatmap.yaxis.set_ticklabels(heatmap.yaxis.get_ticklabels(), rotation=0, ha='right', fontsize=fontsize)\n",
    "    heatmap.xaxis.set_ticklabels(heatmap.xaxis.get_ticklabels(), rotation=45, ha='right', fontsize=fontsize)\n",
    "    plt.ylabel('True label')\n",
    "    plt.xlabel('Predicted label')\n",
    "    \n",
    "\n",
    "    \n",
    "def print_classif_report(input_dict):\n",
    "    tab = PrettyTable()\n",
    "    tab.field_names = [\"Label\",\"Precision\",\"Recall\",\"f1-Score\",\"Support\"]\n",
    "    list1=[]\n",
    "    for k,v in input_dict.items():\n",
    "        list1=[]\n",
    "        list1.append(k)\n",
    "        for i,j in v.items():\n",
    "            list1.append(\"{0:.2f}\".format(j))\n",
    "        \n",
    "        tab.add_row(list1)\n",
    "    print(tab)    "
   ]
  },
  {
   "cell_type": "code",
   "execution_count": 3,
   "metadata": {},
   "outputs": [],
   "source": [
    "#store the avg word2vec to disk as file for reuse later\n",
    "import pickle\n",
    "def load_from_file(file_name):\n",
    "    \n",
    "    with open(file_name, 'rb') as filehandle:  \n",
    "        # read the data as binary data stream\n",
    "        list1 = pickle.load(filehandle)\n",
    "        return list1\n",
    "    \n",
    "def dump_to_file(data,file_name):\n",
    "    with open(file_name, 'wb') as filehandle:  \n",
    "        # store the data as binary data stream\n",
    "        pickle.dump(data, filehandle)\n"
   ]
  },
  {
   "cell_type": "markdown",
   "metadata": {},
   "source": [
    "Read the data from database.\n",
    "We will not consider 3 star reviews as they are neutral (neither completely positive nor negative)"
   ]
  },
  {
   "cell_type": "code",
   "execution_count": 30,
   "metadata": {},
   "outputs": [],
   "source": [
    "# using the SQLite Table to read data.\n",
    "con = sqlite3.connect('./database.sqlite') \n",
    "\n",
    "#filtering only positive and negative reviews i.e. \n",
    "# not taking into consideration those reviews with Score=3 as they are neutral\n",
    "\n",
    "filtered_data = pd.read_sql_query(\"\"\"\n",
    "SELECT *\n",
    "FROM Reviews\n",
    "WHERE Score != 3\n",
    "\"\"\", con) \n",
    "\n",
    "#Function to map reviews with Score>3 to a positive rating, and reviews with a score<3 to a negative rating.\n",
    "def partition(x):\n",
    "    if x < 3:\n",
    "        return 0\n",
    "    return 1\n",
    "#changing reviews with score less than 3 to be positive and vice-versa\n",
    "\n",
    "filtered_data['Score'] = filtered_data['Score'].map(partition)"
   ]
  },
  {
   "cell_type": "markdown",
   "metadata": {},
   "source": [
    "Check the sample data"
   ]
  },
  {
   "cell_type": "code",
   "execution_count": 31,
   "metadata": {},
   "outputs": [
    {
     "data": {
      "text/html": [
       "<div>\n",
       "<style scoped>\n",
       "    .dataframe tbody tr th:only-of-type {\n",
       "        vertical-align: middle;\n",
       "    }\n",
       "\n",
       "    .dataframe tbody tr th {\n",
       "        vertical-align: top;\n",
       "    }\n",
       "\n",
       "    .dataframe thead th {\n",
       "        text-align: right;\n",
       "    }\n",
       "</style>\n",
       "<table border=\"1\" class=\"dataframe\">\n",
       "  <thead>\n",
       "    <tr style=\"text-align: right;\">\n",
       "      <th></th>\n",
       "      <th>Id</th>\n",
       "      <th>ProductId</th>\n",
       "      <th>UserId</th>\n",
       "      <th>ProfileName</th>\n",
       "      <th>HelpfulnessNumerator</th>\n",
       "      <th>HelpfulnessDenominator</th>\n",
       "      <th>Score</th>\n",
       "      <th>Time</th>\n",
       "      <th>Summary</th>\n",
       "      <th>Text</th>\n",
       "    </tr>\n",
       "  </thead>\n",
       "  <tbody>\n",
       "    <tr>\n",
       "      <th>0</th>\n",
       "      <td>1</td>\n",
       "      <td>B001E4KFG0</td>\n",
       "      <td>A3SGXH7AUHU8GW</td>\n",
       "      <td>delmartian</td>\n",
       "      <td>1</td>\n",
       "      <td>1</td>\n",
       "      <td>1</td>\n",
       "      <td>1303862400</td>\n",
       "      <td>Good Quality Dog Food</td>\n",
       "      <td>I have bought several of the Vitality canned d...</td>\n",
       "    </tr>\n",
       "  </tbody>\n",
       "</table>\n",
       "</div>"
      ],
      "text/plain": [
       "   Id   ProductId          UserId ProfileName  HelpfulnessNumerator  \\\n",
       "0   1  B001E4KFG0  A3SGXH7AUHU8GW  delmartian                     1   \n",
       "\n",
       "   HelpfulnessDenominator  Score        Time                Summary  \\\n",
       "0                       1      1  1303862400  Good Quality Dog Food   \n",
       "\n",
       "                                                Text  \n",
       "0  I have bought several of the Vitality canned d...  "
      ]
     },
     "execution_count": 31,
     "metadata": {},
     "output_type": "execute_result"
    }
   ],
   "source": [
    "filtered_data.head(1)"
   ]
  },
  {
   "cell_type": "code",
   "execution_count": 6,
   "metadata": {},
   "outputs": [
    {
     "data": {
      "text/plain": [
       "1    443777\n",
       "0     82037\n",
       "Name: Score, dtype: int64"
      ]
     },
     "execution_count": 6,
     "metadata": {},
     "output_type": "execute_result"
    }
   ],
   "source": [
    "filtered_data['Score'].value_counts()"
   ]
  },
  {
   "cell_type": "markdown",
   "metadata": {},
   "source": [
    "The data is heavily imbalanced with the number of positive reviews far surpassing the number of negative reviews.\n",
    "\n",
    "Now, let us Sort the data by productid"
   ]
  },
  {
   "cell_type": "code",
   "execution_count": 32,
   "metadata": {},
   "outputs": [],
   "source": [
    "sorted_data=filtered_data.sort_values('ProductId', axis=0, ascending=True, inplace=False, kind='quicksort', na_position='last')"
   ]
  },
  {
   "cell_type": "markdown",
   "metadata": {},
   "source": [
    "If multiple reviews are present by same user and profilename at the same time and with same text, remove duplicates "
   ]
  },
  {
   "cell_type": "code",
   "execution_count": 33,
   "metadata": {},
   "outputs": [
    {
     "data": {
      "text/plain": [
       "(364173, 10)"
      ]
     },
     "execution_count": 33,
     "metadata": {},
     "output_type": "execute_result"
    }
   ],
   "source": [
    "#Remove duplicate reviews by same user at same time\n",
    "final=sorted_data.drop_duplicates(subset={\"UserId\",\"ProfileName\",\"Time\",\"Text\"}, keep='first', inplace=False)\n",
    "final.shape"
   ]
  },
  {
   "cell_type": "markdown",
   "metadata": {},
   "source": [
    "Remove rows where helpfulness denominator is greater than helpfulness numerator"
   ]
  },
  {
   "cell_type": "code",
   "execution_count": 34,
   "metadata": {},
   "outputs": [
    {
     "data": {
      "text/plain": [
       "(364171, 10)"
      ]
     },
     "execution_count": 34,
     "metadata": {},
     "output_type": "execute_result"
    }
   ],
   "source": [
    "#Keep only those records where HelpfulnessNumerator is less than or equal to HelpfulnessDenominator\n",
    "final=final[final.HelpfulnessNumerator<=final.HelpfulnessDenominator]\n",
    "final.shape"
   ]
  },
  {
   "cell_type": "markdown",
   "metadata": {},
   "source": [
    "Function to clean the sentences.\n",
    "The function will remove html tags and punctuation marks from the input text and return cleaned text."
   ]
  },
  {
   "cell_type": "code",
   "execution_count": 10,
   "metadata": {},
   "outputs": [
    {
     "name": "stdout",
     "output_type": "stream",
     "text": [
      "{'him', 'from', 'his', \"isn't\", 'has', 'their', 'themselves', 'hasn', 'through', 'shouldn', 'having', \"shouldn't\", 'were', 'when', 'can', 'will', \"wouldn't\", 'doing', 'ours', 'be', 'should', 'had', 'than', 'of', 'its', 'other', \"should've\", 'most', 'mightn', 'those', 'do', 'm', \"weren't\", \"shan't\", 'have', 'you', 'o', 'the', 'while', 'her', 'hers', 'couldn', 've', 'does', 'or', 'aren', 'won', 'is', 'are', 'above', 'over', 'where', 'wasn', 'here', \"you'd\", 'after', 'as', 'that', 'out', 'during', 're', 'did', 'how', 'yours', 'being', 'isn', 'by', 'i', 'yourself', 'weren', 'some', 'so', 'under', 'in', 'll', 'yourselves', 'further', 'own', 'she', \"don't\", \"you're\", \"that'll\", 'this', 'against', 'haven', 'ma', 'myself', 'wouldn', 'nor', 'same', \"won't\", 'don', 'on', 'ourselves', 'all', 'doesn', 'until', \"needn't\", 'ain', 'hadn', 'himself', \"haven't\", 'they', \"couldn't\", 'he', 'our', 'why', \"you've\", 'them', 'now', 'no', 'only', 'who', 'both', 'what', 'it', 'down', 'been', 'once', 'any', 'below', 'with', \"doesn't\", 'whom', \"wasn't\", 'your', \"mustn't\", 's', \"she's\", 'mustn', 'y', 'too', 'but', 'between', 'itself', 't', 'into', 'then', \"hadn't\", 'am', 'needn', 'not', 'at', \"aren't\", 'and', \"it's\", \"mightn't\", 'shan', 'there', 'each', 'again', 'before', 'theirs', 'more', 'a', 'which', 'didn', 'to', 'my', 'these', 'was', 'off', \"you'll\", 'for', 'up', 'herself', 'such', 'because', 'just', 'an', 'about', 'very', 'me', 'if', \"didn't\", 'we', 'few', 'd', \"hasn't\"}\n"
     ]
    }
   ],
   "source": [
    "import re\n",
    "import string\n",
    "from nltk.corpus import stopwords\n",
    "\n",
    "stop = set(stopwords.words('english')) #set of stopwords\n",
    "sno = nltk.stem.SnowballStemmer('english') #initialising the snowball stemmer\n",
    "print(stop)\n",
    "def cleansentence(sentence): #function to clean the word of any html-tags\n",
    "    cleanr = re.compile('<.*?>')\n",
    "    cleantext = re.sub(cleanr, ' ', sentence)\n",
    "    cleantext = re.sub(r'[?|!|\\'|\"|#]',r'',cleantext)\n",
    "    cleantext = re.sub(r'[.|,|)|(|\\|/|-|+|;|&]',r' ',cleantext)\n",
    "    return  cleantext\n"
   ]
  },
  {
   "cell_type": "markdown",
   "metadata": {},
   "source": [
    "Sort by time for time based splitting"
   ]
  },
  {
   "cell_type": "code",
   "execution_count": 48,
   "metadata": {},
   "outputs": [],
   "source": [
    "sample=final.sort_values('Time', axis=0, ascending=True, inplace=False, kind='quicksort', na_position='last')\n",
    "sample=sample[:100000]"
   ]
  },
  {
   "cell_type": "markdown",
   "metadata": {},
   "source": [
    "Cleaning the review text by using above written function.\n",
    "Also performing the stemming procedure to reduce the words to their base stem forms.\n",
    "Cleaned text will be stored in separate column.\n",
    "For tf-idf weighted word2vec, we are storing non-stemmed clean review text in another column."
   ]
  },
  {
   "cell_type": "code",
   "execution_count": 49,
   "metadata": {},
   "outputs": [],
   "source": [
    "i=0\n",
    "str1=' '\n",
    "str2=' '\n",
    "final_string=[]\n",
    "final_string_2=[]\n",
    "all_positive_words=[] # store words from +ve reviews here\n",
    "all_negative_words=[] # store words from -ve reviews here.\n",
    "s=''\n",
    "s1=''\n",
    "for sent in sample['Summary'].values:\n",
    "    filtered_sentence=[]\n",
    "    filtered_nostem = []\n",
    "    #print(sent);\n",
    "    sent=cleansentence(sent) # remove HTMl tags\n",
    "    for w in sent.split():\n",
    "        if((w.isalpha()) & (len(w)>2)):    \n",
    "                if(w.lower() not in stop):\n",
    "                    s=(sno.stem(w.lower())).encode('utf8')\n",
    "                    s1 = (w.lower()).encode('utf8')\n",
    "                    filtered_sentence.append(s)\n",
    "                    filtered_nostem.append(s1)\n",
    "                    \n",
    "                else:\n",
    "                    continue\n",
    "        else:\n",
    "                continue \n",
    "    #print(filtered_sentence)\n",
    "    str1 = b\" \".join(filtered_sentence) #final string of cleaned words\n",
    "    str2 = b\" \".join(filtered_nostem) #final string of cleaned words\n",
    "    #print(\"***********************************************************************\")\n",
    "    \n",
    "    final_string.append(str1)\n",
    "    final_string_2.append(str2)\n",
    "    i+=1"
   ]
  },
  {
   "cell_type": "code",
   "execution_count": 50,
   "metadata": {},
   "outputs": [],
   "source": [
    "#adding a column named CleanedText which displays the data after pre-processing of the review \n",
    "sample['CleanedSummary']=final_string\n",
    "sample['CleanedSummaryNoStem']=final_string_2"
   ]
  },
  {
   "cell_type": "code",
   "execution_count": 51,
   "metadata": {},
   "outputs": [],
   "source": [
    "import pickle"
   ]
  },
  {
   "cell_type": "markdown",
   "metadata": {},
   "source": [
    "Save the cleaned text in a file for use later"
   ]
  },
  {
   "cell_type": "code",
   "execution_count": 52,
   "metadata": {},
   "outputs": [],
   "source": [
    "#pickle.dump(sample,open('cleaned_final.p','wb'))\n",
    "pd.to_pickle(sample,'cleaned_summary.pkl')"
   ]
  },
  {
   "cell_type": "code",
   "execution_count": 53,
   "metadata": {},
   "outputs": [],
   "source": [
    "testdf=pd.read_pickle('cleaned_summary.pkl')"
   ]
  },
  {
   "cell_type": "code",
   "execution_count": 54,
   "metadata": {},
   "outputs": [],
   "source": [
    "sample=testdf\n",
    "#filtered_data=testdf"
   ]
  },
  {
   "cell_type": "code",
   "execution_count": 55,
   "metadata": {},
   "outputs": [
    {
     "data": {
      "text/html": [
       "<div>\n",
       "<style scoped>\n",
       "    .dataframe tbody tr th:only-of-type {\n",
       "        vertical-align: middle;\n",
       "    }\n",
       "\n",
       "    .dataframe tbody tr th {\n",
       "        vertical-align: top;\n",
       "    }\n",
       "\n",
       "    .dataframe thead th {\n",
       "        text-align: right;\n",
       "    }\n",
       "</style>\n",
       "<table border=\"1\" class=\"dataframe\">\n",
       "  <thead>\n",
       "    <tr style=\"text-align: right;\">\n",
       "      <th></th>\n",
       "      <th>Id</th>\n",
       "      <th>ProductId</th>\n",
       "      <th>UserId</th>\n",
       "      <th>ProfileName</th>\n",
       "      <th>HelpfulnessNumerator</th>\n",
       "      <th>HelpfulnessDenominator</th>\n",
       "      <th>Score</th>\n",
       "      <th>Time</th>\n",
       "      <th>Summary</th>\n",
       "      <th>Text</th>\n",
       "      <th>CleanedSummary</th>\n",
       "      <th>CleanedSummaryNoStem</th>\n",
       "    </tr>\n",
       "  </thead>\n",
       "  <tbody>\n",
       "    <tr>\n",
       "      <th>138706</th>\n",
       "      <td>150524</td>\n",
       "      <td>0006641040</td>\n",
       "      <td>ACITT7DI6IDDL</td>\n",
       "      <td>shari zychinski</td>\n",
       "      <td>0</td>\n",
       "      <td>0</td>\n",
       "      <td>1</td>\n",
       "      <td>939340800</td>\n",
       "      <td>EVERY book is educational</td>\n",
       "      <td>this witty little book makes my son laugh at l...</td>\n",
       "      <td>b'everi book educ'</td>\n",
       "      <td>b'every book educational'</td>\n",
       "    </tr>\n",
       "  </tbody>\n",
       "</table>\n",
       "</div>"
      ],
      "text/plain": [
       "            Id   ProductId         UserId      ProfileName  \\\n",
       "138706  150524  0006641040  ACITT7DI6IDDL  shari zychinski   \n",
       "\n",
       "        HelpfulnessNumerator  HelpfulnessDenominator  Score       Time  \\\n",
       "138706                     0                       0      1  939340800   \n",
       "\n",
       "                          Summary  \\\n",
       "138706  EVERY book is educational   \n",
       "\n",
       "                                                     Text      CleanedSummary  \\\n",
       "138706  this witty little book makes my son laugh at l...  b'everi book educ'   \n",
       "\n",
       "             CleanedSummaryNoStem  \n",
       "138706  b'every book educational'  "
      ]
     },
     "execution_count": 55,
     "metadata": {},
     "output_type": "execute_result"
    }
   ],
   "source": [
    "#sample.head(1)\n",
    "sample.head(1)\n",
    "#sample['Score'].value_counts()"
   ]
  },
  {
   "cell_type": "markdown",
   "metadata": {},
   "source": [
    "### First using Bag of Words vectorizer"
   ]
  },
  {
   "cell_type": "code",
   "execution_count": 56,
   "metadata": {},
   "outputs": [],
   "source": [
    "#sort by time for time based splitting\n",
    "sample=sample.sort_values('Time', axis=0, ascending=True, inplace=False, kind='quicksort', na_position='last')"
   ]
  },
  {
   "cell_type": "code",
   "execution_count": 58,
   "metadata": {},
   "outputs": [],
   "source": [
    "from sklearn.model_selection import train_test_split\n",
    "\n",
    "x_train1, x_test, y_train1, y_test = train_test_split(sample['CleanedSummary'].values,sample['Score'].values,test_size=0.2,shuffle=False)\n",
    "x_train, x_val, y_train, y_val = train_test_split(x_train1,y_train1,test_size=0.2,shuffle=False)"
   ]
  },
  {
   "cell_type": "code",
   "execution_count": 59,
   "metadata": {},
   "outputs": [
    {
     "name": "stdout",
     "output_type": "stream",
     "text": [
      "(64000, 656)\n",
      "(16000, 656)\n",
      "(20000, 656)\n"
     ]
    }
   ],
   "source": [
    "count_vect = CountVectorizer(ngram_range=(1,2),max_features=2000,min_df=50)\n",
    "bag_of_words_train = count_vect.fit_transform(x_train)\n",
    "bag_of_words_val =  count_vect.transform(x_val)\n",
    "bag_of_words_test =  count_vect.transform(x_test)\n",
    "\n",
    "print(bag_of_words_train.shape)\n",
    "print(bag_of_words_val.shape)\n",
    "print(bag_of_words_test.shape)\n"
   ]
  },
  {
   "cell_type": "markdown",
   "metadata": {},
   "source": [
    "Save the results into disk for reuse."
   ]
  },
  {
   "cell_type": "code",
   "execution_count": 60,
   "metadata": {},
   "outputs": [],
   "source": [
    "import scipy.sparse\n",
    "scipy.sparse.save_npz('bag_of_words_train_sum', bag_of_words_train)\n",
    "scipy.sparse.save_npz('bag_of_words_val_sum', bag_of_words_val)\n",
    "scipy.sparse.save_npz('bag_of_words_test_sum', bag_of_words_test)\n",
    "bag_of_words_val=scipy.sparse.load_npz('bag_of_words_val_sum.npz')\n",
    "bag_of_words_test=scipy.sparse.load_npz('bag_of_words_test_sum.npz')\n",
    "bag_of_words_train=scipy.sparse.load_npz('bag_of_words_train_sum.npz')"
   ]
  },
  {
   "cell_type": "markdown",
   "metadata": {},
   "source": [
    "### K-NN for bag of words"
   ]
  },
  {
   "cell_type": "code",
   "execution_count": 61,
   "metadata": {},
   "outputs": [
    {
     "name": "stdout",
     "output_type": "stream",
     "text": [
      "starting for k= 1\n",
      "starting for k= 4\n",
      "starting for k= 7\n",
      "starting for k= 10\n",
      "starting for k= 13\n",
      "starting for k= 16\n",
      "starting for k= 19\n",
      "starting for k= 22\n",
      "starting for k= 25\n",
      "starting for k= 28\n",
      "starting for k= 31\n",
      "starting for k= 34\n",
      "starting for k= 37\n",
      "starting for k= 40\n",
      "starting for k= 43\n",
      "starting for k= 46\n",
      "starting for k= 49\n",
      "starting for k= 52\n",
      "starting for k= 55\n",
      "starting for k= 58\n",
      "starting for k= 61\n",
      "starting for k= 64\n",
      "starting for k= 67\n",
      "starting for k= 70\n",
      "starting for k= 73\n",
      "starting for k= 76\n",
      "starting for k= 79\n",
      "starting for k= 82\n",
      "starting for k= 85\n",
      "starting for k= 88\n",
      "starting for k= 91\n",
      "starting for k= 94\n",
      "starting for k= 97\n"
     ]
    }
   ],
   "source": [
    "from sklearn.neighbors import KNeighborsClassifier\n",
    "from sklearn import metrics\n",
    "\n",
    "\n",
    "neighbors = range(1,100,3)\n",
    "\n",
    "#AUC=dict()\n",
    "scores=[]\n",
    "\n",
    "for num_neighbour in  neighbors:\n",
    "    print('starting for k=',num_neighbour)\n",
    "    knn = KNeighborsClassifier(n_neighbors = num_neighbour, algorithm='brute',n_jobs = -1) #first try brute algorithm\n",
    "    knn.fit(bag_of_words_train,y_train)\n",
    "    pred = knn.predict(bag_of_words_val)\n",
    "    #AUC[num_neighbour]=roc_auc_score(y_val,pred)\n",
    "    scores.append(roc_auc_score(y_val,pred))\n",
    "    \n",
    "   \n"
   ]
  },
  {
   "cell_type": "code",
   "execution_count": 62,
   "metadata": {},
   "outputs": [
    {
     "data": {
      "image/png": "[encoded data removed]",
      "text/plain": [
       "<Figure size 432x288 with 1 Axes>"
      ]
     },
     "metadata": {},
     "output_type": "display_data"
    },
    {
     "name": "stdout",
     "output_type": "stream",
     "text": [
      "optimal k is  4\n"
     ]
    }
   ],
   "source": [
    "plt.plot(neighbors, scores)\n",
    "plt.xlabel('Number of Neighbors K')\n",
    "plt.ylabel('AUC')\n",
    "plt.show() \n",
    "\n",
    "print('optimal k is ', neighbors[scores.index(max(scores))])\n"
   ]
  },
  {
   "cell_type": "code",
   "execution_count": 63,
   "metadata": {},
   "outputs": [
    {
     "name": "stdout",
     "output_type": "stream",
     "text": [
      "Classification report for k = 4 :-\n",
      "+--------------+-----------+--------+----------+----------+\n",
      "|    Label     | Precision | Recall | f1-Score | Support  |\n",
      "+--------------+-----------+--------+----------+----------+\n",
      "|      0       |    0.51   |  0.42  |   0.46   | 2674.00  |\n",
      "|      1       |    0.91   |  0.94  |   0.93   | 17326.00 |\n",
      "|  micro avg   |    0.87   |  0.87  |   0.87   | 20000.00 |\n",
      "|  macro avg   |    0.71   |  0.68  |   0.69   | 20000.00 |\n",
      "| weighted avg |    0.86   |  0.87  |   0.86   | 20000.00 |\n",
      "+--------------+-----------+--------+----------+----------+\n",
      "Confusion matrix for k = 4 :-\n"
     ]
    },
    {
     "data": {
      "image/png": "[encoded data removed]",
      "text/plain": [
       "<Figure size 432x432 with 2 Axes>"
      ]
     },
     "metadata": {},
     "output_type": "display_data"
    }
   ],
   "source": [
    "#test evaluation\n",
    "\n",
    "knn = KNeighborsClassifier(n_neighbors=4,algorithm = 'brute',n_jobs=-1)\n",
    "knn.fit(bag_of_words_train,y_train)\n",
    "pred = knn.predict(bag_of_words_test)\n",
    "bow_score = roc_auc_score(y_test,pred)\n",
    "print('Classification report for k = 4 :-')\n",
    "bow_dict = metrics.classification_report(y_test,pred,output_dict=True)\n",
    "print_classif_report(bow_dict)\n",
    "print('Confusion matrix for k = 4 :-')\n",
    "print_confusion_matrix(confusion_matrix(y_test, pred,labels=[1,0]), [1,0])"
   ]
  },
  {
   "cell_type": "markdown",
   "metadata": {},
   "source": [
    "# Using TF-IDF Vectorizer"
   ]
  },
  {
   "cell_type": "code",
   "execution_count": 64,
   "metadata": {},
   "outputs": [],
   "source": [
    "from sklearn.feature_extraction.text import TfidfVectorizer\n",
    "import scipy\n",
    "from scipy import sparse\n",
    "\n",
    "tfidf_vect = TfidfVectorizer(ngram_range=(1,2),min_df=50,max_features=2000)\n",
    "tfidf_train = tfidf_vect.fit_transform(x_train)\n",
    "\n",
    "tfidf_val =  tfidf_vect.transform(x_val) #use same vectorizer to transform test instances\n",
    "tfidf_test =  tfidf_vect.transform(x_test) #use same vectorizer to transform test instances\n",
    "\n",
    "#Store to disk for later reuse\n",
    "\n",
    "scipy.sparse.save_npz('tfidf_test_summary', tfidf_test)\n",
    "scipy.sparse.save_npz('tfidf_train_summary', tfidf_train)\n",
    "scipy.sparse.save_npz('tfidf_val_summary', tfidf_val)"
   ]
  },
  {
   "cell_type": "code",
   "execution_count": 65,
   "metadata": {},
   "outputs": [
    {
     "name": "stdout",
     "output_type": "stream",
     "text": [
      "starting for k= 1\n",
      "starting for k= 4\n",
      "starting for k= 7\n",
      "starting for k= 10\n",
      "starting for k= 13\n",
      "starting for k= 16\n",
      "starting for k= 19\n",
      "starting for k= 22\n",
      "starting for k= 25\n",
      "starting for k= 28\n",
      "starting for k= 31\n",
      "starting for k= 34\n",
      "starting for k= 37\n",
      "starting for k= 40\n",
      "starting for k= 43\n",
      "starting for k= 46\n",
      "starting for k= 49\n",
      "starting for k= 52\n",
      "starting for k= 55\n",
      "starting for k= 58\n",
      "starting for k= 61\n",
      "starting for k= 64\n",
      "starting for k= 67\n",
      "starting for k= 70\n",
      "starting for k= 73\n",
      "starting for k= 76\n",
      "starting for k= 79\n",
      "starting for k= 82\n",
      "starting for k= 85\n",
      "starting for k= 88\n",
      "starting for k= 91\n",
      "starting for k= 94\n",
      "starting for k= 97\n"
     ]
    },
    {
     "data": {
      "image/png": "[encoded data removed]",
      "text/plain": [
       "<Figure size 432x288 with 1 Axes>"
      ]
     },
     "metadata": {},
     "output_type": "display_data"
    },
    {
     "name": "stdout",
     "output_type": "stream",
     "text": [
      "optimal k is  4\n"
     ]
    }
   ],
   "source": [
    "neighbors = range(1,100,3)\n",
    "\n",
    "AUC=dict()\n",
    "scores=[]\n",
    "\n",
    "for num_neighbour in  neighbors:\n",
    "    print('starting for k=',num_neighbour)\n",
    "    knn = KNeighborsClassifier(n_neighbors = num_neighbour, algorithm='brute',n_jobs = -1) #first try brute algorithm\n",
    "    knn.fit(tfidf_train,y_train)\n",
    "    pred = knn.predict(tfidf_val)\n",
    "    #AUC[num_neighbour]=roc_auc_score(y_val,pred)\n",
    "    scores.append(roc_auc_score(y_val,pred))   \n",
    "    \n",
    "plt.plot(neighbors, scores)\n",
    "plt.xlabel('Number of Neighbors K')\n",
    "plt.ylabel('AUC')\n",
    "plt.show()\n",
    "\n",
    "print('optimal k is ', neighbors[scores.index(max(scores))])"
   ]
  },
  {
   "cell_type": "code",
   "execution_count": 66,
   "metadata": {},
   "outputs": [
    {
     "name": "stdout",
     "output_type": "stream",
     "text": [
      "Classification report for k = 4 :-\n",
      "+--------------+-----------+--------+----------+----------+\n",
      "|    Label     | Precision | Recall | f1-Score | Support  |\n",
      "+--------------+-----------+--------+----------+----------+\n",
      "|      0       |    0.50   |  0.40  |   0.45   | 2674.00  |\n",
      "|      1       |    0.91   |  0.94  |   0.92   | 17326.00 |\n",
      "|  micro avg   |    0.87   |  0.87  |   0.87   | 20000.00 |\n",
      "|  macro avg   |    0.70   |  0.67  |   0.68   | 20000.00 |\n",
      "| weighted avg |    0.86   |  0.87  |   0.86   | 20000.00 |\n",
      "+--------------+-----------+--------+----------+----------+\n",
      "Confusion matrix for k = 4 :-\n"
     ]
    },
    {
     "data": {
      "image/png": "[encoded data removed]",
      "text/plain": [
       "<Figure size 432x432 with 2 Axes>"
      ]
     },
     "metadata": {},
     "output_type": "display_data"
    }
   ],
   "source": [
    "#Test metrics for optimal K = 4\n",
    "\n",
    "knn = KNeighborsClassifier(n_neighbors=4,algorithm = 'brute')\n",
    "knn.fit(tfidf_train,y_train)\n",
    "pred = knn.predict(tfidf_test)\n",
    "tfidf_score = roc_auc_score(y_test,pred)\n",
    "print('Classification report for k = 4 :-')\n",
    "tfidf_dict = metrics.classification_report(y_test,pred,output_dict=True)\n",
    "print_classif_report(tfidf_dict )\n",
    "print('Confusion matrix for k = 4 :-')\n",
    "print_confusion_matrix(confusion_matrix(y_test, pred,labels=[1,0]), [1,0])"
   ]
  },
  {
   "cell_type": "markdown",
   "metadata": {},
   "source": [
    "## K-NN for average word2Vec"
   ]
  },
  {
   "cell_type": "code",
   "execution_count": 68,
   "metadata": {},
   "outputs": [],
   "source": [
    "from nltk.tokenize import word_tokenize\n",
    "\n",
    "train_list = [ [w.lower() for w in word_tokenize(clean_rev) if ((w not in stop) & (w.isalpha()) & (len(w)>2))] for clean_rev in [cleansentence(review) for review in sample['Summary'].values[:64000]]]\n",
    "val_list = [ [w.lower() for w in word_tokenize(clean_rev) if ((w not in stop) & (w.isalpha()) & (len(w)>2))] for clean_rev in [cleansentence(review) for review in sample['Summary'].values[64000:80000]]]\n",
    "test_list = [ [w.lower() for w in word_tokenize(clean_rev) if ((w not in stop) & (w.isalpha()) & (len(w)>2))] for clean_rev in [cleansentence(review) for review in sample['Summary'].values[80000:]]]\n"
   ]
  },
  {
   "cell_type": "code",
   "execution_count": 69,
   "metadata": {},
   "outputs": [],
   "source": [
    "dump_to_file(train_list,'train_list_sum.data')\n",
    "dump_to_file(val_list,'val_list_sum.data')\n",
    "dump_to_file(test_list,'test_list_sum.data')\n",
    "train_list = load_from_file('train_list_sum.data')\n",
    "val_list = load_from_file('val_list_sum.data')\n",
    "test_list = load_from_file('test_list_sum.data')"
   ]
  },
  {
   "cell_type": "code",
   "execution_count": 70,
   "metadata": {},
   "outputs": [
    {
     "name": "stdout",
     "output_type": "stream",
     "text": [
      "64000\n",
      "16000\n",
      "20000\n"
     ]
    }
   ],
   "source": [
    "print(len(train_list))\n",
    "print(len(val_list))\n",
    "print(len(test_list))"
   ]
  },
  {
   "cell_type": "markdown",
   "metadata": {},
   "source": [
    "### build the vocabulary"
   ]
  },
  {
   "cell_type": "code",
   "execution_count": 75,
   "metadata": {},
   "outputs": [],
   "source": [
    "w2v_model = gensim.models.Word2Vec(train_list,size=300)"
   ]
  },
  {
   "cell_type": "markdown",
   "metadata": {},
   "source": [
    "We can use the model to lookup similar words in the vocabulary for any given word."
   ]
  },
  {
   "cell_type": "code",
   "execution_count": 76,
   "metadata": {},
   "outputs": [
    {
     "name": "stdout",
     "output_type": "stream",
     "text": [
      "[('excellent', 0.9548468589782715), ('nice', 0.950774073600769), ('great', 0.9464091658592224), ('bad', 0.9332985877990723), ('wonderful', 0.9232945442199707), ('tasty', 0.916138768196106), ('high', 0.8982182145118713), ('fast', 0.8950527906417847), ('poor', 0.8897812366485596), ('fantastic', 0.8816142082214355)]\n",
      "******************************************************************************\n",
      "[('fast', 0.9796819686889648), ('poor', 0.9747181534767151), ('high', 0.9740766286849976), ('tasty', 0.9720447063446045), ('customer', 0.9697626829147339), ('shipping', 0.9688296318054199), ('convenient', 0.9671531915664673), ('expensive', 0.9663867950439453), ('worth', 0.9631091356277466), ('too', 0.9618775844573975)]\n"
     ]
    }
   ],
   "source": [
    "print(w2v_model.most_similar('good'))\n",
    "print('******************************************************************************')\n",
    "print(w2v_model.most_similar('bad'))"
   ]
  },
  {
   "cell_type": "code",
   "execution_count": 77,
   "metadata": {},
   "outputs": [],
   "source": [
    "avg_wt_vecs = []; # the avg-w2v for each sentence/review is stored in this list\n",
    "for sentence in train_list: # for each review/sentence\n",
    "    sent_vec = np.zeros(300) #initialize the vector for the sentence with all 50 components 0\n",
    "    cnt_words =0; # num of words with a valid vector in the sentence/review\n",
    "    for word in sentence: # for each word in a sentence; here sentence is a list of words\n",
    "        try:\n",
    "            vec = w2v_model.wv[word]\n",
    "            sent_vec += vec  #add each component of sentence vector with each component of word vector\n",
    "            cnt_words += 1   #count of words with vector in word2vec model incremented by 1 \n",
    "        except:\n",
    "            pass #word not present in word2vec model vocabulary\n",
    "    if(cnt_words!=0):\n",
    "        sent_vec /= cnt_words #each component of sentence vector has been divided by the count of words in the sentence \n",
    "    avg_wt_vecs.append(sent_vec) #append to list of sentence vectors "
   ]
  },
  {
   "cell_type": "code",
   "execution_count": 78,
   "metadata": {},
   "outputs": [
    {
     "name": "stdout",
     "output_type": "stream",
     "text": [
      "True\n",
      "False\n"
     ]
    }
   ],
   "source": [
    "print(np.isfinite(avg_wt_vecs).all())\n",
    "print(np.isnan(avg_wt_vecs).any())"
   ]
  },
  {
   "cell_type": "code",
   "execution_count": 79,
   "metadata": {},
   "outputs": [],
   "source": [
    "val_avg_wt_vecs = []; # the avg-w2v for each sentence/review is stored in this list\n",
    "\n",
    "for sentence in val_list: # for each review/sentence\n",
    "    sent_vec = np.zeros(300) #initialize the vector for the sentence with all 50 components 0\n",
    "    cnt_words =0; # num of words with a valid vector in the sentence/review\n",
    "    for word in sentence: # for each word in a sentence; here sentence is a list of words\n",
    "        try:\n",
    "            vec = w2v_model.wv[word]\n",
    "            sent_vec += vec  #add each component of sentence vector with each component of word vector\n",
    "            cnt_words += 1   #count of words with vector in word2vec model incremented by 1 \n",
    "        except:\n",
    "            pass #word not present in word2vec model vocabulary\n",
    "    \n",
    "    if (cnt_words!=0):\n",
    "        sent_vec /= cnt_words #each component of sentence vector has been divided by the count of words in the sentence \n",
    "    val_avg_wt_vecs.append(sent_vec) #append to list of sentence vectors\n",
    "    \n"
   ]
  },
  {
   "cell_type": "code",
   "execution_count": 80,
   "metadata": {},
   "outputs": [
    {
     "name": "stdout",
     "output_type": "stream",
     "text": [
      "True\n",
      "False\n"
     ]
    }
   ],
   "source": [
    "print(np.isfinite(val_avg_wt_vecs).all())\n",
    "print(np.isnan(val_avg_wt_vecs).any())"
   ]
  },
  {
   "cell_type": "code",
   "execution_count": 81,
   "metadata": {},
   "outputs": [],
   "source": [
    "test_avg_wt_vecs = []; # the avg-w2v for each sentence/review is stored in this list\n",
    "for sentence in test_list: # for each review/sentence\n",
    "    sent_vec = np.zeros(300) #initialize the vector for the sentence with all 50 components 0\n",
    "    cnt_words =0; # num of words with a valid vector in the sentence/review\n",
    "    for word in sentence: # for each word in a sentence; here sentence is a list of words\n",
    "        try:\n",
    "            vec = w2v_model.wv[word]\n",
    "            sent_vec += vec  #add each component of sentence vector with each component of word vector\n",
    "            cnt_words += 1   #count of words with vector in word2vec model incremented by 1 \n",
    "        except:\n",
    "            pass #word not present in word2vec model vocabulary\n",
    "    if(cnt_words!=0):\n",
    "        sent_vec /= cnt_words #each component of sentence vector has been divided by the count of words in the sentence \n",
    "    test_avg_wt_vecs.append(sent_vec) #append to list of sentence vectors"
   ]
  },
  {
   "cell_type": "code",
   "execution_count": 82,
   "metadata": {},
   "outputs": [
    {
     "name": "stdout",
     "output_type": "stream",
     "text": [
      "True\n",
      "False\n"
     ]
    }
   ],
   "source": [
    "print(np.isfinite(test_avg_wt_vecs).all())\n",
    "print(np.isnan(test_avg_wt_vecs).any())"
   ]
  },
  {
   "cell_type": "code",
   "execution_count": 83,
   "metadata": {},
   "outputs": [
    {
     "name": "stdout",
     "output_type": "stream",
     "text": [
      "16000\n",
      "20000\n",
      "64000\n"
     ]
    }
   ],
   "source": [
    "X_tr = avg_wt_vecs\n",
    "X_test = test_avg_wt_vecs\n",
    "X_val = val_avg_wt_vecs\n",
    "print(len(val_avg_wt_vecs))\n",
    "print(len(test_avg_wt_vecs))\n",
    "print(len(avg_wt_vecs))"
   ]
  },
  {
   "cell_type": "code",
   "execution_count": 84,
   "metadata": {},
   "outputs": [
    {
     "name": "stdout",
     "output_type": "stream",
     "text": [
      "starting for k= 1\n",
      "starting for k= 4\n",
      "starting for k= 7\n",
      "starting for k= 10\n",
      "starting for k= 13\n",
      "starting for k= 16\n",
      "starting for k= 19\n",
      "starting for k= 22\n",
      "starting for k= 25\n",
      "starting for k= 28\n",
      "starting for k= 31\n",
      "starting for k= 34\n",
      "starting for k= 37\n",
      "starting for k= 40\n",
      "starting for k= 43\n",
      "starting for k= 46\n",
      "starting for k= 49\n",
      "starting for k= 52\n",
      "starting for k= 55\n",
      "starting for k= 58\n",
      "starting for k= 61\n",
      "starting for k= 64\n",
      "starting for k= 67\n",
      "starting for k= 70\n",
      "starting for k= 73\n",
      "starting for k= 76\n",
      "starting for k= 79\n",
      "starting for k= 82\n",
      "starting for k= 85\n",
      "starting for k= 88\n",
      "starting for k= 91\n",
      "starting for k= 94\n",
      "starting for k= 97\n"
     ]
    },
    {
     "data": {
      "image/png": "[encoded data removed]",
      "text/plain": [
       "<Figure size 432x288 with 1 Axes>"
      ]
     },
     "metadata": {},
     "output_type": "display_data"
    },
    {
     "name": "stdout",
     "output_type": "stream",
     "text": [
      "optimal k is  4\n"
     ]
    }
   ],
   "source": [
    "neighbors = range(1,100,3)\n",
    "\n",
    "#AUC=dict()\n",
    "scores=[]\n",
    "\n",
    "for num_neighbour in  neighbors:\n",
    "    print('starting for k=',num_neighbour)\n",
    "    knn = KNeighborsClassifier(n_neighbors = num_neighbour, algorithm='brute',n_jobs = -1) #first try brute algorithm\n",
    "    knn.fit(X_tr,y_train)\n",
    "    pred = knn.predict(X_val)\n",
    "    #AUC[num_neighbour]=roc_auc_score(y_val,pred)\n",
    "    scores.append(roc_auc_score(y_val,pred))   \n",
    "    \n",
    "plt.plot(neighbors, scores)\n",
    "plt.xlabel('Number of Neighbors K')\n",
    "plt.ylabel('AUC')\n",
    "plt.show()\n",
    "\n",
    "print('optimal k is ', neighbors[scores.index(max(scores))])"
   ]
  },
  {
   "cell_type": "code",
   "execution_count": 85,
   "metadata": {},
   "outputs": [
    {
     "name": "stdout",
     "output_type": "stream",
     "text": [
      "Classification report for k = 4 :-\n",
      "+--------------+-----------+--------+----------+----------+\n",
      "|    Label     | Precision | Recall | f1-Score | Support  |\n",
      "+--------------+-----------+--------+----------+----------+\n",
      "|      0       |    0.52   |  0.46  |   0.49   | 2674.00  |\n",
      "|      1       |    0.92   |  0.94  |   0.93   | 17326.00 |\n",
      "|  micro avg   |    0.87   |  0.87  |   0.87   | 20000.00 |\n",
      "|  macro avg   |    0.72   |  0.70  |   0.71   | 20000.00 |\n",
      "| weighted avg |    0.87   |  0.87  |   0.87   | 20000.00 |\n",
      "+--------------+-----------+--------+----------+----------+\n",
      "Confusion matrix for k = 4 :-\n"
     ]
    },
    {
     "data": {
      "image/png": "[encoded data removed]",
      "text/plain": [
       "<Figure size 432x432 with 2 Axes>"
      ]
     },
     "metadata": {},
     "output_type": "display_data"
    }
   ],
   "source": [
    "#Test metrics for optimal K = 4\n",
    "knn = KNeighborsClassifier(n_neighbors=4,algorithm = 'brute',n_jobs = -1)\n",
    "knn.fit(X_tr,y_train)\n",
    "pred = knn.predict(X_test)\n",
    "avg_w2v_score = roc_auc_score(y_test,pred)\n",
    "print('Classification report for k = 4 :-')\n",
    "avg_w2v_dict = metrics.classification_report(y_test,pred,output_dict=True)\n",
    "print_classif_report(avg_w2v_dict )\n",
    "print('Confusion matrix for k = 4 :-')\n",
    "print_confusion_matrix(confusion_matrix(y_test, pred,labels=[1,0]), [1,0])"
   ]
  },
  {
   "cell_type": "markdown",
   "metadata": {},
   "source": [
    "Let us store the data to disk for reuse."
   ]
  },
  {
   "cell_type": "code",
   "execution_count": 86,
   "metadata": {},
   "outputs": [],
   "source": [
    "dump_to_file(avg_wt_vecs,'avg_wt_vecs_train_sum.data')\n",
    "dump_to_file(val_avg_wt_vecs,'val_avg_wt_vecs_sum.data')\n",
    "dump_to_file(test_avg_wt_vecs,'test_avg_wt_vecs_sum.data')\n",
    "avg_wt_vecs=load_from_file('avg_wt_vecs_train_sum.data')\n",
    "val_avg_wt_vecs=load_from_file('val_avg_wt_vecs_sum.data')\n",
    "test_avg_wt_vecs=load_from_file('test_avg_wt_vecs_sum.data')"
   ]
  },
  {
   "cell_type": "markdown",
   "metadata": {},
   "source": [
    "## K-NN for tf-idf weighted word2vec"
   ]
  },
  {
   "cell_type": "code",
   "execution_count": 87,
   "metadata": {},
   "outputs": [],
   "source": [
    "X_tr1, X_test, y_tr1, y_test = train_test_split(sample['CleanedSummaryNoStem'].values, sample['Score'].values, test_size=0.2,shuffle=False)\n",
    "X_tr, X_val, y_tr, y_val = train_test_split(X_tr1, y_tr1, test_size=0.2,shuffle=False)"
   ]
  },
  {
   "cell_type": "code",
   "execution_count": 89,
   "metadata": {},
   "outputs": [],
   "source": [
    "tfidf_vect = TfidfVectorizer(ngram_range=(1,2),max_features=2000,min_df=50)\n",
    "tfidf_train = tfidf_vect.fit_transform(X_tr)\n",
    "\n",
    "tfidf_test =  tfidf_vect.transform(X_test) #use same vectorizer to transform test instances\n",
    "tfidf_val =  tfidf_vect.transform(X_val) #use same vectorizer to transform test instances\n",
    "\n",
    "features = tfidf_vect.get_feature_names()\n",
    "#len(features)\n",
    "dict_feature={}\n",
    "idx=0\n",
    "for feature in features:\n",
    "    dict_feature[feature]=idx\n",
    "    idx += 1\n",
    "#len(features)"
   ]
  },
  {
   "cell_type": "code",
   "execution_count": 90,
   "metadata": {},
   "outputs": [],
   "source": [
    "index = 0\n",
    "tfidf_wt_vecs = []; # the tfidf-w2v for each sentence/review in train set is stored in this list\n",
    "for sentence in train_list: # for each review/sentence\n",
    "    \n",
    "    sent_vec = np.zeros(300) #initialize the vector for the sentence with all 50 components 0\n",
    "    sum_tfidf = 0;\n",
    "    for word in sentence: # for each word in a sentence; here sentence is a list of words\n",
    "        try:\n",
    "            vec = w2v_model.wv[word]\n",
    "            tfidf = tfidf_train[index,dict_feature.get(word)]\n",
    "            sent_vec += tfidf*vec  #add each component of sentence vector with each component of word vector\n",
    "            sum_tfidf +=  tfidf  #count of words with vector in word2vec model incremented by 1 \n",
    "        except:\n",
    "            pass #word not present in word2vec model vocabulary\n",
    "    \n",
    "    if sum_tfidf != 0:\n",
    "            sent_vec /= sum_tfidf #each component of sentence vector has been divided by the count of words in the sentence \n",
    "    \n",
    "       \n",
    "    tfidf_wt_vecs.append(sent_vec) #append to list of sentence vectors\n",
    "    \n",
    "    index += 1\n",
    "    "
   ]
  },
  {
   "cell_type": "code",
   "execution_count": 91,
   "metadata": {},
   "outputs": [
    {
     "name": "stdout",
     "output_type": "stream",
     "text": [
      "True\n",
      "False\n"
     ]
    }
   ],
   "source": [
    "print(np.isfinite(tfidf_wt_vecs).all())\n",
    "print(np.isnan(tfidf_wt_vecs).any())"
   ]
  },
  {
   "cell_type": "code",
   "execution_count": 92,
   "metadata": {},
   "outputs": [],
   "source": [
    "index = 0\n",
    "val_tfidf_wt_vecs = []; # the tfidf-w2v for each sentence/review in train set is stored in this list\n",
    "for sentence in val_list: # for each review/sentence\n",
    "    sent_vec = np.zeros(300) #initialize the vector for the sentence with all 50 components 0\n",
    "    sum_tfidf = 0;\n",
    "    for word in sentence: # for each word in a sentence; here sentence is a list of words\n",
    "        try:\n",
    "            vec = w2v_model.wv[word]\n",
    "            tfidf = tfidf_val[index,dict_feature.get(word)]\n",
    "            sent_vec += tfidf*vec  #add each component of sentence vector with each component of word vector\n",
    "            sum_tfidf +=  tfidf  #count of words with vector in word2vec model incremented by 1 \n",
    "        except:\n",
    "            pass #word not present in word2vec model vocabulary\n",
    "    if sum_tfidf !=0:\n",
    "        sent_vec /= sum_tfidf #each component of sentence vector has been divided by the count of words in the sentence \n",
    "    val_tfidf_wt_vecs.append(sent_vec) #append to list of sentence vectors\n",
    "    #if print(index,sent_vec,sum_tfidf)\n",
    "    index += 1\n",
    "    "
   ]
  },
  {
   "cell_type": "code",
   "execution_count": 93,
   "metadata": {},
   "outputs": [
    {
     "name": "stdout",
     "output_type": "stream",
     "text": [
      "True\n",
      "False\n"
     ]
    }
   ],
   "source": [
    "print(np.isfinite(val_tfidf_wt_vecs).all())\n",
    "print(np.isnan(val_tfidf_wt_vecs).any())"
   ]
  },
  {
   "cell_type": "code",
   "execution_count": 94,
   "metadata": {},
   "outputs": [],
   "source": [
    "index = 0\n",
    "test_tfidf_wt_vecs = []; # the tfidf-w2v for each sentence/review in train set is stored in this list\n",
    "for sentence in test_list: # for each review/sentence\n",
    "    sent_vec = np.zeros(300) #initialize the vector for the sentence with all 50 components 0\n",
    "    sum_tfidf = 0;\n",
    "    for word in sentence: # for each word in a sentence; here sentence is a list of words\n",
    "        try:\n",
    "            vec = w2v_model.wv[word]\n",
    "            tfidf = tfidf_test[index,dict_feature.get(word)]\n",
    "            sent_vec += tfidf*vec  #add each component of sentence vector with each component of word vector\n",
    "            sum_tfidf +=  tfidf  #count of words with vector in word2vec model incremented by 1 \n",
    "        except:\n",
    "            pass #word not present in word2vec model vocabulary\n",
    "    if sum_tfidf !=0:\n",
    "        sent_vec /= sum_tfidf #each component of sentence vector has been divided by the count of words in the sentence \n",
    "    test_tfidf_wt_vecs.append(sent_vec) #append to list of sentence vectors\n",
    "    #if print(index,sent_vec,sum_tfidf)\n",
    "    index += 1\n",
    "    "
   ]
  },
  {
   "cell_type": "code",
   "execution_count": 95,
   "metadata": {},
   "outputs": [
    {
     "name": "stdout",
     "output_type": "stream",
     "text": [
      "True\n",
      "False\n"
     ]
    }
   ],
   "source": [
    "print(np.isfinite(test_tfidf_wt_vecs).all())\n",
    "print(np.isnan(test_tfidf_wt_vecs).any())"
   ]
  },
  {
   "cell_type": "code",
   "execution_count": 98,
   "metadata": {},
   "outputs": [],
   "source": [
    "X_tr = tfidf_wt_vecs\n",
    "X_test = test_tfidf_wt_vecs\n",
    "X_val = val_tfidf_wt_vecs"
   ]
  },
  {
   "cell_type": "markdown",
   "metadata": {},
   "source": [
    "Store to disk for later use"
   ]
  },
  {
   "cell_type": "code",
   "execution_count": 96,
   "metadata": {},
   "outputs": [],
   "source": [
    "dump_to_file(test_tfidf_wt_vecs,'test_tfidf_wt_vecs_sum.data')\n",
    "dump_to_file(tfidf_wt_vecs,'tfidf_wt_vecs_sum.data')\n",
    "dump_to_file(val_tfidf_wt_vecs,'val_tfidf_wt_vecs_sum.data')\n",
    "tfidf_wt_vecs = load_from_file('tfidf_wt_vecs_sum.data')\n",
    "val_tfidf_wt_vecs = load_from_file('val_tfidf_wt_vecs_sum.data')\n",
    "test_tfidf_wt_vecs = load_from_file('test_tfidf_wt_vecs_sum.data')"
   ]
  },
  {
   "cell_type": "code",
   "execution_count": 99,
   "metadata": {},
   "outputs": [
    {
     "name": "stdout",
     "output_type": "stream",
     "text": [
      "starting for k= 1\n",
      "starting for k= 4\n",
      "starting for k= 7\n",
      "starting for k= 10\n",
      "starting for k= 13\n",
      "starting for k= 16\n",
      "starting for k= 19\n",
      "starting for k= 22\n",
      "starting for k= 25\n",
      "starting for k= 28\n",
      "starting for k= 31\n",
      "starting for k= 34\n",
      "starting for k= 37\n",
      "starting for k= 40\n",
      "starting for k= 43\n",
      "starting for k= 46\n",
      "starting for k= 49\n",
      "starting for k= 52\n",
      "starting for k= 55\n",
      "starting for k= 58\n",
      "starting for k= 61\n",
      "starting for k= 64\n",
      "starting for k= 67\n",
      "starting for k= 70\n",
      "starting for k= 73\n",
      "starting for k= 76\n",
      "starting for k= 79\n",
      "starting for k= 82\n",
      "starting for k= 85\n",
      "starting for k= 88\n",
      "starting for k= 91\n",
      "starting for k= 94\n",
      "starting for k= 97\n"
     ]
    },
    {
     "data": {
      "image/png": "[encoded data removed]",
      "text/plain": [
       "<Figure size 432x288 with 1 Axes>"
      ]
     },
     "metadata": {},
     "output_type": "display_data"
    },
    {
     "name": "stdout",
     "output_type": "stream",
     "text": [
      "optimal k is  4\n"
     ]
    }
   ],
   "source": [
    "neighbors = range(1,100,3)\n",
    "\n",
    "#AUC=dict()\n",
    "scores=[]\n",
    "\n",
    "for num_neighbour in  neighbors:\n",
    "    print('starting for k=',num_neighbour)\n",
    "    knn = KNeighborsClassifier(n_neighbors = num_neighbour, algorithm='brute',n_jobs = -1) #first try brute algorithm\n",
    "    knn.fit(X_tr,y_train)\n",
    "    pred = knn.predict(X_val)\n",
    "    #AUC[num_neighbour]=roc_auc_score(y_val,pred)\n",
    "    scores.append(roc_auc_score(y_val,pred))   \n",
    "    \n",
    "plt.plot(neighbors, scores)\n",
    "plt.xlabel('Number of Neighbors K')\n",
    "plt.ylabel('AUC')\n",
    "plt.show()\n",
    "\n",
    "print('optimal k is ', neighbors[scores.index(max(scores))])"
   ]
  },
  {
   "cell_type": "code",
   "execution_count": 100,
   "metadata": {},
   "outputs": [
    {
     "name": "stdout",
     "output_type": "stream",
     "text": [
      "Classification report for k = 4 :-\n",
      "+--------------+-----------+--------+----------+----------+\n",
      "|    Label     | Precision | Recall | f1-Score | Support  |\n",
      "+--------------+-----------+--------+----------+----------+\n",
      "|      0       |    0.48   |  0.33  |   0.39   | 2674.00  |\n",
      "|      1       |    0.90   |  0.95  |   0.92   | 17326.00 |\n",
      "|  micro avg   |    0.86   |  0.86  |   0.86   | 20000.00 |\n",
      "|  macro avg   |    0.69   |  0.64  |   0.66   | 20000.00 |\n",
      "| weighted avg |    0.85   |  0.86  |   0.85   | 20000.00 |\n",
      "+--------------+-----------+--------+----------+----------+\n",
      "Confusion matrix for k = 4 :-\n"
     ]
    },
    {
     "data": {
      "image/png": "[encoded data removed]",
      "text/plain": [
       "<Figure size 432x432 with 2 Axes>"
      ]
     },
     "metadata": {},
     "output_type": "display_data"
    }
   ],
   "source": [
    "#Test metrics for optimal K = 4\n",
    "\n",
    "knn = KNeighborsClassifier(n_neighbors=4,algorithm = 'brute',n_jobs=-1)\n",
    "knn.fit(X_tr,y_train)\n",
    "pred = knn.predict(X_test)\n",
    "tf_w2v_score = roc_auc_score(y_test,pred)\n",
    "print('Classification report for k = 4 :-')\n",
    "dict1 = metrics.classification_report(y_test,pred,output_dict=True)\n",
    "print_classif_report(dict1 )\n",
    "print('Confusion matrix for k = 4 :-')\n",
    "print_confusion_matrix(confusion_matrix(y_test, pred,labels=[1,0]), [1,0])"
   ]
  },
  {
   "cell_type": "markdown",
   "metadata": {},
   "source": [
    "## Conclusion for brute force KNN:-\n",
    "\n",
    "The Test statistics for each vectorization is summarized in the below table."
   ]
  },
  {
   "cell_type": "code",
   "execution_count": 104,
   "metadata": {},
   "outputs": [
    {
     "name": "stdout",
     "output_type": "stream",
     "text": [
      "+--------------+---------------------------+------+\n",
      "|    Model     | Optimal Hyper-parameter K | AUC  |\n",
      "+--------------+---------------------------+------+\n",
      "|  BOW bigram  |             4             | 0.68 |\n",
      "| TFIDF bigram |             4             | 0.67 |\n",
      "|   Avg w2v    |             4             | 0.7  |\n",
      "|  TFIDF w2v   |             4             | 0.64 |\n",
      "+--------------+---------------------------+------+\n"
     ]
    }
   ],
   "source": [
    "tab = PrettyTable()\n",
    "tab.field_names = [\"Model\",\"Optimal Hyper-parameter K\",\"AUC\"]\n",
    "list1=[\"BOW bigram\",\"4\",round(bow_score,2)]\n",
    "list2=[\"TFIDF bigram\",\"4\",round(tfidf_score,2)]\n",
    "list3=[\"Avg w2v\",\"4\",round(avg_w2v_score,2)]\n",
    "list4=[\"TFIDF w2v\",\"4\",round(tf_w2v_score,2)]\n",
    "tab.add_row(list1)\n",
    "tab.add_row(list2)\n",
    "tab.add_row(list3)\n",
    "tab.add_row(list4)\n",
    "print(tab) "
   ]
  },
  {
   "cell_type": "markdown",
   "metadata": {},
   "source": [
    "All the vectorization have reasonable precision and recall scores for the positive class.\n",
    "However, the precision and recall for the negative class is not good for any vectorization.\n",
    "K-NN is a very naive and simple algorithm and for such an imbalanced dataset, it does not perform well for the minority class."
   ]
  },
  {
   "cell_type": "markdown",
   "metadata": {},
   "source": [
    "### KD_TREE KNN"
   ]
  },
  {
   "cell_type": "markdown",
   "metadata": {},
   "source": [
    "KD_TREE algorithm is efficient for nearest neighbour search in lower dimensions.\n",
    "\n",
    "However, it loses its efficiency in high dimensions if the number of data points are not enough.\n",
    "As a thumb rule, if N is the number of data points and the dimensionality is D, kd_tree should be applied only if N >> 2^D.\n",
    "\n",
    "So, to try kd_tree approach vectorizers on the Test set we have to use truncatedSVD for dimensionality reduction beforehand.\n",
    "\n",
    "### KD_tree KNN For Avg word2vec"
   ]
  },
  {
   "cell_type": "code",
   "execution_count": 105,
   "metadata": {},
   "outputs": [
    {
     "data": {
      "image/png": "[encoded data removed]",
      "text/plain": [
       "<Figure size 432x288 with 1 Axes>"
      ]
     },
     "metadata": {},
     "output_type": "display_data"
    },
    {
     "name": "stdout",
     "output_type": "stream",
     "text": [
      "maximum variance for dimension 15\n"
     ]
    }
   ],
   "source": [
    "\n",
    "X_tr = avg_wt_vecs\n",
    "X_test = test_avg_wt_vecs\n",
    "X_val = val_avg_wt_vecs\n",
    "\n",
    "dims = range(10,50,5)\n",
    "\n",
    "var=[]\n",
    "\n",
    "for dim in dims:\n",
    "    \n",
    "    svd=TruncatedSVD(n_components = dim)\n",
    "    svd.fit(X_tr)\n",
    "    var.append(round(svd.explained_variance_ratio_.sum(),2))\n",
    "    \n",
    "plt.plot(dims, var)\n",
    "plt.xlabel('Number of dimensions')\n",
    "plt.ylabel('variance')\n",
    "plt.show()        \n",
    "\n",
    "print('maximum variance for dimension',dims[var.index(max(var))])\n",
    "svd = TruncatedSVD(n_components = dims[var.index(max(var))])\n",
    "X_tr=svd.fit_transform(X_tr)\n",
    "#print(\"Cumulative explained variance ration for train:\",svd.explained_variance_ratio_.sum())\n",
    "X_test=svd.transform(X_test)\n",
    "#print(\"Cumulative explained variance ration for train:\",svd.explained_variance_ratio_.sum())\n",
    "X_val=svd.transform(X_val)\n",
    "#print(\"Cumulative explained variance ration for train:\",svd.explained_variance_ratio_.sum())"
   ]
  },
  {
   "cell_type": "code",
   "execution_count": 106,
   "metadata": {},
   "outputs": [
    {
     "name": "stdout",
     "output_type": "stream",
     "text": [
      "starting for k= 2\n",
      "starting for k= 4\n",
      "starting for k= 6\n",
      "starting for k= 8\n"
     ]
    },
    {
     "data": {
      "image/png": "[encoded data removed]",
      "text/plain": [
       "<Figure size 432x288 with 1 Axes>"
      ]
     },
     "metadata": {},
     "output_type": "display_data"
    },
    {
     "name": "stdout",
     "output_type": "stream",
     "text": [
      "optimal k is  2\n",
      "Wall time: 3.64 s\n"
     ]
    }
   ],
   "source": [
    "%%time\n",
    "\n",
    "neighbors = range(2,10,2)\n",
    "\n",
    "#AUC=dict()\n",
    "scores=[]\n",
    "\n",
    "for num_neighbour in  neighbors:\n",
    "    print('starting for k=',num_neighbour)\n",
    "    knn = KNeighborsClassifier(n_neighbors = num_neighbour, algorithm='kd_tree',n_jobs = -1) #first try brute algorithm\n",
    "    knn.fit(X_tr,y_train)\n",
    "    pred = knn.predict(X_val)\n",
    "    #AUC[num_neighbour]=roc_auc_score(y_val,pred)\n",
    "    scores.append(roc_auc_score(y_val,pred))   \n",
    "    \n",
    "plt.plot(neighbors, scores)\n",
    "plt.xlabel('Number of Neighbors K')\n",
    "plt.ylabel('AUC')\n",
    "plt.show()\n",
    "\n",
    "print('optimal k is ', neighbors[scores.index(max(scores))])"
   ]
  },
  {
   "cell_type": "code",
   "execution_count": 108,
   "metadata": {},
   "outputs": [
    {
     "name": "stdout",
     "output_type": "stream",
     "text": [
      "Classification report for k = 2 :-\n",
      "+--------------+-----------+--------+----------+----------+\n",
      "|    Label     | Precision | Recall | f1-Score | Support  |\n",
      "+--------------+-----------+--------+----------+----------+\n",
      "|      0       |    0.38   |  0.60  |   0.46   | 2674.00  |\n",
      "|      1       |    0.93   |  0.85  |   0.89   | 17326.00 |\n",
      "|  micro avg   |    0.81   |  0.81  |   0.81   | 20000.00 |\n",
      "|  macro avg   |    0.65   |  0.72  |   0.68   | 20000.00 |\n",
      "| weighted avg |    0.86   |  0.81  |   0.83   | 20000.00 |\n",
      "+--------------+-----------+--------+----------+----------+\n",
      "Confusion matrix for k = 2 :-\n"
     ]
    },
    {
     "data": {
      "image/png": "[encoded data removed]",
      "text/plain": [
       "<Figure size 432x432 with 2 Axes>"
      ]
     },
     "metadata": {},
     "output_type": "display_data"
    }
   ],
   "source": [
    "#test evaluation\n",
    "knn = KNeighborsClassifier(n_neighbors = 2, algorithm='kd_tree',n_jobs = -1)\n",
    "knn.fit(X_tr,y_train)\n",
    "pred = knn.predict(X_test)\n",
    "avg_w2v_score = metrics.accuracy_score(y_test,pred)\n",
    "print('Classification report for k = 2 :-')\n",
    "dict1 = metrics.classification_report(y_test,pred,output_dict=True)\n",
    "print_classif_report(dict1 )\n",
    "print('Confusion matrix for k = 2 :-')\n",
    "print_confusion_matrix(confusion_matrix(y_test, pred,labels=[1,0]), [1,0])\n"
   ]
  },
  {
   "cell_type": "markdown",
   "metadata": {},
   "source": [
    "### KD tree KNN for tf-idf weighted word2vec"
   ]
  },
  {
   "cell_type": "code",
   "execution_count": 109,
   "metadata": {},
   "outputs": [
    {
     "data": {
      "image/png": "[encoded data removed]",
      "text/plain": [
       "<Figure size 432x288 with 1 Axes>"
      ]
     },
     "metadata": {},
     "output_type": "display_data"
    },
    {
     "name": "stdout",
     "output_type": "stream",
     "text": [
      "maximum variance for dimension 15\n",
      "Wall time: 13.5 s\n"
     ]
    }
   ],
   "source": [
    "%%time\n",
    "#Test metrics for optimal K = 10\n",
    "\n",
    "tfidf_wt_vecs=load_from_file('tfidf_wt_vecs_sum.data')\n",
    "test_tfidf_wt_vecs=load_from_file('test_tfidf_wt_vecs_sum.data')\n",
    "val_tfidf_wt_vecs=load_from_file('val_tfidf_wt_vecs_sum.data')\n",
    "\n",
    "X_tr = tfidf_wt_vecs\n",
    "X_test = test_tfidf_wt_vecs\n",
    "X_val=val_tfidf_wt_vecs\n",
    "\n",
    "\n",
    "dims = range(10,50,5)\n",
    "\n",
    "var=[]\n",
    "\n",
    "for dim in dims:\n",
    "    \n",
    "    svd=TruncatedSVD(n_components = dim)\n",
    "    svd.fit(X_tr)\n",
    "    var.append(round(svd.explained_variance_ratio_.sum(),2))\n",
    "    \n",
    "plt.plot(dims, var)\n",
    "plt.xlabel('Number of dimensions')\n",
    "plt.ylabel('variance')\n",
    "plt.show()        \n",
    "\n",
    "print('maximum variance for dimension',dims[var.index(max(var))])\n",
    "svd = TruncatedSVD(n_components = dims[var.index(max(var))])\n",
    "X_tr=svd.fit_transform(X_tr)\n",
    "#print(\"Cumulative explained variance ration for train:\",svd.explained_variance_ratio_.sum())\n",
    "X_test=svd.transform(X_test)\n",
    "#print(\"Cumulative explained variance ration for train:\",svd.explained_variance_ratio_.sum())\n",
    "X_val=svd.transform(X_val)\n",
    "#print(\"Cumulative explained variance ration for train:\",svd.explained_variance_ratio_.sum())"
   ]
  },
  {
   "cell_type": "code",
   "execution_count": 111,
   "metadata": {},
   "outputs": [
    {
     "name": "stdout",
     "output_type": "stream",
     "text": [
      "starting for k= 2\n",
      "starting for k= 4\n",
      "starting for k= 6\n",
      "starting for k= 8\n"
     ]
    },
    {
     "data": {
      "image/png": "[encoded data removed]",
      "text/plain": [
       "<Figure size 432x288 with 1 Axes>"
      ]
     },
     "metadata": {},
     "output_type": "display_data"
    },
    {
     "name": "stdout",
     "output_type": "stream",
     "text": [
      "optimal k is  2\n",
      "Wall time: 5.05 s\n"
     ]
    }
   ],
   "source": [
    "%%time\n",
    "\n",
    "neighbors = range(2,10,2)\n",
    "\n",
    "#AUC=dict()\n",
    "scores=[]\n",
    "\n",
    "for num_neighbour in  neighbors:\n",
    "    print('starting for k=',num_neighbour)\n",
    "    knn = KNeighborsClassifier(n_neighbors = num_neighbour, algorithm='kd_tree',n_jobs = -1) #first try brute algorithm\n",
    "    knn.fit(X_tr,y_train)\n",
    "    pred = knn.predict(X_val)\n",
    "    #AUC[num_neighbour]=roc_auc_score(y_val,pred)\n",
    "    scores.append(roc_auc_score(y_val,pred))   \n",
    "    \n",
    "plt.plot(neighbors, scores)\n",
    "plt.xlabel('Number of Neighbors K')\n",
    "plt.ylabel('AUC')\n",
    "plt.show()\n",
    "\n",
    "print('optimal k is ', neighbors[scores.index(max(scores))])"
   ]
  },
  {
   "cell_type": "code",
   "execution_count": 113,
   "metadata": {},
   "outputs": [
    {
     "name": "stdout",
     "output_type": "stream",
     "text": [
      "Classification report for k = 2 :-\n",
      "+--------------+-----------+--------+----------+----------+\n",
      "|    Label     | Precision | Recall | f1-Score | Support  |\n",
      "+--------------+-----------+--------+----------+----------+\n",
      "|      0       |    0.31   |  0.61  |   0.42   | 2674.00  |\n",
      "|      1       |    0.93   |  0.79  |   0.86   | 17326.00 |\n",
      "|  micro avg   |    0.77   |  0.77  |   0.77   | 20000.00 |\n",
      "|  macro avg   |    0.62   |  0.70  |   0.64   | 20000.00 |\n",
      "| weighted avg |    0.85   |  0.77  |   0.80   | 20000.00 |\n",
      "+--------------+-----------+--------+----------+----------+\n",
      "Confusion matrix for k = 2 :-\n"
     ]
    },
    {
     "data": {
      "image/png": "[encoded data removed]",
      "text/plain": [
       "<Figure size 432x432 with 2 Axes>"
      ]
     },
     "metadata": {},
     "output_type": "display_data"
    }
   ],
   "source": [
    "#test valuation\n",
    "knn = KNeighborsClassifier(n_neighbors = 2, algorithm='kd_tree',n_jobs=-1)\n",
    "knn.fit(X_tr,y_train)\n",
    "pred = knn.predict(X_test)\n",
    "tfidf_w2v_score = metrics.accuracy_score(y_test,pred)\n",
    "print('Classification report for k = 2 :-')\n",
    "dict1 = metrics.classification_report(y_test,pred,output_dict=True)\n",
    "print_classif_report(dict1 )\n",
    "print('Confusion matrix for k = 2 :-')\n",
    "print_confusion_matrix(confusion_matrix(y_test, pred,labels=[1,0]), [1,0])\n"
   ]
  },
  {
   "cell_type": "markdown",
   "metadata": {},
   "source": [
    "### KD tree KNN for BOW"
   ]
  },
  {
   "cell_type": "code",
   "execution_count": 116,
   "metadata": {},
   "outputs": [
    {
     "name": "stdout",
     "output_type": "stream",
     "text": [
      "starting dim =  100\n",
      "starting dim =  150\n",
      "starting dim =  200\n",
      "starting dim =  250\n",
      "starting dim =  300\n",
      "starting dim =  350\n",
      "starting dim =  400\n",
      "starting dim =  450\n",
      "starting dim =  500\n",
      "starting dim =  550\n",
      "starting dim =  600\n"
     ]
    },
    {
     "data": {
      "image/png": "[encoded data removed]",
      "text/plain": [
       "<Figure size 432x288 with 1 Axes>"
      ]
     },
     "metadata": {},
     "output_type": "display_data"
    },
    {
     "name": "stdout",
     "output_type": "stream",
     "text": [
      "maximum variance for dimension 600\n",
      "Wall time: 1min 59s\n"
     ]
    }
   ],
   "source": [
    "%%time\n",
    "\n",
    "from scipy import sparse\n",
    "\n",
    "bag_of_words_val=scipy.sparse.load_npz('bag_of_words_val_sum.npz')\n",
    "bag_of_words_test=scipy.sparse.load_npz('bag_of_words_test_sum.npz')\n",
    "bag_of_words_train=scipy.sparse.load_npz('bag_of_words_train_sum.npz')\n",
    "\n",
    "X_tr = bag_of_words_train\n",
    "X_test = bag_of_words_test\n",
    "X_val= bag_of_words_val\n",
    "\n",
    "\n",
    "dims = range(100,650,50)\n",
    "\n",
    "var=[]\n",
    "\n",
    "for dim in dims:\n",
    "    print('starting dim = ',dim)\n",
    "    svd=TruncatedSVD(n_components = dim)\n",
    "    svd.fit(X_tr)\n",
    "    var.append(round(svd.explained_variance_ratio_.sum(),2))\n",
    "    \n",
    "plt.plot(dims, var)\n",
    "plt.xlabel('Number of dimensions')\n",
    "plt.ylabel('variance')\n",
    "plt.show()        \n",
    "\n",
    "print('maximum variance for dimension',dims[var.index(max(var))])\n",
    "\n"
   ]
  },
  {
   "cell_type": "code",
   "execution_count": 117,
   "metadata": {},
   "outputs": [],
   "source": [
    "svd = TruncatedSVD(n_components = 600)\n",
    "X_tr=svd.fit_transform(X_tr)\n",
    "#print(\"Cumulative explained variance ration for train:\",svd.explained_variance_ratio_.sum())\n",
    "X_test=svd.transform(X_test)\n",
    "#print(\"Cumulative explained variance ration for train:\",svd.explained_variance_ratio_.sum())\n",
    "X_val=svd.transform(X_val)\n",
    "#print(\"Cumulative explained variance ration for train:\",svd.explained_variance_ratio_.sum())"
   ]
  },
  {
   "cell_type": "code",
   "execution_count": 121,
   "metadata": {},
   "outputs": [
    {
     "name": "stdout",
     "output_type": "stream",
     "text": [
      "starting for k= 2\n",
      "starting for k= 5\n",
      "starting for k= 8\n",
      "starting for k= 11\n",
      "starting for k= 14\n",
      "starting for k= 17\n"
     ]
    },
    {
     "data": {
      "image/png": "[encoded data removed]",
      "text/plain": [
       "<Figure size 432x288 with 1 Axes>"
      ]
     },
     "metadata": {},
     "output_type": "display_data"
    },
    {
     "name": "stdout",
     "output_type": "stream",
     "text": [
      "optimal k is  2\n",
      "Wall time: 7min 8s\n"
     ]
    }
   ],
   "source": [
    "%%time\n",
    "\n",
    "neighbors = range(2,20,3)\n",
    "\n",
    "#AUC=dict()\n",
    "scores=[]\n",
    "\n",
    "for num_neighbour in  neighbors:\n",
    "    print('starting for k=',num_neighbour)\n",
    "    knn = KNeighborsClassifier(n_neighbors = num_neighbour, algorithm='kd_tree',n_jobs = -1) #first try brute algorithm\n",
    "    knn.fit(X_tr,y_train)\n",
    "    pred = knn.predict(X_val)\n",
    "    #AUC[num_neighbour]=roc_auc_score(y_val,pred)\n",
    "    scores.append(roc_auc_score(y_val,pred))   \n",
    "    \n",
    "plt.plot(neighbors, scores)\n",
    "plt.xlabel('Number of Neighbors K')\n",
    "plt.ylabel('AUC')\n",
    "plt.show()\n",
    "\n",
    "print('optimal k is ', neighbors[scores.index(max(scores))])"
   ]
  },
  {
   "cell_type": "code",
   "execution_count": 122,
   "metadata": {},
   "outputs": [
    {
     "name": "stdout",
     "output_type": "stream",
     "text": [
      "Classification report for k = 2 :-\n",
      "+--------------+-----------+--------+----------+----------+\n",
      "|    Label     | Precision | Recall | f1-Score | Support  |\n",
      "+--------------+-----------+--------+----------+----------+\n",
      "|      0       |    0.39   |  0.47  |   0.43   | 2674.00  |\n",
      "|      1       |    0.92   |  0.89  |   0.90   | 17326.00 |\n",
      "|  micro avg   |    0.83   |  0.83  |   0.83   | 20000.00 |\n",
      "|  macro avg   |    0.65   |  0.68  |   0.66   | 20000.00 |\n",
      "| weighted avg |    0.85   |  0.83  |   0.84   | 20000.00 |\n",
      "+--------------+-----------+--------+----------+----------+\n",
      "Confusion matrix for k = 2 :-\n"
     ]
    },
    {
     "data": {
      "image/png": "[encoded data removed]",
      "text/plain": [
       "<Figure size 432x432 with 2 Axes>"
      ]
     },
     "metadata": {},
     "output_type": "display_data"
    }
   ],
   "source": [
    "knn = KNeighborsClassifier(n_neighbors = 2, algorithm='kd_tree',n_jobs = -1)\n",
    "knn.fit(X_tr,y_train)\n",
    "pred = knn.predict(X_test)\n",
    "bow_score = metrics.accuracy_score(y_test,pred)\n",
    "print('Classification report for k = 2 :-')\n",
    "dict1 = metrics.classification_report(y_test,pred,output_dict=True)\n",
    "print_classif_report(dict1 )\n",
    "print('Confusion matrix for k = 2 :-')\n",
    "print_confusion_matrix(confusion_matrix(y_test, pred,labels=[1,0]), [1,0])\n"
   ]
  },
  {
   "cell_type": "markdown",
   "metadata": {},
   "source": [
    "### KD tree KNN for TF-IDF"
   ]
  },
  {
   "cell_type": "code",
   "execution_count": 126,
   "metadata": {},
   "outputs": [],
   "source": [
    "tfidf_test=scipy.sparse.load_npz('tfidf_test_summary.npz')\n",
    "tfidf_train=scipy.sparse.load_npz('tfidf_train_summary.npz')\n",
    "tfidf_val=scipy.sparse.load_npz('tfidf_val_summary.npz')\n",
    "#tfidf_train.shape"
   ]
  },
  {
   "cell_type": "code",
   "execution_count": 127,
   "metadata": {},
   "outputs": [
    {
     "data": {
      "image/png": "[encoded data removed]",
      "text/plain": [
       "<Figure size 432x288 with 1 Axes>"
      ]
     },
     "metadata": {},
     "output_type": "display_data"
    },
    {
     "name": "stdout",
     "output_type": "stream",
     "text": [
      "maximum variance for dimension 550\n",
      "Wall time: 1min 53s\n"
     ]
    }
   ],
   "source": [
    "%%time\n",
    "\n",
    "X_tr = tfidf_train\n",
    "X_test = tfidf_test\n",
    "X_val= tfidf_val\n",
    "\n",
    "dims = range(100,600,50)\n",
    "\n",
    "var=[]\n",
    "\n",
    "for dim in dims:\n",
    "    \n",
    "    svd=TruncatedSVD(n_components = dim)\n",
    "    svd.fit(X_tr)\n",
    "    var.append(round(svd.explained_variance_ratio_.sum(),2))\n",
    "    \n",
    "plt.plot(dims, var)\n",
    "plt.xlabel('Number of dimensions')\n",
    "plt.ylabel('variance')\n",
    "plt.show()        \n",
    "\n",
    "print('maximum variance for dimension',dims[var.index(max(var))])\n",
    "svd = TruncatedSVD(n_components = dims[var.index(max(var))])\n",
    "X_tr=svd.fit_transform(X_tr)\n",
    "#print(\"Cumulative explained variance ration for train:\",svd.explained_variance_ratio_.sum())\n",
    "X_test=svd.transform(X_test)\n",
    "#print(\"Cumulative explained variance ration for train:\",svd.explained_variance_ratio_.sum())\n",
    "X_val=svd.transform(X_val)\n",
    "#print(\"Cumulative explained variance ration for train:\",svd.explained_variance_ratio_.sum())"
   ]
  },
  {
   "cell_type": "code",
   "execution_count": 128,
   "metadata": {},
   "outputs": [
    {
     "name": "stdout",
     "output_type": "stream",
     "text": [
      "starting for k= 2\n",
      "starting for k= 5\n",
      "starting for k= 8\n",
      "starting for k= 11\n",
      "starting for k= 14\n",
      "starting for k= 17\n"
     ]
    },
    {
     "data": {
      "image/png": "[encoded data removed]",
      "text/plain": [
       "<Figure size 432x288 with 1 Axes>"
      ]
     },
     "metadata": {},
     "output_type": "display_data"
    },
    {
     "name": "stdout",
     "output_type": "stream",
     "text": [
      "optimal k is  2\n",
      "Wall time: 7min 47s\n"
     ]
    }
   ],
   "source": [
    "%%time\n",
    "\n",
    "neighbors = range(2,20,3)\n",
    "\n",
    "#AUC=dict()\n",
    "scores=[]\n",
    "\n",
    "for num_neighbour in  neighbors:\n",
    "    print('starting for k=',num_neighbour)\n",
    "    knn = KNeighborsClassifier(n_neighbors = num_neighbour, algorithm='kd_tree',n_jobs = -1) #first try brute algorithm\n",
    "    knn.fit(X_tr,y_train)\n",
    "    pred = knn.predict(X_val)\n",
    "    #AUC[num_neighbour]=roc_auc_score(y_val,pred)\n",
    "    scores.append(roc_auc_score(y_val,pred))   \n",
    "    \n",
    "plt.plot(neighbors, scores)\n",
    "plt.xlabel('Number of Neighbors K')\n",
    "plt.ylabel('AUC')\n",
    "plt.show()\n",
    "\n",
    "print('optimal k is ', neighbors[scores.index(max(scores))])"
   ]
  },
  {
   "cell_type": "code",
   "execution_count": 129,
   "metadata": {},
   "outputs": [
    {
     "name": "stdout",
     "output_type": "stream",
     "text": [
      "Classification report for k = 2 :-\n",
      "+--------------+-----------+--------+----------+----------+\n",
      "|    Label     | Precision | Recall | f1-Score | Support  |\n",
      "+--------------+-----------+--------+----------+----------+\n",
      "|      0       |    0.35   |  0.66  |   0.46   | 2674.00  |\n",
      "|      1       |    0.94   |  0.81  |   0.87   | 17326.00 |\n",
      "|  micro avg   |    0.79   |  0.79  |   0.79   | 20000.00 |\n",
      "|  macro avg   |    0.65   |  0.74  |   0.67   | 20000.00 |\n",
      "| weighted avg |    0.86   |  0.79  |   0.82   | 20000.00 |\n",
      "+--------------+-----------+--------+----------+----------+\n",
      "Confusion matrix for k = 2 :-\n"
     ]
    },
    {
     "data": {
      "image/png": "[encoded data removed]",
      "text/plain": [
       "<Figure size 432x432 with 2 Axes>"
      ]
     },
     "metadata": {},
     "output_type": "display_data"
    }
   ],
   "source": [
    "knn = KNeighborsClassifier(n_neighbors = 2, algorithm='kd_tree',n_jobs = -1)\n",
    "knn.fit(X_tr,y_train)\n",
    "pred = knn.predict(X_test)\n",
    "tfidf_score = metrics.accuracy_score(y_test,pred)\n",
    "print('Classification report for k = 2 :-')\n",
    "dict1 = metrics.classification_report(y_test,pred,output_dict=True)\n",
    "print_classif_report(dict1 )\n",
    "print('Confusion matrix for k = 2 :-')\n",
    "print_confusion_matrix(confusion_matrix(y_test, pred,labels=[1,0]), [1,0])\n"
   ]
  },
  {
   "cell_type": "markdown",
   "metadata": {},
   "source": [
    "### Summary for KD tree KNN"
   ]
  },
  {
   "cell_type": "code",
   "execution_count": 130,
   "metadata": {},
   "outputs": [
    {
     "name": "stdout",
     "output_type": "stream",
     "text": [
      "+--------------+---------------------------+------+\n",
      "|    Model     | Optimal Hyper-parameter K | AUC  |\n",
      "+--------------+---------------------------+------+\n",
      "|  BOW bigram  |             2             | 0.83 |\n",
      "| TFIDF bigram |             2             | 0.79 |\n",
      "|   Avg w2v    |             2             | 0.81 |\n",
      "|  TFIDF w2v   |             2             | 0.77 |\n",
      "+--------------+---------------------------+------+\n"
     ]
    }
   ],
   "source": [
    "tab = PrettyTable()\n",
    "tab.field_names = [\"Model\",\"Optimal Hyper-parameter K\",\"AUC\"]\n",
    "list1=[\"BOW bigram\",\"2\",round(bow_score,2)]\n",
    "list2=[\"TFIDF bigram\",\"2\",round(tfidf_score,2)]\n",
    "list3=[\"Avg w2v\",\"2\",round(avg_w2v_score,2)]\n",
    "list4=[\"TFIDF w2v\",\"2\",round(tfidf_w2v_score,2)]\n",
    "tab.add_row(list1)\n",
    "tab.add_row(list2)\n",
    "tab.add_row(list3)\n",
    "tab.add_row(list4)\n",
    "print(tab) "
   ]
  },
  {
   "cell_type": "code",
   "execution_count": null,
   "metadata": {},
   "outputs": [],
   "source": []
  }
 ],
 "metadata": {
  "kernelspec": {
   "display_name": "Python 3",
   "language": "python",
   "name": "python3"
  },
  "language_info": {
   "codemirror_mode": {
    "name": "ipython",
    "version": 3
   },
   "file_extension": ".py",
   "mimetype": "text/x-python",
   "name": "python",
   "nbconvert_exporter": "python",
   "pygments_lexer": "ipython3",
   "version": "3.6.5"
  }
 },
 "nbformat": 4,
 "nbformat_minor": 2
}
