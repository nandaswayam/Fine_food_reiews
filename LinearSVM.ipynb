{
 "cells": [
  {
   "cell_type": "markdown",
   "metadata": {},
   "source": [
    "## Linear SVM classifier for Amazon fine food reviews for Bag of words,tf-idf, average word2vec, tf-idf weighted word2vec"
   ]
  },
  {
   "cell_type": "markdown",
   "metadata": {},
   "source": [
    "### The objective\n",
    "\n",
    "Given a text review, we have to predict whether the review represents positove sentiment or negative.\n",
    "In other words, we ahve to classify the review as 'Positive' or 'Negative'.\n",
    "We will use the Amazon fine food review dataset from Kaggle.com\n",
    "\n",
    "https://www.kaggle.com/snap/amazon-fine-food-reviews\n",
    "    \n",
    "### Context\n",
    "\n",
    "This dataset consists of reviews of fine foods from amazon. The data span a period of more than 10 years, including all ~500,000 reviews up to October 2012. Reviews include product and user information, ratings, and a plain text review. It also includes reviews from all other Amazon categories.\n",
    "\n",
    "### Contents\n",
    "\n",
    "    Reviews.csv: Pulled from the corresponding SQLite table named Reviews in database.sqlite\n",
    "    database.sqlite: Contains the table 'Reviews'\n",
    "\n",
    "Data includes:\n",
    "- Reviews from Oct 1999 - Oct 2012\n",
    "- 568,454 reviews\n",
    "- 256,059 users\n",
    "- 74,258 products\n",
    "- 260 users with > 50 reviews    \n",
    "\n",
    "\n",
    "We will use SGDclassifier for linear SVM classification.\n",
    "SGDclassifier by default gives a linear SVM classifier with Hinge loss.\n",
    "We will use AUC as the performance metric.\n",
    "Since SGDClassifier does not provide probability estimates, we need to use the decision_function for calculating AUC.\n",
    "Sklearn.metrics.roc_auc_score does not need probability estimates for computing AUC. It is possible to calculate the AUC score using \n",
    "the decision scores returned by SGDClassifier.\n",
    "Also see:-\n",
    "    https://stackoverflow.com/questions/34621082/sklearn-auc-score-for-linearsvc-and-onesvm\n",
    "   \n",
    "The Scikit learn documentation for roc_auc_score reads:-\n",
    "    Target scores can either be probability estimates of the positive class, confidence values, or non-thresholded measure of \n",
    "    decisions (as returned by “decision_function” on some classifiers). \n",
    "    For binary y_true, y_score is supposed to be the score of the class with greater label.\n",
    "\n",
    "https://scikit-learn.org/stable/modules/generated/sklearn.metrics.roc_auc_score.html    \n",
    "    \n",
    "First, import all required libraries\n"
   ]
  },
  {
   "cell_type": "code",
   "execution_count": 1,
   "metadata": {},
   "outputs": [
    {
     "name": "stdout",
     "output_type": "stream",
     "text": [
      "Done\n",
      "Wall time: 2.03 s\n"
     ]
    }
   ],
   "source": [
    "%%time\n",
    "%matplotlib inline\n",
    "from datetime import datetime\n",
    "from sklearn.model_selection import ParameterGrid\n",
    "from sklearn.linear_model import SGDClassifier\n",
    "from sklearn import svm\n",
    "import parfit.parfit as pf\n",
    "import sqlite3\n",
    "from sklearn.metrics import roc_curve, auc,roc_auc_score\n",
    "import pandas as pd\n",
    "import numpy as np\n",
    "import nltk\n",
    "import string\n",
    "import matplotlib.pyplot as plt\n",
    "import seaborn as sns\n",
    "from sklearn import metrics \n",
    "from sklearn.feature_extraction.text import TfidfTransformer\n",
    "from sklearn.feature_extraction.text import TfidfVectorizer\n",
    "#from sklearn.naive_bayes import BernoulliNB\n",
    "from sklearn.model_selection import GridSearchCV\n",
    "from sklearn.model_selection import TimeSeriesSplit\n",
    "#from sklearn.naive_bayes import MultinomialNB\n",
    "from sklearn.feature_extraction.text import CountVectorizer\n",
    "from sklearn.metrics import confusion_matrix\n",
    "from sklearn.model_selection import train_test_split\n",
    "#from sklearn import metrics\n",
    "from sklearn.metrics import roc_curve, auc\n",
    "from nltk.stem.porter import PorterStemmer\n",
    "from sklearn.pipeline import Pipeline, FeatureUnion\n",
    "from sklearn.feature_extraction.text import CountVectorizer\n",
    "from sklearn.feature_extraction.text import TfidfTransformer\n",
    "from sklearn.preprocessing import FunctionTransformer\n",
    "from sklearn.preprocessing import StandardScaler\n",
    "import scipy.sparse\n",
    "import warnings\n",
    "warnings.filterwarnings('ignore')\n",
    "import gensim\n",
    "print('Done')"
   ]
  },
  {
   "cell_type": "code",
   "execution_count": 2,
   "metadata": {},
   "outputs": [],
   "source": [
    "\n",
    "import pickle\n",
    "def load_from_file(file_name):\n",
    "    \n",
    "    with open(file_name, 'rb') as filehandle:  \n",
    "        # read the data as binary data stream\n",
    "        list1 = pickle.load(filehandle)\n",
    "        return list1\n",
    "    \n",
    "def dump_to_file(data,file_name):\n",
    "    with open(file_name, 'wb') as filehandle:  \n",
    "        # store the data as binary data stream\n",
    "        pickle.dump(data, filehandle)\n"
   ]
  },
  {
   "cell_type": "markdown",
   "metadata": {},
   "source": [
    "#### Function to print confusion matrix and classification report"
   ]
  },
  {
   "cell_type": "code",
   "execution_count": 3,
   "metadata": {},
   "outputs": [],
   "source": [
    "from prettytable import PrettyTable\n",
    "#source: https://gist.github.com/shaypal5/94c53d765083101efc0240d776a23823\n",
    "\n",
    "def print_confusion_matrix(confusion_matrix, class_names, figsize = (6,6), fontsize=10):\n",
    "    \n",
    "    df_cm = pd.DataFrame(\n",
    "        confusion_matrix, index=class_names, columns=class_names, \n",
    "    )\n",
    "    fig = plt.figure(figsize=figsize)\n",
    "    try:\n",
    "        heatmap = sns.heatmap(df_cm, annot=True, fmt=\"d\")\n",
    "    except ValueError:\n",
    "        raise ValueError(\"Confusion matrix values must be integers.\")\n",
    "    heatmap.yaxis.set_ticklabels(heatmap.yaxis.get_ticklabels(), rotation=0, ha='right', fontsize=fontsize)\n",
    "    heatmap.xaxis.set_ticklabels(heatmap.xaxis.get_ticklabels(), rotation=45, ha='right', fontsize=fontsize)\n",
    "    plt.ylabel('True label')\n",
    "    plt.xlabel('Predicted label')\n",
    "    \n",
    "\n",
    "    \n",
    "def print_classif_report(input_dict):\n",
    "    tab = PrettyTable()\n",
    "    tab.field_names = [\"Label\",\"Precision\",\"Recall\",\"f1-Score\",\"Support\"]\n",
    "    list1=[]\n",
    "    for k,v in input_dict.items():\n",
    "        list1=[]\n",
    "        list1.append(k)\n",
    "        for i,j in v.items():\n",
    "            list1.append(\"{0:.2f}\".format(j))\n",
    "        \n",
    "        tab.add_row(list1)\n",
    "    print(tab)    "
   ]
  },
  {
   "cell_type": "markdown",
   "metadata": {},
   "source": [
    "#### function to get important features for given classifier and vectorizer"
   ]
  },
  {
   "cell_type": "code",
   "execution_count": 16,
   "metadata": {},
   "outputs": [],
   "source": [
    "\n",
    "def most_informative_feature(vectorizer, classifier, n=10):\n",
    "    class_labels = classifier.classes_\n",
    "    feature_names = vectorizer.get_feature_names()\n",
    "    topn_class1 = sorted(zip(classifier.coef_[0], feature_names))[:n]\n",
    "    topn_class2 = sorted(zip(classifier.coef_[0], feature_names),reverse=True)[:n]\n",
    "\n",
    "    print('Negative class')\n",
    "    \n",
    "    \n",
    "    for coef, feat in topn_class1:\n",
    "        print(class_labels[0], coef, feat)\n",
    "\n",
    "    print(' ************************************* ')\n",
    "    print('Positive class')\n",
    "    \n",
    "    for coef, feat in topn_class2:\n",
    "        print(class_labels[1], coef, feat)\n"
   ]
  },
  {
   "cell_type": "markdown",
   "metadata": {},
   "source": [
    "### function to return column of text lengths"
   ]
  },
  {
   "cell_type": "code",
   "execution_count": 5,
   "metadata": {},
   "outputs": [],
   "source": [
    "def get_text_length(x):\n",
    "    return np.array([len(t) for t in x]).reshape(-1, 1)"
   ]
  },
  {
   "cell_type": "markdown",
   "metadata": {},
   "source": [
    "Function to plot ROC curve"
   ]
  },
  {
   "cell_type": "code",
   "execution_count": 4,
   "metadata": {},
   "outputs": [],
   "source": [
    "def plot_roc_curve(actual,pred):\n",
    "    fpr,tpr,threholds = roc_curve(actual,pred)\n",
    "    plt.plot(fpr,tpr,'r')\n",
    "    plt.plot([0,1],[0,1],'b')\n",
    "    plt.title('AUC : {}'.format(auc(fpr,tpr)))\n",
    "    plt.show()"
   ]
  },
  {
   "cell_type": "markdown",
   "metadata": {},
   "source": [
    "### Read the data from SQLite file"
   ]
  },
  {
   "cell_type": "markdown",
   "metadata": {},
   "source": [
    "Read the data from database.\n",
    "We will not consider 3 star reviews as they are neutral (neither completely positive nor negative)"
   ]
  },
  {
   "cell_type": "code",
   "execution_count": 6,
   "metadata": {},
   "outputs": [],
   "source": [
    "# using the SQLite Table to read data.\n",
    "con = sqlite3.connect('./database.sqlite') \n",
    "\n",
    "#filtering only positive and negative reviews i.e. \n",
    "# not taking into consideration those reviews with Score=3 as they are neutral\n",
    "\n",
    "filtered_data = pd.read_sql_query(\"\"\"\n",
    "SELECT *\n",
    "FROM Reviews\n",
    "WHERE Score != 3\n",
    "\"\"\", con) \n",
    "\n",
    "#Function to map reviews with Score>3 to a positive rating, and reviews with a score<3 to a negative rating.\n",
    "def partition(x):\n",
    "    if x < 3:\n",
    "        return 0\n",
    "    return 1\n",
    "\n",
    "#changing reviews with score less than 3 to be positive and vice-versa\n",
    "\n",
    "filtered_data['Score'] = filtered_data['Score'].map(partition)"
   ]
  },
  {
   "cell_type": "markdown",
   "metadata": {},
   "source": [
    "Check sample data"
   ]
  },
  {
   "cell_type": "code",
   "execution_count": 7,
   "metadata": {},
   "outputs": [
    {
     "data": {
      "text/html": [
       "<div>\n",
       "<style scoped>\n",
       "    .dataframe tbody tr th:only-of-type {\n",
       "        vertical-align: middle;\n",
       "    }\n",
       "\n",
       "    .dataframe tbody tr th {\n",
       "        vertical-align: top;\n",
       "    }\n",
       "\n",
       "    .dataframe thead th {\n",
       "        text-align: right;\n",
       "    }\n",
       "</style>\n",
       "<table border=\"1\" class=\"dataframe\">\n",
       "  <thead>\n",
       "    <tr style=\"text-align: right;\">\n",
       "      <th></th>\n",
       "      <th>Id</th>\n",
       "      <th>ProductId</th>\n",
       "      <th>UserId</th>\n",
       "      <th>ProfileName</th>\n",
       "      <th>HelpfulnessNumerator</th>\n",
       "      <th>HelpfulnessDenominator</th>\n",
       "      <th>Score</th>\n",
       "      <th>Time</th>\n",
       "      <th>Summary</th>\n",
       "      <th>Text</th>\n",
       "    </tr>\n",
       "  </thead>\n",
       "  <tbody>\n",
       "    <tr>\n",
       "      <th>0</th>\n",
       "      <td>1</td>\n",
       "      <td>B001E4KFG0</td>\n",
       "      <td>A3SGXH7AUHU8GW</td>\n",
       "      <td>delmartian</td>\n",
       "      <td>1</td>\n",
       "      <td>1</td>\n",
       "      <td>1</td>\n",
       "      <td>1303862400</td>\n",
       "      <td>Good Quality Dog Food</td>\n",
       "      <td>I have bought several of the Vitality canned d...</td>\n",
       "    </tr>\n",
       "  </tbody>\n",
       "</table>\n",
       "</div>"
      ],
      "text/plain": [
       "   Id   ProductId          UserId ProfileName  HelpfulnessNumerator  \\\n",
       "0   1  B001E4KFG0  A3SGXH7AUHU8GW  delmartian                     1   \n",
       "\n",
       "   HelpfulnessDenominator  Score        Time                Summary  \\\n",
       "0                       1      1  1303862400  Good Quality Dog Food   \n",
       "\n",
       "                                                Text  \n",
       "0  I have bought several of the Vitality canned d...  "
      ]
     },
     "execution_count": 7,
     "metadata": {},
     "output_type": "execute_result"
    }
   ],
   "source": [
    "filtered_data.head(1)"
   ]
  },
  {
   "cell_type": "markdown",
   "metadata": {},
   "source": [
    "Sort the data by productid"
   ]
  },
  {
   "cell_type": "code",
   "execution_count": 7,
   "metadata": {},
   "outputs": [],
   "source": [
    "sorted_data=filtered_data.sort_values('ProductId', axis=0, ascending=True, inplace=False, kind='quicksort', na_position='last')"
   ]
  },
  {
   "cell_type": "markdown",
   "metadata": {},
   "source": [
    "Remove duplicates"
   ]
  },
  {
   "cell_type": "code",
   "execution_count": 8,
   "metadata": {},
   "outputs": [
    {
     "data": {
      "text/plain": [
       "(364173, 10)"
      ]
     },
     "execution_count": 8,
     "metadata": {},
     "output_type": "execute_result"
    }
   ],
   "source": [
    "#Remove duplicate reviews by same user at same time\n",
    "final=sorted_data.drop_duplicates(subset={\"UserId\",\"ProfileName\",\"Time\",\"Text\"}, keep='first', inplace=False)\n",
    "final.shape"
   ]
  },
  {
   "cell_type": "markdown",
   "metadata": {},
   "source": [
    "Remove rows where helpfulness denominator is greater than helpfulness numerator"
   ]
  },
  {
   "cell_type": "code",
   "execution_count": 9,
   "metadata": {},
   "outputs": [
    {
     "data": {
      "text/plain": [
       "(364171, 10)"
      ]
     },
     "execution_count": 9,
     "metadata": {},
     "output_type": "execute_result"
    }
   ],
   "source": [
    "#Keep only those records where HelpfulnessNumerator is less than or equal to HelpfulnessDenominator\n",
    "final=final[final.HelpfulnessNumerator<=final.HelpfulnessDenominator]\n",
    "final.shape"
   ]
  },
  {
   "cell_type": "markdown",
   "metadata": {},
   "source": [
    "Function to clean the sentences.\n",
    "The function will remove html tags and punctuation marks from the input text and return cleaned text."
   ]
  },
  {
   "cell_type": "code",
   "execution_count": 53,
   "metadata": {},
   "outputs": [],
   "source": [
    "import re\n",
    "import string\n",
    "from nltk.corpus import stopwords\n",
    "\n",
    "stop = set(stopwords.words('english')) #set of stopwords\n",
    "sno = nltk.stem.SnowballStemmer('english') #initialising the snowball stemmer\n",
    "\n",
    "def cleansentence(sentence): #function to clean the word of any html-tags\n",
    "    cleanr = re.compile('<.*?>')\n",
    "    cleantext = re.sub(cleanr, ' ', sentence)\n",
    "    cleantext = re.sub(r'[?|!|\\'|\"|#]',r'',cleantext)\n",
    "    cleantext = re.sub(r'[.|,|)|(|\\|/|-|+|;|&]',r' ',cleantext)\n",
    "    return  cleantext\n"
   ]
  },
  {
   "cell_type": "markdown",
   "metadata": {},
   "source": [
    "Sort by time for time based splitting"
   ]
  },
  {
   "cell_type": "code",
   "execution_count": 11,
   "metadata": {},
   "outputs": [],
   "source": [
    "sample=final.sort_values('Time', axis=0, ascending=True, inplace=False, kind='quicksort', na_position='last')"
   ]
  },
  {
   "cell_type": "markdown",
   "metadata": {},
   "source": [
    "Cleaning the review text by using above written function.\n",
    "Also performing the stemming procedure to reduce the words to their base stem forms.\n",
    "Cleaned text will be stored in separate column.\n",
    "For tf-idf weighted word2vec, we are storing non-stemmed clean review text in another column."
   ]
  },
  {
   "cell_type": "code",
   "execution_count": 12,
   "metadata": {},
   "outputs": [],
   "source": [
    "i=0\n",
    "str1=' '\n",
    "str2=' '\n",
    "final_string=[]\n",
    "final_string_2=[]\n",
    "s=''\n",
    "s1=''\n",
    "for sent in sample['Text'].values:\n",
    "    filtered_sentence=[]\n",
    "    filtered_nostem = []\n",
    "    #print(sent);\n",
    "    sent=cleansentence(sent) # remove HTMl tags\n",
    "    for w in sent.split():\n",
    "        if((w.isalpha()) & (len(w)>2)):    \n",
    "                if(w.lower() not in stop):\n",
    "                    s=(sno.stem(w.lower())).encode('utf8')\n",
    "                    s1 = (w.lower()).encode('utf8')\n",
    "                    filtered_sentence.append(s)\n",
    "                    filtered_nostem.append(s1)\n",
    "                    \n",
    "                else:\n",
    "                    continue\n",
    "        else:\n",
    "                continue \n",
    "    #print(filtered_sentence)\n",
    "    str1 = b\" \".join(filtered_sentence) #final string of cleaned words\n",
    "    str2 = b\" \".join(filtered_nostem) #final string of cleaned words\n",
    "    #print(\"***********************************************************************\")\n",
    "    \n",
    "    final_string.append(str1)\n",
    "    final_string_2.append(str2)\n",
    "    i+=1"
   ]
  },
  {
   "cell_type": "code",
   "execution_count": 13,
   "metadata": {},
   "outputs": [],
   "source": [
    "#adding a column  which displays the data after pre-processing of the review \n",
    "sample['CleanedText']=final_string\n",
    "sample['CleanedTextNoStem']=final_string_2"
   ]
  },
  {
   "cell_type": "markdown",
   "metadata": {},
   "source": [
    "Save the cleaned text in a file for use later"
   ]
  },
  {
   "cell_type": "code",
   "execution_count": null,
   "metadata": {},
   "outputs": [],
   "source": [
    "#pickle.dump(sample,open('cleaned_final.p','wb'))\n",
    "pd.to_pickle(sample,'cleaned_Text.pkl')"
   ]
  },
  {
   "cell_type": "code",
   "execution_count": 5,
   "metadata": {},
   "outputs": [],
   "source": [
    "loaddf=pd.read_pickle('cleaned_Text.pkl')"
   ]
  },
  {
   "cell_type": "code",
   "execution_count": 6,
   "metadata": {},
   "outputs": [],
   "source": [
    "sample=loaddf"
   ]
  },
  {
   "cell_type": "code",
   "execution_count": 9,
   "metadata": {},
   "outputs": [
    {
     "data": {
      "text/html": [
       "<div>\n",
       "<style scoped>\n",
       "    .dataframe tbody tr th:only-of-type {\n",
       "        vertical-align: middle;\n",
       "    }\n",
       "\n",
       "    .dataframe tbody tr th {\n",
       "        vertical-align: top;\n",
       "    }\n",
       "\n",
       "    .dataframe thead th {\n",
       "        text-align: right;\n",
       "    }\n",
       "</style>\n",
       "<table border=\"1\" class=\"dataframe\">\n",
       "  <thead>\n",
       "    <tr style=\"text-align: right;\">\n",
       "      <th></th>\n",
       "      <th>Id</th>\n",
       "      <th>ProductId</th>\n",
       "      <th>UserId</th>\n",
       "      <th>ProfileName</th>\n",
       "      <th>HelpfulnessNumerator</th>\n",
       "      <th>HelpfulnessDenominator</th>\n",
       "      <th>Score</th>\n",
       "      <th>Time</th>\n",
       "      <th>Summary</th>\n",
       "      <th>Text</th>\n",
       "      <th>CleanedText</th>\n",
       "      <th>CleanedTextNoStem</th>\n",
       "    </tr>\n",
       "  </thead>\n",
       "  <tbody>\n",
       "    <tr>\n",
       "      <th>138706</th>\n",
       "      <td>150524</td>\n",
       "      <td>0006641040</td>\n",
       "      <td>ACITT7DI6IDDL</td>\n",
       "      <td>shari zychinski</td>\n",
       "      <td>0</td>\n",
       "      <td>0</td>\n",
       "      <td>1</td>\n",
       "      <td>939340800</td>\n",
       "      <td>EVERY book is educational</td>\n",
       "      <td>this witty little book makes my son laugh at l...</td>\n",
       "      <td>b'witti littl book make son laugh loud recit c...</td>\n",
       "      <td>b'witty little book makes son laugh loud recit...</td>\n",
       "    </tr>\n",
       "  </tbody>\n",
       "</table>\n",
       "</div>"
      ],
      "text/plain": [
       "            Id   ProductId         UserId      ProfileName  \\\n",
       "138706  150524  0006641040  ACITT7DI6IDDL  shari zychinski   \n",
       "\n",
       "        HelpfulnessNumerator  HelpfulnessDenominator  Score       Time  \\\n",
       "138706                     0                       0      1  939340800   \n",
       "\n",
       "                          Summary  \\\n",
       "138706  EVERY book is educational   \n",
       "\n",
       "                                                     Text  \\\n",
       "138706  this witty little book makes my son laugh at l...   \n",
       "\n",
       "                                              CleanedText  \\\n",
       "138706  b'witti littl book make son laugh loud recit c...   \n",
       "\n",
       "                                        CleanedTextNoStem  \n",
       "138706  b'witty little book makes son laugh loud recit...  "
      ]
     },
     "execution_count": 9,
     "metadata": {},
     "output_type": "execute_result"
    }
   ],
   "source": [
    "#sample.head(1)\n",
    "sample.head(1)\n",
    "#sample['Score'].value_counts()"
   ]
  },
  {
   "cell_type": "markdown",
   "metadata": {},
   "source": [
    "### First using Bag of Words vectorizer"
   ]
  },
  {
   "cell_type": "markdown",
   "metadata": {},
   "source": [
    "Sort by timestamp for time based splitting"
   ]
  },
  {
   "cell_type": "code",
   "execution_count": 7,
   "metadata": {},
   "outputs": [],
   "source": [
    "#sort by time for time based splitting\n",
    "sample=sample.sort_values('Time', axis=0, ascending=True, inplace=False, kind='quicksort', na_position='last')"
   ]
  },
  {
   "cell_type": "markdown",
   "metadata": {},
   "source": [
    "Split into train,validation and test set"
   ]
  },
  {
   "cell_type": "code",
   "execution_count": 8,
   "metadata": {},
   "outputs": [],
   "source": [
    "from sklearn.model_selection import train_test_split\n",
    "\n",
    "X_tr, x_test, Y_tr, y_test = train_test_split(sample['CleanedText'].values,sample['Score'].values,test_size=0.2,shuffle=False)\n",
    "x_train, x_val, y_train, y_val = train_test_split(X_tr,Y_tr,test_size=0.2,shuffle=False)\n"
   ]
  },
  {
   "cell_type": "markdown",
   "metadata": {},
   "source": [
    "New class to prevent WRITEBACKIFCOPY base is read only valueError"
   ]
  },
  {
   "cell_type": "code",
   "execution_count": 17,
   "metadata": {},
   "outputs": [],
   "source": [
    "## reference https://github.com/scikit-learn/scikit-learn/issues/6614\n",
    "class MyCountVectorizer(CountVectorizer):\n",
    "    def fit_transform(self,x):\n",
    "        res = super(MyCountVectorizer,self).fit_transform(x)\n",
    "        res.sort_indices()\n",
    "        return res"
   ]
  },
  {
   "cell_type": "markdown",
   "metadata": {},
   "source": [
    "Vectorize the train,validation and test data and store the vectors in disk for later reuse.\n",
    "We fit_transform on train data and use same vectorizer for transforming validation and test datasets."
   ]
  },
  {
   "cell_type": "code",
   "execution_count": 18,
   "metadata": {},
   "outputs": [],
   "source": [
    "count_vect = MyCountVectorizer(ngram_range=(1,2),min_df=50)\n",
    "bag_of_words_train = count_vect.fit_transform(x_train)\n",
    "bag_of_words_val =  count_vect.transform(x_val)\n",
    "bag_of_words_test =  count_vect.transform(x_test)\n",
    "\n",
    "import scipy.sparse\n",
    "scipy.sparse.save_npz('bag_of_words_train', bag_of_words_train)\n",
    "scipy.sparse.save_npz('bag_of_words_val', bag_of_words_val)\n",
    "scipy.sparse.save_npz('bag_of_words_test', bag_of_words_test)"
   ]
  },
  {
   "cell_type": "code",
   "execution_count": 19,
   "metadata": {},
   "outputs": [],
   "source": [
    "bag_of_words_val=scipy.sparse.load_npz('bag_of_words_val.npz')\n",
    "bag_of_words_test=scipy.sparse.load_npz('bag_of_words_test.npz')\n",
    "bag_of_words_train=scipy.sparse.load_npz('bag_of_words_train.npz')"
   ]
  },
  {
   "cell_type": "markdown",
   "metadata": {},
   "source": [
    "Scale and perform optimal hyperparameter search using parfit library\n",
    "More info about parfit is available at :-\n",
    "https://github.com/jmcarpenter2/parfit/blob/master/docs/documentation.md"
   ]
  },
  {
   "cell_type": "code",
   "execution_count": 20,
   "metadata": {},
   "outputs": [],
   "source": [
    "scaler = StandardScaler(with_mean=False)\n",
    "bag_of_words_val=scaler.fit_transform(bag_of_words_val)\n",
    "bag_of_words_train=scaler.fit_transform(bag_of_words_train)\n",
    "bag_of_words_test=scaler.fit_transform(bag_of_words_test)"
   ]
  },
  {
   "cell_type": "code",
   "execution_count": 21,
   "metadata": {},
   "outputs": [
    {
     "name": "stdout",
     "output_type": "stream",
     "text": [
      "-------------FITTING MODELS-------------\n"
     ]
    },
    {
     "name": "stderr",
     "output_type": "stream",
     "text": [
      "[Parallel(n_jobs=-1)]: Using backend LokyBackend with 8 concurrent workers.\n",
      "[Parallel(n_jobs=-1)]: Done   3 out of  16 | elapsed:   43.5s remaining:  3.1min\n",
      "[Parallel(n_jobs=-1)]: Done   5 out of  16 | elapsed:  1.5min remaining:  3.3min\n",
      "[Parallel(n_jobs=-1)]: Done   7 out of  16 | elapsed:  2.5min remaining:  3.2min\n",
      "[Parallel(n_jobs=-1)]: Done   9 out of  16 | elapsed:  2.7min remaining:  2.1min\n",
      "[Parallel(n_jobs=-1)]: Done  11 out of  16 | elapsed:  3.4min remaining:  1.6min\n",
      "[Parallel(n_jobs=-1)]: Done  13 out of  16 | elapsed:  3.6min remaining:   49.4s\n",
      "[Parallel(n_jobs=-1)]: Done  16 out of  16 | elapsed:  4.4min finished\n",
      "[Parallel(n_jobs=-1)]: Using backend LokyBackend with 8 concurrent workers.\n"
     ]
    },
    {
     "name": "stdout",
     "output_type": "stream",
     "text": [
      "-------------SCORING MODELS-------------\n"
     ]
    },
    {
     "name": "stderr",
     "output_type": "stream",
     "text": [
      "[Parallel(n_jobs=-1)]: Done  16 out of  16 | elapsed:    0.1s finished\n"
     ]
    },
    {
     "data": {
      "image/png": "[encoded data removed]",
      "text/plain": [
       "<Figure size 144x432 with 2 Axes>"
      ]
     },
     "metadata": {},
     "output_type": "display_data"
    },
    {
     "name": "stdout",
     "output_type": "stream",
     "text": [
      "SGDClassifier(alpha=0.01, average=False, class_weight=None,\n",
      "       early_stopping=False, epsilon=0.1, eta0=0.0, fit_intercept=True,\n",
      "       l1_ratio=0.15, learning_rate='optimal', loss='hinge', max_iter=1000,\n",
      "       n_iter=None, n_iter_no_change=5, n_jobs=-1, penalty='l2',\n",
      "       power_t=0.5, random_state=None, shuffle=False, tol=None,\n",
      "       validation_fraction=0.1, verbose=0, warm_start=False) 0.8337931334052929\n",
      "Wall time: 4min 24s\n"
     ]
    }
   ],
   "source": [
    "%%time\n",
    "\n",
    "grid = {'alpha':[1e-4,1e-3,1e-2,1e-1,1e0,1e1,1e2,1e3],\n",
    "       'max_iter':[1000],\n",
    "       'loss':['hinge'],\n",
    "        'n_jobs':[-1],\n",
    "        'shuffle':[False],\n",
    "       'penalty':['l2','l1']}\n",
    "\n",
    "paramGrid = ParameterGrid(grid)\n",
    "\n",
    "bestModel, bestScore, allModels, allScores = pf.bestFit(SGDClassifier,paramGrid,bag_of_words_train,y_train,bag_of_words_val,y_val,metric=roc_auc_score,greater_is_better=True,scoreLabel='AUC')\n",
    "\n",
    "print(bestModel,bestScore)"
   ]
  },
  {
   "cell_type": "markdown",
   "metadata": {},
   "source": [
    "Evaluate the best model on the test set"
   ]
  },
  {
   "cell_type": "code",
   "execution_count": 22,
   "metadata": {},
   "outputs": [
    {
     "name": "stdout",
     "output_type": "stream",
     "text": [
      "AUC score: 0.93\n",
      "Classification report  :-\n",
      "+--------------+-----------+--------+----------+----------+\n",
      "|    Label     | Precision | Recall | f1-Score | Support  |\n",
      "+--------------+-----------+--------+----------+----------+\n",
      "|      0       |    0.78   |  0.70  |   0.74   | 12535.00 |\n",
      "|      1       |    0.94   |  0.96  |   0.95   | 60300.00 |\n",
      "|  micro avg   |    0.92   |  0.92  |   0.92   | 72835.00 |\n",
      "|  macro avg   |    0.86   |  0.83  |   0.85   | 72835.00 |\n",
      "| weighted avg |    0.91   |  0.92  |   0.91   | 72835.00 |\n",
      "+--------------+-----------+--------+----------+----------+\n",
      "Confusion matrix  :-\n"
     ]
    },
    {
     "data": {
      "image/png": "[encoded data removed]",
      "text/plain": [
       "<Figure size 432x432 with 2 Axes>"
      ]
     },
     "metadata": {},
     "output_type": "display_data"
    }
   ],
   "source": [
    "\n",
    "predicted = bestModel.predict(bag_of_words_test)\n",
    "bow_score = roc_auc_score(y_test,bestModel.decision_function(bag_of_words_test))\n",
    "print('AUC score:',round(bow_score,2))\n",
    "print('Classification report  :-')\n",
    "bow_dict = metrics.classification_report(y_test,predicted,output_dict=True)\n",
    "print_classif_report(bow_dict)\n",
    "print('Confusion matrix  :-')\n",
    "print_confusion_matrix(confusion_matrix(y_test, predicted,labels=[1,0]), [1,0])\n",
    "\n"
   ]
  },
  {
   "cell_type": "code",
   "execution_count": 23,
   "metadata": {},
   "outputs": [
    {
     "data": {
      "image/png": "[encoded data removed]",
      "text/plain": [
       "<Figure size 432x288 with 1 Axes>"
      ]
     },
     "metadata": {},
     "output_type": "display_data"
    }
   ],
   "source": [
    "plot_roc_curve(y_test,bestModel.decision_function(bag_of_words_test))"
   ]
  },
  {
   "cell_type": "markdown",
   "metadata": {},
   "source": [
    "Print most important features for each class"
   ]
  },
  {
   "cell_type": "code",
   "execution_count": 25,
   "metadata": {},
   "outputs": [
    {
     "name": "stdout",
     "output_type": "stream",
     "text": [
      "Negative class\n",
      "0 -0.1889168535426848 disappoint\n",
      "0 -0.1171733417140534 worst\n",
      "0 -0.11660982420158056 terribl\n",
      "0 -0.10414675836074516 two star\n",
      "0 -0.10408792118578669 horribl\n",
      "0 -0.10263480677622236 aw\n",
      "0 -0.09428982559986387 return\n",
      "0 -0.0930853814059048 unfortun\n",
      "0 -0.08974511291911133 stale\n",
      "0 -0.07946123574607442 sorri\n",
      " ************************************* \n",
      "Positive class\n",
      "1 0.25500594798004816 great\n",
      "1 0.2245374806208538 love\n",
      "1 0.20643835604016914 delici\n",
      "1 0.18311144890231576 best\n",
      "1 0.17638443238084683 good\n",
      "1 0.16136390556614794 perfect\n",
      "1 0.14872168250688023 excel\n",
      "1 0.13799369748976237 high recommend\n",
      "1 0.12732010703207547 amaz\n",
      "1 0.11158319727460293 nice\n"
     ]
    }
   ],
   "source": [
    "most_informative_feature(count_vect,bestModel)"
   ]
  },
  {
   "cell_type": "markdown",
   "metadata": {},
   "source": [
    "### Linear SVM for tf-idf"
   ]
  },
  {
   "cell_type": "code",
   "execution_count": 26,
   "metadata": {},
   "outputs": [],
   "source": [
    "# To avoid WRITEBACKIFCOPY base is read only error\n",
    "## Source https://github.com/scikit-learn/scikit-learn/issues/6614\n",
    "class MyTfidfVectorizer(TfidfVectorizer):\n",
    "    def fit_transform(self,x):\n",
    "        res = super(MyTfidfVectorizer,self).fit_transform(x)\n",
    "        res.sort_indices()\n",
    "        return res"
   ]
  },
  {
   "cell_type": "markdown",
   "metadata": {},
   "source": [
    "Vectorize the train,validation and test data and store the vectors in disk for later reuse.\n",
    "We fit_transform on train data and use same vectorizer for transforming validation and test datasets."
   ]
  },
  {
   "cell_type": "code",
   "execution_count": 27,
   "metadata": {},
   "outputs": [],
   "source": [
    "tfidf_vect = MyTfidfVectorizer(ngram_range=(1,2),min_df=50)\n",
    "tfidf_train = tfidf_vect.fit_transform(x_train)\n",
    "tfidf_val =  tfidf_vect.transform(x_val)\n",
    "tfidf_test =  tfidf_vect.transform(x_test)\n",
    "\n",
    "import scipy.sparse\n",
    "scipy.sparse.save_npz('tfidf_train', tfidf_train)\n",
    "scipy.sparse.save_npz('tfidf_val', tfidf_val)\n",
    "scipy.sparse.save_npz('tfidf_test', tfidf_test)"
   ]
  },
  {
   "cell_type": "code",
   "execution_count": 28,
   "metadata": {},
   "outputs": [],
   "source": [
    "tfidf_train=scipy.sparse.load_npz('tfidf_train.npz')\n",
    "tfidf_val=scipy.sparse.load_npz('tfidf_val.npz')\n",
    "tfidf_test=scipy.sparse.load_npz('tfidf_test.npz')"
   ]
  },
  {
   "cell_type": "markdown",
   "metadata": {},
   "source": [
    "Scale and perform optimal hyperparameter search using parfit library\n",
    "More info about parfit is available at :-\n",
    "https://github.com/jmcarpenter2/parfit/blob/master/docs/documentation.md"
   ]
  },
  {
   "cell_type": "code",
   "execution_count": 29,
   "metadata": {},
   "outputs": [],
   "source": [
    "scaler = StandardScaler(with_mean=False)\n",
    "tfidf_val=scaler.fit_transform(tfidf_val)\n",
    "tfidf_train=scaler.fit_transform(tfidf_train)\n",
    "tfidf_test=scaler.fit_transform(tfidf_test)"
   ]
  },
  {
   "cell_type": "code",
   "execution_count": 30,
   "metadata": {},
   "outputs": [
    {
     "name": "stdout",
     "output_type": "stream",
     "text": [
      "-------------FITTING MODELS-------------\n"
     ]
    },
    {
     "name": "stderr",
     "output_type": "stream",
     "text": [
      "[Parallel(n_jobs=-1)]: Using backend LokyBackend with 8 concurrent workers.\n",
      "[Parallel(n_jobs=-1)]: Done   3 out of  16 | elapsed:   42.3s remaining:  3.1min\n",
      "[Parallel(n_jobs=-1)]: Done   5 out of  16 | elapsed:  1.5min remaining:  3.3min\n",
      "[Parallel(n_jobs=-1)]: Done   7 out of  16 | elapsed:  2.3min remaining:  3.0min\n",
      "[Parallel(n_jobs=-1)]: Done   9 out of  16 | elapsed:  2.9min remaining:  2.2min\n",
      "[Parallel(n_jobs=-1)]: Done  11 out of  16 | elapsed:  3.3min remaining:  1.5min\n",
      "[Parallel(n_jobs=-1)]: Done  13 out of  16 | elapsed:  3.6min remaining:   50.3s\n",
      "[Parallel(n_jobs=-1)]: Done  16 out of  16 | elapsed:  4.3min finished\n",
      "[Parallel(n_jobs=-1)]: Using backend LokyBackend with 8 concurrent workers.\n"
     ]
    },
    {
     "name": "stdout",
     "output_type": "stream",
     "text": [
      "-------------SCORING MODELS-------------\n"
     ]
    },
    {
     "name": "stderr",
     "output_type": "stream",
     "text": [
      "[Parallel(n_jobs=-1)]: Done  16 out of  16 | elapsed:    0.1s finished\n"
     ]
    },
    {
     "data": {
      "image/png": "[encoded data removed]",
      "text/plain": [
       "<Figure size 144x432 with 2 Axes>"
      ]
     },
     "metadata": {},
     "output_type": "display_data"
    },
    {
     "name": "stdout",
     "output_type": "stream",
     "text": [
      "SGDClassifier(alpha=0.01, average=False, class_weight=None,\n",
      "       early_stopping=False, epsilon=0.1, eta0=0.0, fit_intercept=True,\n",
      "       l1_ratio=0.15, learning_rate='optimal', loss='hinge', max_iter=1000,\n",
      "       n_iter=None, n_iter_no_change=5, n_jobs=-1, penalty='l2',\n",
      "       power_t=0.5, random_state=None, shuffle=False, tol=None,\n",
      "       validation_fraction=0.1, verbose=0, warm_start=False) 0.833617976168285\n",
      "Wall time: 4min 17s\n"
     ]
    }
   ],
   "source": [
    "%%time\n",
    "\n",
    "grid = {'alpha':[1e-4,1e-3,1e-2,1e-1,1e0,1e1,1e2,1e3],\n",
    "       'max_iter':[1000],\n",
    "       'loss':['hinge'],\n",
    "        'n_jobs':[-1],\n",
    "        'shuffle':[False],\n",
    "       'penalty':['l1','l2']}\n",
    "\n",
    "paramGrid = ParameterGrid(grid)\n",
    "\n",
    "bestModelIdf,bestScore, allModels, allScores = pf.bestFit(SGDClassifier,paramGrid,tfidf_train,y_train,tfidf_val,y_val,metric=roc_auc_score,greater_is_better=True,scoreLabel='AUC')\n",
    "\n",
    "print(bestModelIdf,bestScore)"
   ]
  },
  {
   "cell_type": "markdown",
   "metadata": {},
   "source": [
    "Evaluate the best model on the test set"
   ]
  },
  {
   "cell_type": "code",
   "execution_count": 31,
   "metadata": {},
   "outputs": [
    {
     "name": "stdout",
     "output_type": "stream",
     "text": [
      "AUC score: 0.94\n",
      "Classification report  :-\n",
      "+--------------+-----------+--------+----------+----------+\n",
      "|    Label     | Precision | Recall | f1-Score | Support  |\n",
      "+--------------+-----------+--------+----------+----------+\n",
      "|      0       |    0.78   |  0.71  |   0.74   | 12535.00 |\n",
      "|      1       |    0.94   |  0.96  |   0.95   | 60300.00 |\n",
      "|  micro avg   |    0.91   |  0.91  |   0.91   | 72835.00 |\n",
      "|  macro avg   |    0.86   |  0.83  |   0.85   | 72835.00 |\n",
      "| weighted avg |    0.91   |  0.91  |   0.91   | 72835.00 |\n",
      "+--------------+-----------+--------+----------+----------+\n",
      "Confusion matrix  :-\n"
     ]
    },
    {
     "data": {
      "image/png": "[encoded data removed]",
      "text/plain": [
       "<Figure size 432x432 with 2 Axes>"
      ]
     },
     "metadata": {},
     "output_type": "display_data"
    }
   ],
   "source": [
    "\n",
    "predicted = bestModelIdf.predict(tfidf_test)\n",
    "tfidf_score = roc_auc_score(y_test,bestModelIdf.decision_function(tfidf_test))\n",
    "print('AUC score:',round(tfidf_score,2))\n",
    "print('Classification report  :-')\n",
    "tfidf_dict = metrics.classification_report(y_test,predicted,output_dict=True)\n",
    "print_classif_report(tfidf_dict)\n",
    "print('Confusion matrix  :-')\n",
    "print_confusion_matrix(confusion_matrix(y_test, predicted,labels=[1,0]), [1,0])\n",
    "\n"
   ]
  },
  {
   "cell_type": "code",
   "execution_count": 32,
   "metadata": {},
   "outputs": [
    {
     "data": {
      "image/png": "[encoded data removed]",
      "text/plain": [
       "<Figure size 432x288 with 1 Axes>"
      ]
     },
     "metadata": {},
     "output_type": "display_data"
    }
   ],
   "source": [
    "plot_roc_curve(y_test,bestModelIdf.decision_function(tfidf_test))"
   ]
  },
  {
   "cell_type": "markdown",
   "metadata": {},
   "source": [
    "Print most important features for each class"
   ]
  },
  {
   "cell_type": "code",
   "execution_count": 33,
   "metadata": {},
   "outputs": [
    {
     "name": "stdout",
     "output_type": "stream",
     "text": [
      "Negative class\n",
      "0 -0.1679202684848985 disappoint\n",
      "0 -0.11294413013343474 worst\n",
      "0 -0.10302322593585905 terribl\n",
      "0 -0.09895477661027327 aw\n",
      "0 -0.0946473293181579 horribl\n",
      "0 -0.09270876450857513 two star\n",
      "0 -0.08649112346874059 unfortun\n",
      "0 -0.08073937614633214 bland\n",
      "0 -0.07525094576326823 return\n",
      "0 -0.07481387325893084 stale\n",
      " ************************************* \n",
      "Positive class\n",
      "1 0.2709981105113918 great\n",
      "1 0.23930996541125474 love\n",
      "1 0.20744416459765164 delici\n",
      "1 0.18923619591922022 best\n",
      "1 0.1712471923479797 good\n",
      "1 0.16388774572396358 perfect\n",
      "1 0.15925276268070102 excel\n",
      "1 0.13814708958586333 high recommend\n",
      "1 0.12374768509173989 amaz\n",
      "1 0.11080818033298076 nice\n"
     ]
    }
   ],
   "source": [
    "most_informative_feature(tfidf_vect,bestModelIdf)"
   ]
  },
  {
   "cell_type": "markdown",
   "metadata": {},
   "source": [
    "### Linear SVM classification using average word2Vec vectorizer"
   ]
  },
  {
   "cell_type": "code",
   "execution_count": 69,
   "metadata": {},
   "outputs": [],
   "source": [
    "#y_train.shape#233068\n",
    "#y_val.shape#58268\n",
    "#y_test.shape#72835\n",
    "\n",
    "from nltk.tokenize import word_tokenize\n",
    "\n",
    "train_list = [ [w.lower() for w in word_tokenize(clean_rev) if ((w not in stop) & (w.isalpha()) & (len(w)>2))] for clean_rev in [cleansentence(review) for review in sample['Text'].values[:233068]]]\n",
    "val_list = [ [w.lower() for w in word_tokenize(clean_rev) if ((w not in stop) & (w.isalpha()) & (len(w)>2))] for clean_rev in [cleansentence(review) for review in sample['Text'].values[233068:291336]]]\n",
    "test_list = [ [w.lower() for w in word_tokenize(clean_rev) if ((w not in stop) & (w.isalpha()) & (len(w)>2))] for clean_rev in [cleansentence(review) for review in sample['Text'].values[291336:]]]\n"
   ]
  },
  {
   "cell_type": "code",
   "execution_count": 70,
   "metadata": {},
   "outputs": [],
   "source": [
    "dump_to_file(train_list,'train_list.data')\n",
    "dump_to_file(val_list,'val_list.data')\n",
    "dump_to_file(test_list,'test_list.data')"
   ]
  },
  {
   "cell_type": "code",
   "execution_count": 11,
   "metadata": {},
   "outputs": [],
   "source": [
    "train_list = load_from_file('train_list.data')\n",
    "val_list = load_from_file('val_list.data')\n",
    "test_list = load_from_file('test_list.data')"
   ]
  },
  {
   "cell_type": "markdown",
   "metadata": {},
   "source": [
    "Prepare vocabulary using gensim"
   ]
  },
  {
   "cell_type": "code",
   "execution_count": 12,
   "metadata": {},
   "outputs": [],
   "source": [
    "w2v_model = gensim.models.Word2Vec(train_list,min_count=50,size=300)"
   ]
  },
  {
   "cell_type": "code",
   "execution_count": 13,
   "metadata": {},
   "outputs": [
    {
     "name": "stdout",
     "output_type": "stream",
     "text": [
      "[('great', 0.7035960555076599), ('decent', 0.6836462020874023), ('awesome', 0.6074135303497314), ('terrific', 0.5886241793632507), ('fantastic', 0.5740854740142822), ('excellent', 0.567488431930542), ('bad', 0.5258399248123169), ('yummy', 0.5229069590568542), ('incredible', 0.5213609933853149), ('nice', 0.4884307086467743)]\n",
      "******************************************************************************\n",
      "[('terrible', 0.6002316474914551), ('awful', 0.5648783445358276), ('horrible', 0.5519883632659912), ('gross', 0.5389324426651001), ('weird', 0.5356461405754089), ('funny', 0.5281544923782349), ('good', 0.5258398652076721), ('nasty', 0.5004900693893433), ('disgusting', 0.48209506273269653), ('okay', 0.47481223940849304)]\n"
     ]
    }
   ],
   "source": [
    "print(w2v_model.most_similar('good'))\n",
    "print('******************************************************************************')\n",
    "print(w2v_model.most_similar('bad'))"
   ]
  },
  {
   "cell_type": "markdown",
   "metadata": {},
   "source": [
    "Vectorize train set"
   ]
  },
  {
   "cell_type": "code",
   "execution_count": 14,
   "metadata": {},
   "outputs": [],
   "source": [
    "avg_wt_vecs = []; # the avg-w2v for each sentence/review is stored in this list\n",
    "for sentence in train_list: # for each review/sentence\n",
    "    sent_vec = np.zeros(300) #initialize the vector for the sentence with all 50 components 0\n",
    "    cnt_words =0; # num of words with a valid vector in the sentence/review\n",
    "    for word in sentence: # for each word in a sentence; here sentence is a list of words\n",
    "        try:\n",
    "            vec = w2v_model.wv[word]\n",
    "            sent_vec += vec  #add each component of sentence vector with each component of word vector\n",
    "            cnt_words += 1   #count of words with vector in word2vec model incremented by 1 \n",
    "        except:\n",
    "            pass #word not present in word2vec model vocabulary\n",
    "    if(cnt_words!=0):\n",
    "        sent_vec /= cnt_words #each component of sentence vector has been divided by the count of words in the sentence \n",
    "    avg_wt_vecs.append(sent_vec) #append to list of sentence vectors "
   ]
  },
  {
   "cell_type": "code",
   "execution_count": 15,
   "metadata": {},
   "outputs": [
    {
     "name": "stdout",
     "output_type": "stream",
     "text": [
      "True\n",
      "False\n"
     ]
    }
   ],
   "source": [
    "print(np.isfinite(avg_wt_vecs).all())\n",
    "print(np.isnan(avg_wt_vecs).any())"
   ]
  },
  {
   "cell_type": "markdown",
   "metadata": {},
   "source": [
    "Vectorize validation set"
   ]
  },
  {
   "cell_type": "code",
   "execution_count": 16,
   "metadata": {},
   "outputs": [],
   "source": [
    "val_avg_wt_vecs = []; # the avg-w2v for each sentence/review is stored in this list\n",
    "\n",
    "for sentence in val_list: # for each review/sentence\n",
    "    sent_vec = np.zeros(300) #initialize the vector for the sentence with all 50 components 0\n",
    "    cnt_words =0; # num of words with a valid vector in the sentence/review\n",
    "    for word in sentence: # for each word in a sentence; here sentence is a list of words\n",
    "        try:\n",
    "            vec = w2v_model.wv[word]\n",
    "            sent_vec += vec  #add each component of sentence vector with each component of word vector\n",
    "            cnt_words += 1   #count of words with vector in word2vec model incremented by 1 \n",
    "        except:\n",
    "            pass #word not present in word2vec model vocabulary\n",
    "    \n",
    "    if (cnt_words!=0):\n",
    "        sent_vec /= cnt_words #each component of sentence vector has been divided by the count of words in the sentence \n",
    "    val_avg_wt_vecs.append(sent_vec) #append to list of sentence vectors"
   ]
  },
  {
   "cell_type": "code",
   "execution_count": 17,
   "metadata": {},
   "outputs": [
    {
     "name": "stdout",
     "output_type": "stream",
     "text": [
      "True\n",
      "False\n"
     ]
    }
   ],
   "source": [
    "print(np.isfinite(val_avg_wt_vecs).all())\n",
    "print(np.isnan(val_avg_wt_vecs).any())"
   ]
  },
  {
   "cell_type": "markdown",
   "metadata": {},
   "source": [
    "Vectorize the Test set"
   ]
  },
  {
   "cell_type": "code",
   "execution_count": 18,
   "metadata": {},
   "outputs": [],
   "source": [
    "test_avg_wt_vecs = []; # the avg-w2v for each sentence/review is stored in this list\n",
    "for sentence in test_list: # for each review/sentence\n",
    "    sent_vec = np.zeros(300) #initialize the vector for the sentence with all 50 components 0\n",
    "    cnt_words =0; # num of words with a valid vector in the sentence/review\n",
    "    for word in sentence: # for each word in a sentence; here sentence is a list of words\n",
    "        try:\n",
    "            vec = w2v_model.wv[word]\n",
    "            sent_vec += vec  #add each component of sentence vector with each component of word vector\n",
    "            cnt_words += 1   #count of words with vector in word2vec model incremented by 1 \n",
    "        except:\n",
    "            pass #word not present in word2vec model vocabulary\n",
    "    if(cnt_words!=0):\n",
    "        sent_vec /= cnt_words #each component of sentence vector has been divided by the count of words in the sentence \n",
    "    test_avg_wt_vecs.append(sent_vec) #append to list of sentence vectors"
   ]
  },
  {
   "cell_type": "code",
   "execution_count": 19,
   "metadata": {},
   "outputs": [
    {
     "name": "stdout",
     "output_type": "stream",
     "text": [
      "True\n",
      "False\n"
     ]
    }
   ],
   "source": [
    "print(np.isfinite(test_avg_wt_vecs).all())\n",
    "print(np.isnan(test_avg_wt_vecs).any())"
   ]
  },
  {
   "cell_type": "code",
   "execution_count": 17,
   "metadata": {},
   "outputs": [],
   "source": [
    "X_tr = avg_wt_vecs\n",
    "X_test = test_avg_wt_vecs\n",
    "X_val = val_avg_wt_vecs\n",
    "print(len(X_tr))\n",
    "print(len(X_val))\n",
    "print(len(X_test))\n",
    "\n",
    "dump_to_file(avg_wt_vecs,'avg_wt_vecs_train.data')\n",
    "dump_to_file(val_avg_wt_vecs,'val_avg_wt_vecs.data')\n",
    "dump_to_file(test_avg_wt_vecs,'test_avg_wt_vecs.data')\n",
    "avg_wt_vecs=load_from_file('avg_wt_vecs_train.data')\n",
    "val_avg_wt_vecs=load_from_file('val_avg_wt_vecs.data')\n",
    "test_avg_wt_vecs=load_from_file('test_avg_wt_vecs.data')"
   ]
  },
  {
   "cell_type": "markdown",
   "metadata": {},
   "source": [
    "Scale and perform optimal hyperparameter search using parfit library\n",
    "More info about parfit is available at :-\n",
    "https://github.com/jmcarpenter2/parfit/blob/master/docs/documentation.md"
   ]
  },
  {
   "cell_type": "code",
   "execution_count": 19,
   "metadata": {},
   "outputs": [],
   "source": [
    "scaler=StandardScaler()\n",
    "X_tr=scaler.fit_transform(avg_wt_vecs)\n",
    "X_val=scaler.fit_transform(val_avg_wt_vecs)\n",
    "X_test=scaler.fit_transform(test_avg_wt_vecs)"
   ]
  },
  {
   "cell_type": "code",
   "execution_count": 20,
   "metadata": {},
   "outputs": [
    {
     "name": "stdout",
     "output_type": "stream",
     "text": [
      "-------------FITTING MODELS-------------\n"
     ]
    },
    {
     "name": "stderr",
     "output_type": "stream",
     "text": [
      "[Parallel(n_jobs=-1)]: Using backend LokyBackend with 8 concurrent workers.\n",
      "[Parallel(n_jobs=-1)]: Done   3 out of  16 | elapsed:  4.9min remaining: 21.4min\n",
      "[Parallel(n_jobs=-1)]: Done   5 out of  16 | elapsed:  9.9min remaining: 21.8min\n",
      "[Parallel(n_jobs=-1)]: Done   7 out of  16 | elapsed: 12.0min remaining: 15.4min\n",
      "[Parallel(n_jobs=-1)]: Done   9 out of  16 | elapsed: 13.1min remaining: 10.2min\n",
      "[Parallel(n_jobs=-1)]: Done  11 out of  16 | elapsed: 16.9min remaining:  7.7min\n",
      "[Parallel(n_jobs=-1)]: Done  13 out of  16 | elapsed: 18.7min remaining:  4.3min\n",
      "[Parallel(n_jobs=-1)]: Done  16 out of  16 | elapsed: 30.1min finished\n",
      "[Parallel(n_jobs=-1)]: Using backend LokyBackend with 8 concurrent workers.\n"
     ]
    },
    {
     "name": "stdout",
     "output_type": "stream",
     "text": [
      "-------------SCORING MODELS-------------\n"
     ]
    },
    {
     "name": "stderr",
     "output_type": "stream",
     "text": [
      "[Parallel(n_jobs=-1)]: Done  16 out of  16 | elapsed:    2.1s finished\n"
     ]
    },
    {
     "data": {
      "image/png": "[encoded data removed]",
      "text/plain": [
       "<Figure size 144x432 with 2 Axes>"
      ]
     },
     "metadata": {},
     "output_type": "display_data"
    },
    {
     "name": "stdout",
     "output_type": "stream",
     "text": [
      "SGDClassifier(alpha=0.0001, average=False, class_weight=None,\n",
      "       early_stopping=False, epsilon=0.1, eta0=0.0, fit_intercept=True,\n",
      "       l1_ratio=0.15, learning_rate='optimal', loss='hinge', max_iter=1000,\n",
      "       n_iter=None, n_iter_no_change=5, n_jobs=-1, penalty='l1',\n",
      "       power_t=0.5, random_state=None, shuffle=True, tol=None,\n",
      "       validation_fraction=0.1, verbose=0, warm_start=False) 0.7767418957813856\n",
      "Wall time: 30min 6s\n"
     ]
    }
   ],
   "source": [
    "%%time\n",
    "\n",
    "grid = {'alpha':[1e-4,1e-3,1e-2,1e-1,1e0,1e1,1e2,1e3],\n",
    "       'max_iter':[1000],\n",
    "       'loss':['hinge'],\n",
    "        'n_jobs':[-1],\n",
    "       'penalty':['l1','l2']}\n",
    "\n",
    "paramGrid = ParameterGrid(grid)\n",
    "\n",
    "bestModel, bestScore, allModels, allScores = pf.bestFit(SGDClassifier,paramGrid,X_tr,y_train,X_val,y_val,metric=roc_auc_score,greater_is_better=True,scoreLabel='AUC')\n",
    "\n",
    "print(bestModel,bestScore)"
   ]
  },
  {
   "cell_type": "markdown",
   "metadata": {},
   "source": [
    "Evaluate the best model on the test set"
   ]
  },
  {
   "cell_type": "code",
   "execution_count": 21,
   "metadata": {},
   "outputs": [
    {
     "name": "stdout",
     "output_type": "stream",
     "text": [
      "AUC score: 0.94\n",
      "Classification report  :-\n",
      "+--------------+-----------+--------+----------+----------+\n",
      "|    Label     | Precision | Recall | f1-Score | Support  |\n",
      "+--------------+-----------+--------+----------+----------+\n",
      "|      0       |    0.84   |  0.59  |   0.69   | 12535.00 |\n",
      "|      1       |    0.92   |  0.98  |   0.95   | 60300.00 |\n",
      "|  micro avg   |    0.91   |  0.91  |   0.91   | 72835.00 |\n",
      "|  macro avg   |    0.88   |  0.78  |   0.82   | 72835.00 |\n",
      "| weighted avg |    0.91   |  0.91  |   0.90   | 72835.00 |\n",
      "+--------------+-----------+--------+----------+----------+\n",
      "Confusion matrix  :-\n"
     ]
    },
    {
     "data": {
      "image/png": "[encoded data removed]",
      "text/plain": [
       "<Figure size 432x432 with 2 Axes>"
      ]
     },
     "metadata": {},
     "output_type": "display_data"
    }
   ],
   "source": [
    "\n",
    "predicted = bestModel.predict(X_test)\n",
    "avg_w2v_score = roc_auc_score(y_test,bestModel.decision_function(X_test))\n",
    "print('AUC score:',round(avg_w2v_score,2))\n",
    "print('Classification report  :-')\n",
    "avg_w2v_dict = metrics.classification_report(y_test,predicted,output_dict=True)\n",
    "print_classif_report(avg_w2v_dict)\n",
    "print('Confusion matrix  :-')\n",
    "print_confusion_matrix(confusion_matrix(y_test, predicted,labels=[1,0]), [1,0])\n",
    "\n"
   ]
  },
  {
   "cell_type": "code",
   "execution_count": 23,
   "metadata": {},
   "outputs": [
    {
     "data": {
      "image/png": "[encoded data removed]",
      "text/plain": [
       "<Figure size 432x288 with 1 Axes>"
      ]
     },
     "metadata": {},
     "output_type": "display_data"
    }
   ],
   "source": [
    "plot_roc_curve(y_test,bestModel.decision_function(X_test))"
   ]
  },
  {
   "cell_type": "markdown",
   "metadata": {},
   "source": [
    "### Linear SVM for Tf-Idf weighted word2Vec"
   ]
  },
  {
   "cell_type": "markdown",
   "metadata": {},
   "source": [
    "Use non-stemmed data for tf-idf weighted word2vec"
   ]
  },
  {
   "cell_type": "code",
   "execution_count": 26,
   "metadata": {},
   "outputs": [],
   "source": [
    "X_tr1, X_test, y_tr1, y_test = train_test_split(sample['CleanedTextNoStem'].values, sample['Score'].values, test_size=0.2,shuffle=False)\n",
    "X_tr, X_val, y_tr, y_val = train_test_split(X_tr1, y_tr1, test_size=0.2,shuffle=False)"
   ]
  },
  {
   "cell_type": "code",
   "execution_count": 29,
   "metadata": {},
   "outputs": [],
   "source": [
    "tfidf_vect = MyTfidfVectorizer(ngram_range=(1,2),min_df=50)\n",
    "tfidf_train = tfidf_vect.fit_transform(X_tr)\n",
    "\n",
    "tfidf_test =  tfidf_vect.transform(X_test) #use same vectorizer to transform test instances\n",
    "tfidf_val =  tfidf_vect.transform(X_val) #use same vectorizer to transform test instances\n",
    "\n",
    "features = tfidf_vect.get_feature_names()\n",
    "#len(features)\n",
    "dict_feature={}\n",
    "idx=0\n",
    "for feature in features:\n",
    "    dict_feature[feature]=idx\n",
    "    idx += 1\n",
    "#len(features)"
   ]
  },
  {
   "cell_type": "markdown",
   "metadata": {},
   "source": [
    "Vectorize train set"
   ]
  },
  {
   "cell_type": "code",
   "execution_count": 30,
   "metadata": {},
   "outputs": [],
   "source": [
    "index = 0\n",
    "tfidf_wt_vecs = []; # the tfidf-w2v for each sentence/review in train set is stored in this list\n",
    "for sentence in train_list: # for each review/sentence\n",
    "    \n",
    "    sent_vec = np.zeros(300) #initialize the vector for the sentence with all 50 components 0\n",
    "    sum_tfidf = 0;\n",
    "    for word in sentence: # for each word in a sentence; here sentence is a list of words\n",
    "        try:\n",
    "            vec = w2v_model.wv[word]\n",
    "            tfidf = tfidf_train[index,dict_feature.get(word)]\n",
    "            sent_vec += tfidf*vec  #add each component of sentence vector with each component of word vector\n",
    "            sum_tfidf +=  tfidf  #count of words with vector in word2vec model incremented by 1 \n",
    "        except:\n",
    "            pass #word not present in word2vec model vocabulary\n",
    "    \n",
    "    if sum_tfidf != 0:\n",
    "            sent_vec /= sum_tfidf #each component of sentence vector has been divided by the count of words in the sentence \n",
    "    \n",
    "       \n",
    "    tfidf_wt_vecs.append(sent_vec) #append to list of sentence vectors\n",
    "    \n",
    "    index += 1\n",
    "    "
   ]
  },
  {
   "cell_type": "code",
   "execution_count": 31,
   "metadata": {},
   "outputs": [
    {
     "name": "stdout",
     "output_type": "stream",
     "text": [
      "True\n",
      "False\n"
     ]
    }
   ],
   "source": [
    "print(np.isfinite(tfidf_wt_vecs).all())\n",
    "print(np.isnan(tfidf_wt_vecs).any())"
   ]
  },
  {
   "cell_type": "markdown",
   "metadata": {},
   "source": [
    "Vectorize validation set"
   ]
  },
  {
   "cell_type": "code",
   "execution_count": 32,
   "metadata": {},
   "outputs": [],
   "source": [
    "index = 0\n",
    "val_tfidf_wt_vecs = []; # the tfidf-w2v for each sentence/review in train set is stored in this list\n",
    "for sentence in val_list: # for each review/sentence\n",
    "    sent_vec = np.zeros(300) #initialize the vector for the sentence with all 50 components 0\n",
    "    sum_tfidf = 0;\n",
    "    for word in sentence: # for each word in a sentence; here sentence is a list of words\n",
    "        try:\n",
    "            vec = w2v_model.wv[word]\n",
    "            tfidf = tfidf_val[index,dict_feature.get(word)]\n",
    "            sent_vec += tfidf*vec  #add each component of sentence vector with each component of word vector\n",
    "            sum_tfidf +=  tfidf  #count of words with vector in word2vec model incremented by 1 \n",
    "        except:\n",
    "            pass #word not present in word2vec model vocabulary\n",
    "    if sum_tfidf !=0:\n",
    "        sent_vec /= sum_tfidf #each component of sentence vector has been divided by the count of words in the sentence \n",
    "    val_tfidf_wt_vecs.append(sent_vec) #append to list of sentence vectors\n",
    "    #if print(index,sent_vec,sum_tfidf)\n",
    "    index += 1\n",
    "    "
   ]
  },
  {
   "cell_type": "code",
   "execution_count": 33,
   "metadata": {},
   "outputs": [
    {
     "name": "stdout",
     "output_type": "stream",
     "text": [
      "True\n",
      "False\n"
     ]
    }
   ],
   "source": [
    "print(np.isfinite(val_tfidf_wt_vecs).all())\n",
    "print(np.isnan(val_tfidf_wt_vecs).any())"
   ]
  },
  {
   "cell_type": "markdown",
   "metadata": {},
   "source": [
    "Vectorize test set"
   ]
  },
  {
   "cell_type": "code",
   "execution_count": 34,
   "metadata": {},
   "outputs": [],
   "source": [
    "index = 0\n",
    "test_tfidf_wt_vecs = []; # the tfidf-w2v for each sentence/review in train set is stored in this list\n",
    "for sentence in test_list: # for each review/sentence\n",
    "    sent_vec = np.zeros(300) #initialize the vector for the sentence with all 50 components 0\n",
    "    sum_tfidf = 0;\n",
    "    for word in sentence: # for each word in a sentence; here sentence is a list of words\n",
    "        try:\n",
    "            vec = w2v_model.wv[word]\n",
    "            tfidf = tfidf_test[index,dict_feature.get(word)]\n",
    "            sent_vec += tfidf*vec  #add each component of sentence vector with each component of word vector\n",
    "            sum_tfidf +=  tfidf  #count of words with vector in word2vec model incremented by 1 \n",
    "        except:\n",
    "            pass #word not present in word2vec model vocabulary\n",
    "    if sum_tfidf !=0:\n",
    "        sent_vec /= sum_tfidf #each component of sentence vector has been divided by the count of words in the sentence \n",
    "    test_tfidf_wt_vecs.append(sent_vec) #append to list of sentence vectors\n",
    "    #if print(index,sent_vec,sum_tfidf)\n",
    "    index += 1\n",
    "    "
   ]
  },
  {
   "cell_type": "code",
   "execution_count": 35,
   "metadata": {},
   "outputs": [
    {
     "name": "stdout",
     "output_type": "stream",
     "text": [
      "True\n",
      "False\n"
     ]
    }
   ],
   "source": [
    "print(np.isfinite(test_tfidf_wt_vecs).all())\n",
    "print(np.isnan(test_tfidf_wt_vecs).any())"
   ]
  },
  {
   "cell_type": "code",
   "execution_count": 36,
   "metadata": {},
   "outputs": [],
   "source": [
    "X_tr = tfidf_wt_vecs\n",
    "X_test = test_tfidf_wt_vecs\n",
    "X_val = val_tfidf_wt_vecs"
   ]
  },
  {
   "cell_type": "code",
   "execution_count": 24,
   "metadata": {},
   "outputs": [],
   "source": [
    "dump_to_file(test_tfidf_wt_vecs,'test_tfidf_wt_vecs.data')\n",
    "dump_to_file(tfidf_wt_vecs,'tfidf_wt_vecs.data')\n",
    "dump_to_file(val_tfidf_wt_vecs,'val_tfidf_wt_vecs.data')\n",
    "tfidf_wt_vecs = load_from_file('tfidf_wt_vecs.data')\n",
    "val_tfidf_wt_vecs = load_from_file('val_tfidf_wt_vecs.data')\n",
    "test_tfidf_wt_vecs = load_from_file('test_tfidf_wt_vecs.data')"
   ]
  },
  {
   "cell_type": "markdown",
   "metadata": {},
   "source": [
    "Scale and perform optimal hyperparameter search using parfit library\n",
    "More info about parfit is available at :-\n",
    "https://github.com/jmcarpenter2/parfit/blob/master/docs/documentation.md"
   ]
  },
  {
   "cell_type": "code",
   "execution_count": 25,
   "metadata": {},
   "outputs": [],
   "source": [
    "scaler=StandardScaler()\n",
    "X_tr=scaler.fit_transform(tfidf_wt_vecs)\n",
    "X_val=scaler.fit_transform(val_tfidf_wt_vecs)\n",
    "X_test=scaler.fit_transform(test_tfidf_wt_vecs)"
   ]
  },
  {
   "cell_type": "code",
   "execution_count": 26,
   "metadata": {},
   "outputs": [
    {
     "name": "stdout",
     "output_type": "stream",
     "text": [
      "-------------FITTING MODELS-------------\n"
     ]
    },
    {
     "name": "stderr",
     "output_type": "stream",
     "text": [
      "[Parallel(n_jobs=-1)]: Using backend LokyBackend with 8 concurrent workers.\n",
      "[Parallel(n_jobs=-1)]: Done   3 out of  16 | elapsed:  7.7min remaining: 33.4min\n",
      "[Parallel(n_jobs=-1)]: Done   5 out of  16 | elapsed: 14.9min remaining: 32.9min\n",
      "[Parallel(n_jobs=-1)]: Done   7 out of  16 | elapsed: 16.3min remaining: 20.9min\n",
      "[Parallel(n_jobs=-1)]: Done   9 out of  16 | elapsed: 23.3min remaining: 18.1min\n",
      "[Parallel(n_jobs=-1)]: Done  11 out of  16 | elapsed: 25.3min remaining: 11.5min\n",
      "[Parallel(n_jobs=-1)]: Done  13 out of  16 | elapsed: 29.2min remaining:  6.7min\n",
      "[Parallel(n_jobs=-1)]: Done  16 out of  16 | elapsed: 36.0min finished\n",
      "[Parallel(n_jobs=-1)]: Using backend LokyBackend with 8 concurrent workers.\n"
     ]
    },
    {
     "name": "stdout",
     "output_type": "stream",
     "text": [
      "-------------SCORING MODELS-------------\n"
     ]
    },
    {
     "name": "stderr",
     "output_type": "stream",
     "text": [
      "[Parallel(n_jobs=-1)]: Done  16 out of  16 | elapsed:    2.2s finished\n"
     ]
    },
    {
     "data": {
      "image/png": "[encoded data removed]",
      "text/plain": [
       "<Figure size 144x432 with 2 Axes>"
      ]
     },
     "metadata": {},
     "output_type": "display_data"
    },
    {
     "name": "stdout",
     "output_type": "stream",
     "text": [
      "SGDClassifier(alpha=0.0001, average=False, class_weight=None,\n",
      "       early_stopping=False, epsilon=0.1, eta0=0.0, fit_intercept=True,\n",
      "       l1_ratio=0.15, learning_rate='optimal', loss='log', max_iter=1000,\n",
      "       n_iter=None, n_iter_no_change=5, n_jobs=-1, penalty='l2',\n",
      "       power_t=0.5, random_state=None, shuffle=True, tol=None,\n",
      "       validation_fraction=0.1, verbose=0, warm_start=False) 0.9211347633445676\n",
      "Wall time: 36min 5s\n"
     ]
    }
   ],
   "source": [
    "%%time\n",
    "\n",
    "grid = {'alpha':[1e-4,1e-3,1e-2,1e-1,1e0,1e1,1e2,1e3],\n",
    "       'max_iter':[1000],\n",
    "       'loss':['log'],\n",
    "        'n_jobs':[-1],\n",
    "       'penalty':['l1','l2']}\n",
    "\n",
    "paramGrid = ParameterGrid(grid)\n",
    "\n",
    "bestModel, bestScore, allModels, allScores = pf.bestFit(SGDClassifier,paramGrid,X_tr,y_train,X_val,y_val,metric=roc_auc_score,greater_is_better=True,scoreLabel='AUC')\n",
    "\n",
    "print(bestModel,bestScore)"
   ]
  },
  {
   "cell_type": "markdown",
   "metadata": {},
   "source": [
    "Evaluate best model on test set"
   ]
  },
  {
   "cell_type": "code",
   "execution_count": 27,
   "metadata": {},
   "outputs": [
    {
     "name": "stdout",
     "output_type": "stream",
     "text": [
      "AUC score: 0.92\n",
      "Classification report  :-\n",
      "+--------------+-----------+--------+----------+----------+\n",
      "|    Label     | Precision | Recall | f1-Score | Support  |\n",
      "+--------------+-----------+--------+----------+----------+\n",
      "|      0       |    0.80   |  0.51  |   0.63   | 12535.00 |\n",
      "|      1       |    0.91   |  0.97  |   0.94   | 60300.00 |\n",
      "|  micro avg   |    0.89   |  0.89  |   0.89   | 72835.00 |\n",
      "|  macro avg   |    0.85   |  0.74  |   0.78   | 72835.00 |\n",
      "| weighted avg |    0.89   |  0.89  |   0.88   | 72835.00 |\n",
      "+--------------+-----------+--------+----------+----------+\n",
      "Confusion matrix  :-\n"
     ]
    },
    {
     "data": {
      "image/png": "[encoded data removed]",
      "text/plain": [
       "<Figure size 432x432 with 2 Axes>"
      ]
     },
     "metadata": {},
     "output_type": "display_data"
    }
   ],
   "source": [
    "\n",
    "predicted = bestModel.predict(X_test)\n",
    "tfidf_w2v_score = roc_auc_score(y_test,bestModel.decision_function(X_test))\n",
    "print('AUC score:',round(tfidf_w2v_score,2))\n",
    "print('Classification report  :-')\n",
    "tfidf_w2v_dict = metrics.classification_report(y_test,predicted,output_dict=True)\n",
    "print_classif_report(tfidf_w2v_dict)\n",
    "print('Confusion matrix  :-')\n",
    "print_confusion_matrix(confusion_matrix(y_test, predicted,labels=[1,0]), [1,0])\n",
    "\n"
   ]
  },
  {
   "cell_type": "code",
   "execution_count": 28,
   "metadata": {},
   "outputs": [
    {
     "data": {
      "image/png": "[encoded data removed]",
      "text/plain": [
       "<Figure size 432x288 with 1 Axes>"
      ]
     },
     "metadata": {},
     "output_type": "display_data"
    }
   ],
   "source": [
    "plot_roc_curve(y_test,bestModel.decision_function(X_test))"
   ]
  },
  {
   "cell_type": "markdown",
   "metadata": {},
   "source": [
    "### Summary for each vectorization using linear svm:-"
   ]
  },
  {
   "cell_type": "code",
   "execution_count": 1,
   "metadata": {},
   "outputs": [
    {
     "name": "stdout",
     "output_type": "stream",
     "text": [
      "+--------------+--------+---------+------+\n",
      "|  Vectorizer  | Alpha  | Penalty | AUC  |\n",
      "+--------------+--------+---------+------+\n",
      "|  BOW bigram  |  0.01  |    L2   | 0.93 |\n",
      "| TFIDF bigram |  0.01  |    L2   | 0.94 |\n",
      "|   Avg w2v    | 0.0001 |    L1   | 0.94 |\n",
      "|  TFIDF w2v   | 0.0001 |    L2   | 0.92 |\n",
      "+--------------+--------+---------+------+\n"
     ]
    }
   ],
   "source": [
    "from prettytable import PrettyTable\n",
    "tab = PrettyTable()\n",
    "tab.field_names = [\"Vectorizer\",\"Alpha\",\"Penalty\",\"AUC\"]\n",
    "list1=[\"BOW bigram\",\"0.01\",\"L2\",\"0.93\"]\n",
    "list2=[\"TFIDF bigram\",\"0.01\",\"L2\",\"0.94\"]\n",
    "list3=[\"Avg w2v\",\"0.0001\",\"L1\",\"0.94\"]\n",
    "list4=[\"TFIDF w2v\",\"0.0001\",\"L2\",\"0.92\"]\n",
    "tab.add_row(list1)\n",
    "tab.add_row(list2)\n",
    "tab.add_row(list3)\n",
    "tab.add_row(list4)\n",
    "print(tab) "
   ]
  },
  {
   "cell_type": "code",
   "execution_count": null,
   "metadata": {},
   "outputs": [],
   "source": []
  }
 ],
 "metadata": {
  "kernelspec": {
   "display_name": "Python 3",
   "language": "python",
   "name": "python3"
  },
  "language_info": {
   "codemirror_mode": {
    "name": "ipython",
    "version": 3
   },
   "file_extension": ".py",
   "mimetype": "text/x-python",
   "name": "python",
   "nbconvert_exporter": "python",
   "pygments_lexer": "ipython3",
   "version": "3.6.5"
  }
 },
 "nbformat": 4,
 "nbformat_minor": 2
}
