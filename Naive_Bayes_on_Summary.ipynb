{
 "cells": [
  {
   "cell_type": "markdown",
   "metadata": {},
   "source": [
    "# Naive Bayes classifier for Amazon fine food reviews for Bag of words and tf-idf"
   ]
  },
  {
   "cell_type": "markdown",
   "metadata": {},
   "source": [
    "### The objective\n",
    "\n",
    "Given a text review, we have to predict whether the review represents positove sentiment or negative.\n",
    "In other words, we ahve to classify the review as 'Positive' or 'Negative'.\n",
    "We will use the Amazon fine food review dataset from Kaggle.com\n",
    "\n",
    "https://www.kaggle.com/snap/amazon-fine-food-reviews\n",
    "    \n",
    "### Context\n",
    "\n",
    "This dataset consists of reviews of fine foods from amazon. The data span a period of more than 10 years, including all ~500,000 reviews up to October 2012. Reviews include product and user information, ratings, and a plain text review. It also includes reviews from all other Amazon categories.\n",
    "\n",
    "### Contents\n",
    "\n",
    "    Reviews.csv: Pulled from the corresponding SQLite table named Reviews in database.sqlite\n",
    "    database.sqlite: Contains the table 'Reviews'\n",
    "\n",
    "Data includes:\n",
    "- Reviews from Oct 1999 - Oct 2012\n",
    "- 568,454 reviews\n",
    "- 256,059 users\n",
    "- 74,258 products\n",
    "- 260 users with > 50 reviews    \n",
    "\n",
    "In this notebook, we will use MultinomialNB and BernoulliNB classifiers on BoW and Tf-Idf vectorizers on summary column. \n",
    "We will also check if adding additional feature like length of text helps in improving the performance.\n",
    "\n",
    "First, import all required libraries\n"
   ]
  },
  {
   "cell_type": "code",
   "execution_count": 1,
   "metadata": {},
   "outputs": [
    {
     "name": "stdout",
     "output_type": "stream",
     "text": [
      "Done\n",
      "Wall time: 54.2 s\n"
     ]
    }
   ],
   "source": [
    "%%time\n",
    "%matplotlib inline\n",
    "from datetime import datetime\n",
    "import sqlite3\n",
    "from sklearn.metrics import roc_curve, auc,roc_auc_score\n",
    "import pandas as pd\n",
    "import numpy as np\n",
    "import nltk\n",
    "import string\n",
    "import matplotlib.pyplot as plt\n",
    "import seaborn as sns\n",
    "from sklearn.feature_extraction.text import TfidfTransformer\n",
    "from sklearn.feature_extraction.text import TfidfVectorizer\n",
    "from sklearn.naive_bayes import BernoulliNB\n",
    "from sklearn.model_selection import GridSearchCV\n",
    "from sklearn.model_selection import TimeSeriesSplit\n",
    "from sklearn.naive_bayes import MultinomialNB\n",
    "from sklearn.feature_extraction.text import CountVectorizer\n",
    "from sklearn.metrics import confusion_matrix\n",
    "from sklearn.model_selection import train_test_split\n",
    "from sklearn import metrics\n",
    "from sklearn.metrics import roc_curve, auc\n",
    "from nltk.stem.porter import PorterStemmer\n",
    "from sklearn.pipeline import Pipeline, FeatureUnion\n",
    "from sklearn.feature_extraction.text import CountVectorizer\n",
    "from sklearn.feature_extraction.text import TfidfTransformer\n",
    "from sklearn.preprocessing import FunctionTransformer\n",
    "import warnings\n",
    "warnings.filterwarnings('ignore')\n",
    "import gensim\n",
    "print('Done')"
   ]
  },
  {
   "cell_type": "markdown",
   "metadata": {},
   "source": [
    "#### Function to print confusion matrix and classification report"
   ]
  },
  {
   "cell_type": "code",
   "execution_count": 2,
   "metadata": {},
   "outputs": [],
   "source": [
    "from prettytable import PrettyTable\n",
    "#source: https://gist.github.com/shaypal5/94c53d765083101efc0240d776a23823\n",
    "\n",
    "def print_confusion_matrix(confusion_matrix, class_names, figsize = (6,6), fontsize=10):\n",
    "    \n",
    "    df_cm = pd.DataFrame(\n",
    "        confusion_matrix, index=class_names, columns=class_names, \n",
    "    )\n",
    "    fig = plt.figure(figsize=figsize)\n",
    "    try:\n",
    "        heatmap = sns.heatmap(df_cm, annot=True, fmt=\"d\")\n",
    "    except ValueError:\n",
    "        raise ValueError(\"Confusion matrix values must be integers.\")\n",
    "    heatmap.yaxis.set_ticklabels(heatmap.yaxis.get_ticklabels(), rotation=0, ha='right', fontsize=fontsize)\n",
    "    heatmap.xaxis.set_ticklabels(heatmap.xaxis.get_ticklabels(), rotation=45, ha='right', fontsize=fontsize)\n",
    "    plt.ylabel('True label')\n",
    "    plt.xlabel('Predicted label')\n",
    "    \n",
    "\n",
    "    \n",
    "def print_classif_report(input_dict):\n",
    "    tab = PrettyTable()\n",
    "    tab.field_names = [\"Label\",\"Precision\",\"Recall\",\"f1-Score\",\"Support\"]\n",
    "    list1=[]\n",
    "    for k,v in input_dict.items():\n",
    "        list1=[]\n",
    "        list1.append(k)\n",
    "        for i,j in v.items():\n",
    "            list1.append(\"{0:.2f}\".format(j))\n",
    "        \n",
    "        tab.add_row(list1)\n",
    "    print(tab)    "
   ]
  },
  {
   "cell_type": "markdown",
   "metadata": {},
   "source": [
    "#### function to get important features for given classifier and vectorizer"
   ]
  },
  {
   "cell_type": "code",
   "execution_count": 4,
   "metadata": {},
   "outputs": [],
   "source": [
    "\n",
    "def most_informative_feature(vectorizer, classifier, n=10):\n",
    "    class_labels = classifier.classes_\n",
    "    feature_names = vectorizer.get_feature_names()\n",
    "    topn_class1 = sorted(zip(classifier.feature_log_prob_[0], feature_names),reverse=True)[:n]\n",
    "    topn_class2 = sorted(zip(classifier.feature_log_prob_[1], feature_names),reverse=True)[:n]\n",
    "\n",
    "    print('Negative class')\n",
    "    \n",
    "    for coef, feat in topn_class1:\n",
    "        print(class_labels[0], coef, feat)\n",
    "\n",
    "    print(' ************************************* ')\n",
    "    print('Positive class')\n",
    "\n",
    "    for coef, feat in (topn_class2):\n",
    "        print(class_labels[1], coef, feat)\n"
   ]
  },
  {
   "cell_type": "markdown",
   "metadata": {},
   "source": [
    "### function to return column of text lengths"
   ]
  },
  {
   "cell_type": "code",
   "execution_count": 5,
   "metadata": {},
   "outputs": [],
   "source": [
    "def get_text_length(x):\n",
    "    return np.array([len(t) for t in x]).reshape(-1, 1)"
   ]
  },
  {
   "cell_type": "markdown",
   "metadata": {},
   "source": [
    "### Read the data from SQLite file"
   ]
  },
  {
   "cell_type": "markdown",
   "metadata": {},
   "source": [
    "Read the data from database.\n",
    "We will not consider 3 star reviews as they are neutral (neither completely positive nor negative)"
   ]
  },
  {
   "cell_type": "code",
   "execution_count": 6,
   "metadata": {},
   "outputs": [],
   "source": [
    "# using the SQLite Table to read data.\n",
    "con = sqlite3.connect('./database.sqlite') \n",
    "\n",
    "#filtering only positive and negative reviews i.e. \n",
    "# not taking into consideration those reviews with Score=3 as they are neutral\n",
    "\n",
    "filtered_data = pd.read_sql_query(\"\"\"\n",
    "SELECT *\n",
    "FROM Reviews\n",
    "WHERE Score != 3\n",
    "\"\"\", con) \n",
    "\n",
    "#Function to map reviews with Score>3 to a positive rating, and reviews with a score<3 to a negative rating.\n",
    "def partition(x):\n",
    "    if x < 3:\n",
    "        return 0\n",
    "    return 1\n",
    "\n",
    "#changing reviews with score less than 3 to be positive and vice-versa\n",
    "\n",
    "filtered_data['Score'] = filtered_data['Score'].map(partition)"
   ]
  },
  {
   "cell_type": "markdown",
   "metadata": {},
   "source": [
    "Check sample data"
   ]
  },
  {
   "cell_type": "code",
   "execution_count": 7,
   "metadata": {},
   "outputs": [
    {
     "data": {
      "text/html": [
       "<div>\n",
       "<style scoped>\n",
       "    .dataframe tbody tr th:only-of-type {\n",
       "        vertical-align: middle;\n",
       "    }\n",
       "\n",
       "    .dataframe tbody tr th {\n",
       "        vertical-align: top;\n",
       "    }\n",
       "\n",
       "    .dataframe thead th {\n",
       "        text-align: right;\n",
       "    }\n",
       "</style>\n",
       "<table border=\"1\" class=\"dataframe\">\n",
       "  <thead>\n",
       "    <tr style=\"text-align: right;\">\n",
       "      <th></th>\n",
       "      <th>Id</th>\n",
       "      <th>ProductId</th>\n",
       "      <th>UserId</th>\n",
       "      <th>ProfileName</th>\n",
       "      <th>HelpfulnessNumerator</th>\n",
       "      <th>HelpfulnessDenominator</th>\n",
       "      <th>Score</th>\n",
       "      <th>Time</th>\n",
       "      <th>Summary</th>\n",
       "      <th>Text</th>\n",
       "    </tr>\n",
       "  </thead>\n",
       "  <tbody>\n",
       "    <tr>\n",
       "      <th>0</th>\n",
       "      <td>1</td>\n",
       "      <td>B001E4KFG0</td>\n",
       "      <td>A3SGXH7AUHU8GW</td>\n",
       "      <td>delmartian</td>\n",
       "      <td>1</td>\n",
       "      <td>1</td>\n",
       "      <td>1</td>\n",
       "      <td>1303862400</td>\n",
       "      <td>Good Quality Dog Food</td>\n",
       "      <td>I have bought several of the Vitality canned d...</td>\n",
       "    </tr>\n",
       "  </tbody>\n",
       "</table>\n",
       "</div>"
      ],
      "text/plain": [
       "   Id   ProductId          UserId ProfileName  HelpfulnessNumerator  \\\n",
       "0   1  B001E4KFG0  A3SGXH7AUHU8GW  delmartian                     1   \n",
       "\n",
       "   HelpfulnessDenominator  Score        Time                Summary  \\\n",
       "0                       1      1  1303862400  Good Quality Dog Food   \n",
       "\n",
       "                                                Text  \n",
       "0  I have bought several of the Vitality canned d...  "
      ]
     },
     "execution_count": 7,
     "metadata": {},
     "output_type": "execute_result"
    }
   ],
   "source": [
    "filtered_data.head(1)"
   ]
  },
  {
   "cell_type": "markdown",
   "metadata": {},
   "source": [
    "Sort the data by productid"
   ]
  },
  {
   "cell_type": "code",
   "execution_count": 8,
   "metadata": {},
   "outputs": [],
   "source": [
    "sorted_data=filtered_data.sort_values('ProductId', axis=0, ascending=True, inplace=False, kind='quicksort', na_position='last')"
   ]
  },
  {
   "cell_type": "markdown",
   "metadata": {},
   "source": [
    "Remove duplicates"
   ]
  },
  {
   "cell_type": "code",
   "execution_count": 9,
   "metadata": {},
   "outputs": [
    {
     "data": {
      "text/plain": [
       "(364173, 10)"
      ]
     },
     "execution_count": 9,
     "metadata": {},
     "output_type": "execute_result"
    }
   ],
   "source": [
    "#Remove duplicate reviews by same user at same time\n",
    "final=sorted_data.drop_duplicates(subset={\"UserId\",\"ProfileName\",\"Time\",\"Text\"}, keep='first', inplace=False)\n",
    "final.shape"
   ]
  },
  {
   "cell_type": "markdown",
   "metadata": {},
   "source": [
    "Remove rows where helpfulness denominator is greater than helpfulness numerator"
   ]
  },
  {
   "cell_type": "code",
   "execution_count": 10,
   "metadata": {},
   "outputs": [
    {
     "data": {
      "text/plain": [
       "(364171, 10)"
      ]
     },
     "execution_count": 10,
     "metadata": {},
     "output_type": "execute_result"
    }
   ],
   "source": [
    "#Keep only those records where HelpfulnessNumerator is less than or equal to HelpfulnessDenominator\n",
    "final=final[final.HelpfulnessNumerator<=final.HelpfulnessDenominator]\n",
    "final.shape"
   ]
  },
  {
   "cell_type": "markdown",
   "metadata": {},
   "source": [
    "Function to clean the sentences.\n",
    "The function will remove html tags and punctuation marks from the input text and return cleaned text."
   ]
  },
  {
   "cell_type": "code",
   "execution_count": 11,
   "metadata": {},
   "outputs": [],
   "source": [
    "import re\n",
    "import string\n",
    "from nltk.corpus import stopwords\n",
    "\n",
    "stop = set(stopwords.words('english')) #set of stopwords\n",
    "sno = nltk.stem.SnowballStemmer('english') #initialising the snowball stemmer\n",
    "\n",
    "def cleansentence(sentence): #function to clean the word of any html-tags\n",
    "    cleanr = re.compile('<.*?>')\n",
    "    cleantext = re.sub(cleanr, ' ', sentence)\n",
    "    cleantext = re.sub(r'[?|!|\\'|\"|#]',r'',cleantext)\n",
    "    cleantext = re.sub(r'[.|,|)|(|\\|/|-|+|;|&]',r' ',cleantext)\n",
    "    return  cleantext\n"
   ]
  },
  {
   "cell_type": "markdown",
   "metadata": {},
   "source": [
    "Sort by time for time based splitting"
   ]
  },
  {
   "cell_type": "code",
   "execution_count": 12,
   "metadata": {},
   "outputs": [],
   "source": [
    "sample=final.sort_values('Time', axis=0, ascending=True, inplace=False, kind='quicksort', na_position='last')"
   ]
  },
  {
   "cell_type": "markdown",
   "metadata": {},
   "source": [
    "Cleaning the review text by using above written function.\n",
    "Also performing the stemming procedure to reduce the words to their base stem forms.\n",
    "Cleaned text will be stored in separate column.\n",
    "For tf-idf weighted word2vec, we are storing non-stemmed clean review text in another column."
   ]
  },
  {
   "cell_type": "code",
   "execution_count": 13,
   "metadata": {},
   "outputs": [],
   "source": [
    "i=0\n",
    "str1=' '\n",
    "str2=' '\n",
    "final_string=[]\n",
    "final_string_2=[]\n",
    "all_positive_words=[] # store words from +ve reviews here\n",
    "all_negative_words=[] # store words from -ve reviews here.\n",
    "s=''\n",
    "s1=''\n",
    "for sent in sample['Summary'].values:\n",
    "    filtered_sentence=[]\n",
    "    filtered_nostem = []\n",
    "    #print(sent);\n",
    "    sent=cleansentence(sent) # remove HTMl tags\n",
    "    for w in sent.split():\n",
    "        if((w.isalpha()) & (len(w)>2)):    \n",
    "                if(w.lower() not in stop):\n",
    "                    s=(sno.stem(w.lower())).encode('utf8')\n",
    "                    s1 = (w.lower()).encode('utf8')\n",
    "                    filtered_sentence.append(s)\n",
    "                    filtered_nostem.append(s1)\n",
    "                    if (sample['Score'].values)[i] == 'positive': \n",
    "                        all_positive_words.append(s) #list of all words used to describe positive reviews\n",
    "                    if(sample['Score'].values)[i] == 'negative':\n",
    "                        all_negative_words.append(s) #list of all words used to describe negative reviews reviews\n",
    "                else:\n",
    "                    continue\n",
    "        else:\n",
    "                continue \n",
    "    #print(filtered_sentence)\n",
    "    str1 = b\" \".join(filtered_sentence) #final string of cleaned words\n",
    "    str2 = b\" \".join(filtered_nostem) #final string of cleaned words\n",
    "    #print(\"***********************************************************************\")\n",
    "    \n",
    "    final_string.append(str1)\n",
    "    final_string_2.append(str2)\n",
    "    i+=1"
   ]
  },
  {
   "cell_type": "code",
   "execution_count": 14,
   "metadata": {},
   "outputs": [],
   "source": [
    "#adding a column  which displays the data after pre-processing of the review \n",
    "sample['CleanedSummary']=final_string\n",
    "sample['CleanedSummaryNoStem']=final_string_2"
   ]
  },
  {
   "cell_type": "markdown",
   "metadata": {},
   "source": [
    "Save the cleaned text in a file for use later"
   ]
  },
  {
   "cell_type": "code",
   "execution_count": 15,
   "metadata": {},
   "outputs": [],
   "source": [
    "#pickle.dump(sample,open('cleaned_final.p','wb'))\n",
    "pd.to_pickle(sample,'cleaned_final.pkl')"
   ]
  },
  {
   "cell_type": "code",
   "execution_count": 16,
   "metadata": {},
   "outputs": [],
   "source": [
    "testdf=pd.read_pickle('cleaned_final.pkl')"
   ]
  },
  {
   "cell_type": "code",
   "execution_count": 17,
   "metadata": {},
   "outputs": [],
   "source": [
    "testdf.shape\n",
    "sample=testdf"
   ]
  },
  {
   "cell_type": "code",
   "execution_count": 18,
   "metadata": {},
   "outputs": [
    {
     "data": {
      "text/html": [
       "<div>\n",
       "<style scoped>\n",
       "    .dataframe tbody tr th:only-of-type {\n",
       "        vertical-align: middle;\n",
       "    }\n",
       "\n",
       "    .dataframe tbody tr th {\n",
       "        vertical-align: top;\n",
       "    }\n",
       "\n",
       "    .dataframe thead th {\n",
       "        text-align: right;\n",
       "    }\n",
       "</style>\n",
       "<table border=\"1\" class=\"dataframe\">\n",
       "  <thead>\n",
       "    <tr style=\"text-align: right;\">\n",
       "      <th></th>\n",
       "      <th>Id</th>\n",
       "      <th>ProductId</th>\n",
       "      <th>UserId</th>\n",
       "      <th>ProfileName</th>\n",
       "      <th>HelpfulnessNumerator</th>\n",
       "      <th>HelpfulnessDenominator</th>\n",
       "      <th>Score</th>\n",
       "      <th>Time</th>\n",
       "      <th>Summary</th>\n",
       "      <th>Text</th>\n",
       "      <th>CleanedSummary</th>\n",
       "      <th>CleanedSummaryNoStem</th>\n",
       "    </tr>\n",
       "  </thead>\n",
       "  <tbody>\n",
       "    <tr>\n",
       "      <th>138706</th>\n",
       "      <td>150524</td>\n",
       "      <td>0006641040</td>\n",
       "      <td>ACITT7DI6IDDL</td>\n",
       "      <td>shari zychinski</td>\n",
       "      <td>0</td>\n",
       "      <td>0</td>\n",
       "      <td>1</td>\n",
       "      <td>939340800</td>\n",
       "      <td>EVERY book is educational</td>\n",
       "      <td>this witty little book makes my son laugh at l...</td>\n",
       "      <td>b'everi book educ'</td>\n",
       "      <td>b'every book educational'</td>\n",
       "    </tr>\n",
       "  </tbody>\n",
       "</table>\n",
       "</div>"
      ],
      "text/plain": [
       "            Id   ProductId         UserId      ProfileName  \\\n",
       "138706  150524  0006641040  ACITT7DI6IDDL  shari zychinski   \n",
       "\n",
       "        HelpfulnessNumerator  HelpfulnessDenominator  Score       Time  \\\n",
       "138706                     0                       0      1  939340800   \n",
       "\n",
       "                          Summary  \\\n",
       "138706  EVERY book is educational   \n",
       "\n",
       "                                                     Text      CleanedSummary  \\\n",
       "138706  this witty little book makes my son laugh at l...  b'everi book educ'   \n",
       "\n",
       "             CleanedSummaryNoStem  \n",
       "138706  b'every book educational'  "
      ]
     },
     "execution_count": 18,
     "metadata": {},
     "output_type": "execute_result"
    }
   ],
   "source": [
    "#sample.head(1)\n",
    "sample.head(1)\n",
    "#sample['Score'].value_counts()"
   ]
  },
  {
   "cell_type": "markdown",
   "metadata": {},
   "source": [
    "### First using Bag of Words vectorizer on Cleaned Summary Column"
   ]
  },
  {
   "cell_type": "code",
   "execution_count": 19,
   "metadata": {},
   "outputs": [],
   "source": [
    "#sort by time for time based splitting\n",
    "sample=sample.sort_values('Time', axis=0, ascending=True, inplace=False, kind='quicksort', na_position='last')"
   ]
  },
  {
   "cell_type": "code",
   "execution_count": 20,
   "metadata": {},
   "outputs": [],
   "source": [
    "from sklearn.model_selection import train_test_split\n",
    "\n",
    "x_train, x_test, y_train, y_test = train_test_split(sample['CleanedSummary'].values,sample['Score'].values,test_size=0.2,shuffle=False)\n"
   ]
  },
  {
   "cell_type": "markdown",
   "metadata": {},
   "source": [
    "### MultinomialNB for bag of words\n",
    "\n",
    "The Sklearn documentation for MultinomialNB reads:\n",
    "\n",
    "The multinomial Naive Bayes classifier is suitable for classification with discrete features (e.g., word counts for text classification). The multinomial distribution normally requires integer feature counts. However, in practice, fractional counts such as tf-idf may also work.\n",
    "\n",
    "So, we will use MultinomialNB for the BoW and Tf-Idf vectorizers"
   ]
  },
  {
   "cell_type": "code",
   "execution_count": 21,
   "metadata": {},
   "outputs": [
    {
     "name": "stdout",
     "output_type": "stream",
     "text": [
      "best parameter alpha {'alpha': 0.1}\n",
      "AUC score:  0.78\n",
      "Classification report  :-\n",
      "+--------------+-----------+--------+----------+----------+\n",
      "|    Label     | Precision | Recall | f1-Score | Support  |\n",
      "+--------------+-----------+--------+----------+----------+\n",
      "|      0       |    0.74   |  0.61  |   0.67   | 12535.00 |\n",
      "|      1       |    0.92   |  0.95  |   0.94   | 60300.00 |\n",
      "|  micro avg   |    0.90   |  0.90  |   0.90   | 72835.00 |\n",
      "|  macro avg   |    0.83   |  0.78  |   0.80   | 72835.00 |\n",
      "| weighted avg |    0.89   |  0.90  |   0.89   | 72835.00 |\n",
      "+--------------+-----------+--------+----------+----------+\n",
      "Confusion matrix  :-\n"
     ]
    },
    {
     "data": {
      "image/png": "[encoded data removed]",
      "text/plain": [
       "<Figure size 432x432 with 2 Axes>"
      ]
     },
     "metadata": {},
     "output_type": "display_data"
    }
   ],
   "source": [
    "#Using bigrams\n",
    "count_vect = CountVectorizer(ngram_range=(1,2))\n",
    "bag_of_words_train = count_vect.fit_transform(x_train)\n",
    "bag_of_words_test =  count_vect.transform(x_test)\n",
    "clf = MultinomialNB()\n",
    "tscv = TimeSeriesSplit(n_splits=10)\n",
    "paramsearch = GridSearchCV(clf, param_grid=dict(alpha=[0.1,0.01,0.0001,0.001]), n_jobs=1,cv=tscv,refit='AUC')\n",
    "paramsearch.fit(bag_of_words_train,y_train)\n",
    "print('best parameter alpha',paramsearch.best_params_)\n",
    "pred = paramsearch.predict(bag_of_words_test)\n",
    "\n",
    "bow_score = roc_auc_score(y_test,pred)\n",
    "print('AUC score: ',round(bow_score,2))\n",
    "print('Classification report  :-')\n",
    "bow_dict = metrics.classification_report(y_test,pred,output_dict=True)\n",
    "print_classif_report(bow_dict)\n",
    "print('Confusion matrix  :-')\n",
    "print_confusion_matrix(confusion_matrix(y_test, pred,labels=[1,0]), [1,0])\n",
    "\n",
    " \n"
   ]
  },
  {
   "cell_type": "code",
   "execution_count": 22,
   "metadata": {},
   "outputs": [
    {
     "name": "stdout",
     "output_type": "stream",
     "text": [
      "Negative class\n",
      "0 -4.162131061319265 tast\n",
      "0 -4.648621685452725 good\n",
      "0 -4.705181572897805 like\n",
      "0 -4.929078304519403 disappoint\n",
      "0 -5.006724082939913 product\n",
      "0 -5.064975049053845 flavor\n",
      "0 -5.170571290117052 bad\n",
      "0 -5.328781359279843 coffe\n",
      "0 -5.332597793642076 dont\n",
      "0 -5.3470405634678935 great\n",
      " ************************************* \n",
      "Positive class\n",
      "1 -3.4358261255542484 great\n",
      "1 -3.892320893972535 good\n",
      "1 -4.107653267396499 best\n",
      "1 -4.174774103159887 love\n",
      "1 -4.614555031799757 tast\n",
      "1 -4.657626259454631 tea\n",
      "1 -4.688928725213442 delici\n",
      "1 -4.759727573713555 coffe\n",
      "1 -4.8177276787013845 product\n",
      "1 -5.018631746393298 excel\n"
     ]
    }
   ],
   "source": [
    "most_informative_feature(count_vect, paramsearch.best_estimator_)"
   ]
  },
  {
   "cell_type": "code",
   "execution_count": 23,
   "metadata": {},
   "outputs": [
    {
     "name": "stdout",
     "output_type": "stream",
     "text": [
      "best parameter alpha {'alpha': 0.1}\n",
      "AUC score:  0.76\n",
      "Classification report  :-\n",
      "+--------------+-----------+--------+----------+----------+\n",
      "|    Label     | Precision | Recall | f1-Score | Support  |\n",
      "+--------------+-----------+--------+----------+----------+\n",
      "|      0       |    0.74   |  0.57  |   0.64   | 12535.00 |\n",
      "|      1       |    0.91   |  0.96  |   0.94   | 60300.00 |\n",
      "|  micro avg   |    0.89   |  0.89  |   0.89   | 72835.00 |\n",
      "|  macro avg   |    0.83   |  0.76  |   0.79   | 72835.00 |\n",
      "| weighted avg |    0.88   |  0.89  |   0.88   | 72835.00 |\n",
      "+--------------+-----------+--------+----------+----------+\n",
      "Confusion matrix  :-\n"
     ]
    },
    {
     "data": {
      "image/png": "[encoded data removed]",
      "text/plain": [
       "<Figure size 432x432 with 2 Axes>"
      ]
     },
     "metadata": {},
     "output_type": "display_data"
    }
   ],
   "source": [
    "# Unigrams only\n",
    "count_vect = CountVectorizer()\n",
    "bag_of_words_train = count_vect.fit_transform(x_train)\n",
    "bag_of_words_test =  count_vect.transform(x_test)\n",
    "clf = MultinomialNB()\n",
    "tscv = TimeSeriesSplit(n_splits=10)\n",
    "paramsearch = GridSearchCV(clf, param_grid=dict(alpha=[0.1,0.01,0.0001,0.001]), n_jobs=1,cv=tscv,refit='AUC')\n",
    "paramsearch.fit(bag_of_words_train,y_train)\n",
    "print('best parameter alpha',paramsearch.best_params_)\n",
    "pred = paramsearch.predict(bag_of_words_test)\n",
    "\n",
    "bow_score = roc_auc_score(y_test,pred)\n",
    "print('AUC score: ',round(bow_score,2))\n",
    "print('Classification report  :-')\n",
    "bow_dict = metrics.classification_report(y_test,pred,output_dict=True)\n",
    "print_classif_report(bow_dict)\n",
    "print('Confusion matrix  :-')\n",
    "print_confusion_matrix(confusion_matrix(y_test, pred,labels=[1,0]), [1,0])\n",
    "\n",
    " \n"
   ]
  },
  {
   "cell_type": "code",
   "execution_count": 24,
   "metadata": {},
   "outputs": [
    {
     "name": "stdout",
     "output_type": "stream",
     "text": [
      "Negative class\n",
      "0 -3.5853682006980883 tast\n",
      "0 -4.071858824831549 good\n",
      "0 -4.128418712276629 like\n",
      "0 -4.3523154438982266 disappoint\n",
      "0 -4.429961222318736 product\n",
      "0 -4.4882121884326684 flavor\n",
      "0 -4.593808429495875 bad\n",
      "0 -4.752018498658667 coffe\n",
      "0 -4.7558349330209 dont\n",
      "0 -4.770277702846717 great\n",
      " ************************************* \n",
      "Positive class\n",
      "1 -2.921476599070166 great\n",
      "1 -3.3779713674884526 good\n",
      "1 -3.5933037409124164 best\n",
      "1 -3.660424576675805 love\n",
      "1 -4.1002055053156745 tast\n",
      "1 -4.143276732970548 tea\n",
      "1 -4.17457919872936 delici\n",
      "1 -4.245378047229472 coffe\n",
      "1 -4.303378152217302 product\n",
      "1 -4.504282219909216 excel\n"
     ]
    }
   ],
   "source": [
    "most_informative_feature(count_vect, paramsearch.best_estimator_)"
   ]
  },
  {
   "cell_type": "markdown",
   "metadata": {},
   "source": [
    "### BernoulliNB for BoW with binary = True\n",
    "\n",
    "The sklearn documentation for BernoulliNB reads: BernoulliNB is designed for binary/boolean features\n",
    "\n",
    "So, we will use the BernoulliNB classifier for the Bow using binary = True"
   ]
  },
  {
   "cell_type": "code",
   "execution_count": 25,
   "metadata": {},
   "outputs": [
    {
     "name": "stdout",
     "output_type": "stream",
     "text": [
      "AUC score: 0.78\n",
      "Classification report  :-\n",
      "+--------------+-----------+--------+----------+----------+\n",
      "|    Label     | Precision | Recall | f1-Score | Support  |\n",
      "+--------------+-----------+--------+----------+----------+\n",
      "|      0       |    0.74   |  0.61  |   0.67   | 12535.00 |\n",
      "|      1       |    0.92   |  0.95  |   0.94   | 60300.00 |\n",
      "|  micro avg   |    0.90   |  0.90  |   0.90   | 72835.00 |\n",
      "|  macro avg   |    0.83   |  0.78  |   0.80   | 72835.00 |\n",
      "| weighted avg |    0.89   |  0.90  |   0.89   | 72835.00 |\n",
      "+--------------+-----------+--------+----------+----------+\n",
      "Confusion matrix  :-\n"
     ]
    },
    {
     "data": {
      "image/png": "[encoded data removed]",
      "text/plain": [
       "<Figure size 432x432 with 2 Axes>"
      ]
     },
     "metadata": {},
     "output_type": "display_data"
    }
   ],
   "source": [
    "#including bigrams\n",
    "classifier = Pipeline([\n",
    "    ('Vectorizer', CountVectorizer(ngram_range=(1,2),binary=True)),\n",
    "    ('clf', GridSearchCV(BernoulliNB(), param_grid=dict(alpha=[0.1,0.01,0.0001,0.001]), n_jobs=1,cv=tscv,refit='AUC')    )\n",
    "])\n",
    "\n",
    "classifier.fit(x_train, y_train)\n",
    "predicted = classifier.predict(x_test)\n",
    "bow_score = roc_auc_score(y_test,predicted)\n",
    "print('AUC score:',round(bow_score,2))\n",
    "print('Classification report  :-')\n",
    "bow_dict = metrics.classification_report(y_test,predicted,output_dict=True)\n",
    "print_classif_report(bow_dict)\n",
    "print('Confusion matrix  :-')\n",
    "print_confusion_matrix(confusion_matrix(y_test, predicted,labels=[1,0]), [1,0])\n"
   ]
  },
  {
   "cell_type": "code",
   "execution_count": 26,
   "metadata": {},
   "outputs": [
    {
     "name": "stdout",
     "output_type": "stream",
     "text": [
      "AUC score: 0.76\n",
      "Classification report  :-\n",
      "+--------------+-----------+--------+----------+----------+\n",
      "|    Label     | Precision | Recall | f1-Score | Support  |\n",
      "+--------------+-----------+--------+----------+----------+\n",
      "|      0       |    0.74   |  0.57  |   0.64   | 12535.00 |\n",
      "|      1       |    0.91   |  0.96  |   0.94   | 60300.00 |\n",
      "|  micro avg   |    0.89   |  0.89  |   0.89   | 72835.00 |\n",
      "|  macro avg   |    0.83   |  0.76  |   0.79   | 72835.00 |\n",
      "| weighted avg |    0.88   |  0.89  |   0.89   | 72835.00 |\n",
      "+--------------+-----------+--------+----------+----------+\n",
      "Confusion matrix  :-\n"
     ]
    },
    {
     "data": {
      "image/png": "[encoded data removed]",
      "text/plain": [
       "<Figure size 432x432 with 2 Axes>"
      ]
     },
     "metadata": {},
     "output_type": "display_data"
    }
   ],
   "source": [
    "#including unigrams only\n",
    "classifier = Pipeline([\n",
    "    ('Vectorizer', CountVectorizer(binary=True)),\n",
    "    ('clf', GridSearchCV(BernoulliNB(), param_grid=dict(alpha=[0.1,0.01,0.0001,0.001]), n_jobs=1,cv=tscv,refit='AUC')    )\n",
    "])\n",
    "\n",
    "classifier.fit(x_train, y_train)\n",
    "predicted = classifier.predict(x_test)\n",
    "bow_score = roc_auc_score(y_test,predicted)\n",
    "print('AUC score:',round(bow_score,2))\n",
    "print('Classification report  :-')\n",
    "bow_dict = metrics.classification_report(y_test,predicted,output_dict=True)\n",
    "print_classif_report(bow_dict)\n",
    "print('Confusion matrix  :-')\n",
    "print_confusion_matrix(confusion_matrix(y_test, predicted,labels=[1,0]), [1,0])\n"
   ]
  },
  {
   "cell_type": "markdown",
   "metadata": {},
   "source": [
    "### MultinomialNB for BoW including summary length as another feature"
   ]
  },
  {
   "cell_type": "code",
   "execution_count": 27,
   "metadata": {},
   "outputs": [
    {
     "name": "stdout",
     "output_type": "stream",
     "text": [
      "AUC score: 0.76\n",
      "Classification report  :-\n",
      "+--------------+-----------+--------+----------+----------+\n",
      "|    Label     | Precision | Recall | f1-Score | Support  |\n",
      "+--------------+-----------+--------+----------+----------+\n",
      "|      0       |    0.74   |  0.57  |   0.64   | 12535.00 |\n",
      "|      1       |    0.91   |  0.96  |   0.94   | 60300.00 |\n",
      "|  micro avg   |    0.89   |  0.89  |   0.89   | 72835.00 |\n",
      "|  macro avg   |    0.83   |  0.76  |   0.79   | 72835.00 |\n",
      "| weighted avg |    0.88   |  0.89  |   0.88   | 72835.00 |\n",
      "+--------------+-----------+--------+----------+----------+\n",
      "Confusion matrix  :-\n"
     ]
    },
    {
     "data": {
      "image/png": "[encoded data removed]",
      "text/plain": [
       "<Figure size 432x432 with 2 Axes>"
      ]
     },
     "metadata": {},
     "output_type": "display_data"
    }
   ],
   "source": [
    "#including summary length as another feature with unigram bow\n",
    "\n",
    "classifier = Pipeline([\n",
    "    ('features', FeatureUnion([\n",
    "        ('text', CountVectorizer()),\n",
    "        ('length', Pipeline([\n",
    "            ('count', FunctionTransformer(get_text_length, validate=False)),\n",
    "        ]))\n",
    "    ])),\n",
    "    ('clf', GridSearchCV(MultinomialNB(), param_grid=dict(alpha=[0.1,0.01,0.0001,0.001]), n_jobs=1,cv=tscv,refit='AUC')    )\n",
    "])\n",
    "\n",
    "classifier.fit(x_train, y_train)\n",
    "predicted = classifier.predict(x_test)\n",
    "bow_score = roc_auc_score(y_test,predicted)\n",
    "print('AUC score:',round(bow_score,2))\n",
    "print('Classification report  :-')\n",
    "bow_dict = metrics.classification_report(y_test,predicted,output_dict=True)\n",
    "print_classif_report(bow_dict)\n",
    "print('Confusion matrix  :-')\n",
    "print_confusion_matrix(confusion_matrix(y_test, predicted,labels=[1,0]), [1,0])\n"
   ]
  },
  {
   "cell_type": "code",
   "execution_count": 28,
   "metadata": {},
   "outputs": [
    {
     "name": "stdout",
     "output_type": "stream",
     "text": [
      "AUC score: 0.78\n",
      "Classification report  :-\n",
      "+--------------+-----------+--------+----------+----------+\n",
      "|    Label     | Precision | Recall | f1-Score | Support  |\n",
      "+--------------+-----------+--------+----------+----------+\n",
      "|      0       |    0.74   |  0.61  |   0.67   | 12535.00 |\n",
      "|      1       |    0.92   |  0.96  |   0.94   | 60300.00 |\n",
      "|  micro avg   |    0.90   |  0.90  |   0.90   | 72835.00 |\n",
      "|  macro avg   |    0.83   |  0.78  |   0.80   | 72835.00 |\n",
      "| weighted avg |    0.89   |  0.90  |   0.89   | 72835.00 |\n",
      "+--------------+-----------+--------+----------+----------+\n",
      "Confusion matrix  :-\n"
     ]
    },
    {
     "data": {
      "image/png": "[encoded data removed]",
      "text/plain": [
       "<Figure size 432x432 with 2 Axes>"
      ]
     },
     "metadata": {},
     "output_type": "display_data"
    }
   ],
   "source": [
    "#including summary length as another feature with unigram/bigram bow\n",
    "\n",
    "classifier = Pipeline([\n",
    "    ('features', FeatureUnion([\n",
    "        ('text', CountVectorizer(ngram_range=(1,2))),\n",
    "        ('length', Pipeline([\n",
    "            ('count', FunctionTransformer(get_text_length, validate=False)),\n",
    "        ]))\n",
    "    ])),\n",
    "    ('clf', GridSearchCV(MultinomialNB(), param_grid=dict(alpha=[0.1,0.01,0.0001,0.001]), n_jobs=1,cv=tscv,refit='AUC')    )\n",
    "])\n",
    "\n",
    "classifier.fit(x_train, y_train)\n",
    "predicted = classifier.predict(x_test)\n",
    "bow_score = roc_auc_score(y_test,predicted)\n",
    "print('AUC score:',round(bow_score,2))\n",
    "print('Classification report  :-')\n",
    "bow_dict = metrics.classification_report(y_test,predicted,output_dict=True)\n",
    "print_classif_report(bow_dict)\n",
    "print('Confusion matrix  :-')\n",
    "print_confusion_matrix(confusion_matrix(y_test, predicted,labels=[1,0]), [1,0])\n"
   ]
  },
  {
   "cell_type": "markdown",
   "metadata": {},
   "source": [
    "### BernoulliNB for BoW including summary length"
   ]
  },
  {
   "cell_type": "code",
   "execution_count": 29,
   "metadata": {},
   "outputs": [
    {
     "name": "stdout",
     "output_type": "stream",
     "text": [
      "AUC score: 0.76\n",
      "Classification report  :-\n",
      "+--------------+-----------+--------+----------+----------+\n",
      "|    Label     | Precision | Recall | f1-Score | Support  |\n",
      "+--------------+-----------+--------+----------+----------+\n",
      "|      0       |    0.74   |  0.57  |   0.64   | 12535.00 |\n",
      "|      1       |    0.91   |  0.96  |   0.94   | 60300.00 |\n",
      "|  micro avg   |    0.89   |  0.89  |   0.89   | 72835.00 |\n",
      "|  macro avg   |    0.83   |  0.76  |   0.79   | 72835.00 |\n",
      "| weighted avg |    0.88   |  0.89  |   0.89   | 72835.00 |\n",
      "+--------------+-----------+--------+----------+----------+\n",
      "Confusion matrix  :-\n"
     ]
    },
    {
     "data": {
      "image/png": "[encoded data removed]",
      "text/plain": [
       "<Figure size 432x432 with 2 Axes>"
      ]
     },
     "metadata": {},
     "output_type": "display_data"
    }
   ],
   "source": [
    "#including summary length as another feature with unigram bow\n",
    "\n",
    "classifier = Pipeline([\n",
    "    ('features', FeatureUnion([\n",
    "        ('text', CountVectorizer(binary=True)),\n",
    "        ('length', Pipeline([\n",
    "            ('count', FunctionTransformer(get_text_length, validate=False)),\n",
    "        ]))\n",
    "    ])),\n",
    "    ('clf', GridSearchCV(BernoulliNB(), param_grid=dict(alpha=[0.1,0.01,0.0001,0.001]), n_jobs=1,cv=tscv,refit='AUC')    )\n",
    "])\n",
    "\n",
    "classifier.fit(x_train, y_train)\n",
    "predicted = classifier.predict(x_test)\n",
    "bow_score = roc_auc_score(y_test,predicted)\n",
    "print('AUC score:',round(bow_score,2))\n",
    "print('Classification report  :-')\n",
    "bow_dict = metrics.classification_report(y_test,predicted,output_dict=True)\n",
    "print_classif_report(bow_dict)\n",
    "print('Confusion matrix  :-')\n",
    "print_confusion_matrix(confusion_matrix(y_test, predicted,labels=[1,0]), [1,0])\n"
   ]
  },
  {
   "cell_type": "code",
   "execution_count": 30,
   "metadata": {},
   "outputs": [
    {
     "name": "stdout",
     "output_type": "stream",
     "text": [
      "AUC score: 0.78\n",
      "Classification report  :-\n",
      "+--------------+-----------+--------+----------+----------+\n",
      "|    Label     | Precision | Recall | f1-Score | Support  |\n",
      "+--------------+-----------+--------+----------+----------+\n",
      "|      0       |    0.74   |  0.61  |   0.67   | 12535.00 |\n",
      "|      1       |    0.92   |  0.95  |   0.94   | 60300.00 |\n",
      "|  micro avg   |    0.90   |  0.90  |   0.90   | 72835.00 |\n",
      "|  macro avg   |    0.83   |  0.78  |   0.80   | 72835.00 |\n",
      "| weighted avg |    0.89   |  0.90  |   0.89   | 72835.00 |\n",
      "+--------------+-----------+--------+----------+----------+\n",
      "Confusion matrix  :-\n"
     ]
    },
    {
     "data": {
      "image/png": "[encoded data removed]",
      "text/plain": [
       "<Figure size 432x432 with 2 Axes>"
      ]
     },
     "metadata": {},
     "output_type": "display_data"
    }
   ],
   "source": [
    "#including summary length as another feature with bigram bow\n",
    "\n",
    "classifier = Pipeline([\n",
    "    ('features', FeatureUnion([\n",
    "        ('text', CountVectorizer(binary=True,ngram_range=(1,2))),\n",
    "        ('length', Pipeline([\n",
    "            ('count', FunctionTransformer(get_text_length, validate=False)),\n",
    "        ]))\n",
    "    ])),\n",
    "    ('clf', GridSearchCV(BernoulliNB(), param_grid=dict(alpha=[0.1,0.01,0.0001,0.001]), n_jobs=1,cv=tscv,refit='AUC')    )\n",
    "])\n",
    "\n",
    "classifier.fit(x_train, y_train)\n",
    "predicted = classifier.predict(x_test)\n",
    "bow_score = roc_auc_score(y_test,predicted)\n",
    "print('AUC score:',round(bow_score,2))\n",
    "print('Classification report  :-')\n",
    "bow_dict = metrics.classification_report(y_test,predicted,output_dict=True)\n",
    "print_classif_report(bow_dict)\n",
    "print('Confusion matrix  :-')\n",
    "print_confusion_matrix(confusion_matrix(y_test, predicted,labels=[1,0]), [1,0])\n"
   ]
  },
  {
   "cell_type": "markdown",
   "metadata": {},
   "source": [
    "### Summary for BoW vectorizer"
   ]
  },
  {
   "cell_type": "code",
   "execution_count": 46,
   "metadata": {},
   "outputs": [
    {
     "name": "stdout",
     "output_type": "stream",
     "text": [
      "+---------------+-------------+---------------------+------+\n",
      "|   Classifier  | Ngram_range | Length included Y/N | AUC  |\n",
      "+---------------+-------------+---------------------+------+\n",
      "| MultinomialNB |      1      |          N          | 0.76 |\n",
      "| MultinomialNB |     1,2     |          N          | 0.78 |\n",
      "|  BernoulliNB  |      1      |          N          | 0.76 |\n",
      "|  BernoulliNB  |     1,2     |          N          | 0.78 |\n",
      "| MultinomialNB |      1      |          Y          | 0.76 |\n",
      "| MultinomialNB |     1,2     |          Y          | 0.78 |\n",
      "|  BernoulliNB  |      1      |          Y          | 0.76 |\n",
      "|  BernoulliNB  |     1,2     |          Y          | 0.78 |\n",
      "+---------------+-------------+---------------------+------+\n"
     ]
    }
   ],
   "source": [
    "tab = PrettyTable()\n",
    "tab.field_names = [\"Classifier\",\"Ngram_range\",\"Length included Y/N\",\"AUC\"]\n",
    "list1=[\"MultinomialNB\",\"1\",\"N\",\"0.76\"]\n",
    "list2=[\"MultinomialNB\",\"1,2\",\"N\",\"0.78\"]\n",
    "list3=[\"BernoulliNB\",\"1\",\"N\",\"0.76\"]\n",
    "list4=[\"BernoulliNB\",\"1,2\",\"N\",\"0.78\"]\n",
    "list5=[\"MultinomialNB\",\"1\",\"Y\",\"0.76\"]\n",
    "list6=[\"MultinomialNB\",\"1,2\",\"Y\",\"0.78\"]\n",
    "list7=[\"BernoulliNB\",\"1\",\"Y\",\"0.76\"]\n",
    "list8=[\"BernoulliNB\",\"1,2\",\"Y\",\"0.78\"]\n",
    "tab.add_row(list1)\n",
    "tab.add_row(list2)\n",
    "tab.add_row(list3)\n",
    "tab.add_row(list4)\n",
    "tab.add_row(list5)\n",
    "tab.add_row(list6)\n",
    "tab.add_row(list7)\n",
    "tab.add_row(list8)\n",
    "print(tab) "
   ]
  },
  {
   "cell_type": "markdown",
   "metadata": {},
   "source": [
    "## Using TF-IDF Vectorizer"
   ]
  },
  {
   "cell_type": "markdown",
   "metadata": {},
   "source": [
    "### MultinomialNB for Tf-Idf"
   ]
  },
  {
   "cell_type": "code",
   "execution_count": 31,
   "metadata": {},
   "outputs": [
    {
     "name": "stdout",
     "output_type": "stream",
     "text": [
      "best parameter alpha {'alpha': 0.1}\n",
      "AUC score:  0.78\n",
      "Classification report  :-\n",
      "+--------------+-----------+--------+----------+----------+\n",
      "|    Label     | Precision | Recall | f1-Score | Support  |\n",
      "+--------------+-----------+--------+----------+----------+\n",
      "|      0       |    0.82   |  0.54  |   0.65   | 12535.00 |\n",
      "|      1       |    0.91   |  0.98  |   0.94   | 60300.00 |\n",
      "|  micro avg   |    0.90   |  0.90  |   0.90   | 72835.00 |\n",
      "|  macro avg   |    0.86   |  0.76  |   0.80   | 72835.00 |\n",
      "| weighted avg |    0.89   |  0.90  |   0.89   | 72835.00 |\n",
      "+--------------+-----------+--------+----------+----------+\n",
      "Confusion matrix  :-\n"
     ]
    },
    {
     "data": {
      "image/png": "[encoded data removed]",
      "text/plain": [
       "<Figure size 432x432 with 2 Axes>"
      ]
     },
     "metadata": {},
     "output_type": "display_data"
    }
   ],
   "source": [
    "#Using bigrams\n",
    "vect = TfidfVectorizer(ngram_range=(1,2))\n",
    "tfidf_train = vect.fit_transform(x_train)\n",
    "tfidf_test =  vect.transform(x_test)\n",
    "clf = MultinomialNB()\n",
    "tscv = TimeSeriesSplit(n_splits=10)\n",
    "paramsearch = GridSearchCV(clf, param_grid=dict(alpha=[0.1,0.01,0.0001,0.001]), n_jobs=1,cv=tscv,refit='AUC')\n",
    "paramsearch.fit(tfidf_train,y_train)\n",
    "print('best parameter alpha',paramsearch.best_params_)\n",
    "pred = paramsearch.predict(tfidf_test)\n",
    "\n",
    "tfidf_score = roc_auc_score(y_test,pred)\n",
    "print('AUC score: ',round(bow_score,2))\n",
    "print('Classification report  :-')\n",
    "bow_dict = metrics.classification_report(y_test,pred,output_dict=True)\n",
    "print_classif_report(bow_dict)\n",
    "print('Confusion matrix  :-')\n",
    "print_confusion_matrix(confusion_matrix(y_test, pred,labels=[1,0]), [1,0])\n",
    "\n",
    " \n"
   ]
  },
  {
   "cell_type": "code",
   "execution_count": 32,
   "metadata": {},
   "outputs": [
    {
     "name": "stdout",
     "output_type": "stream",
     "text": [
      "Negative class\n",
      "0 -4.514240690737031 disappoint\n",
      "0 -4.872769926405842 good\n",
      "0 -4.9081687136723735 tast\n",
      "0 -5.4025027279060245 like\n",
      "0 -5.429708185937914 yuck\n",
      "0 -5.488588476163143 bad\n",
      "0 -5.576652461493772 aw\n",
      "0 -5.584314366122971 terribl\n",
      "0 -5.629974361157428 horribl\n",
      "0 -5.651771535279902 flavor\n",
      " ************************************* \n",
      "Positive class\n",
      "1 -3.977109498079617 great\n",
      "1 -4.2698155811305565 love\n",
      "1 -4.295915387065792 good\n",
      "1 -4.498206733309955 delici\n",
      "1 -4.605961472175473 best\n",
      "1 -4.91714963442063 yummi\n",
      "1 -5.014721636888629 product\n",
      "1 -5.060934102915871 excel\n",
      "1 -5.113736758751314 tea\n",
      "1 -5.126058923960628 coffe\n"
     ]
    }
   ],
   "source": [
    "most_informative_feature(vect, paramsearch.best_estimator_)"
   ]
  },
  {
   "cell_type": "code",
   "execution_count": 33,
   "metadata": {},
   "outputs": [
    {
     "name": "stdout",
     "output_type": "stream",
     "text": [
      "best parameter alpha {'alpha': 0.1}\n",
      "AUC score:  0.78\n",
      "Classification report  :-\n",
      "+--------------+-----------+--------+----------+----------+\n",
      "|    Label     | Precision | Recall | f1-Score | Support  |\n",
      "+--------------+-----------+--------+----------+----------+\n",
      "|      0       |    0.82   |  0.46  |   0.59   | 12535.00 |\n",
      "|      1       |    0.90   |  0.98  |   0.94   | 60300.00 |\n",
      "|  micro avg   |    0.89   |  0.89  |   0.89   | 72835.00 |\n",
      "|  macro avg   |    0.86   |  0.72  |   0.76   | 72835.00 |\n",
      "| weighted avg |    0.88   |  0.89  |   0.88   | 72835.00 |\n",
      "+--------------+-----------+--------+----------+----------+\n",
      "Confusion matrix  :-\n"
     ]
    },
    {
     "data": {
      "image/png": "[encoded data removed]",
      "text/plain": [
       "<Figure size 432x432 with 2 Axes>"
      ]
     },
     "metadata": {},
     "output_type": "display_data"
    }
   ],
   "source": [
    "#Using unigrams only\n",
    "vect = TfidfVectorizer()\n",
    "tfidf_train = vect.fit_transform(x_train)\n",
    "tfidf_test =  vect.transform(x_test)\n",
    "clf = MultinomialNB()\n",
    "tscv = TimeSeriesSplit(n_splits=10)\n",
    "paramsearch = GridSearchCV(clf, param_grid=dict(alpha=[0.1,0.01,0.0001,0.001]), n_jobs=1,cv=tscv,refit='AUC')\n",
    "paramsearch.fit(tfidf_train,y_train)\n",
    "print('best parameter alpha',paramsearch.best_params_)\n",
    "pred = paramsearch.predict(tfidf_test)\n",
    "\n",
    "tfidf_score = roc_auc_score(y_test,pred)\n",
    "print('AUC score: ',round(bow_score,2))\n",
    "print('Classification report  :-')\n",
    "bow_dict = metrics.classification_report(y_test,pred,output_dict=True)\n",
    "print_classif_report(bow_dict)\n",
    "print('Confusion matrix  :-')\n",
    "print_confusion_matrix(confusion_matrix(y_test, pred,labels=[1,0]), [1,0])\n",
    "\n",
    " \n"
   ]
  },
  {
   "cell_type": "code",
   "execution_count": 34,
   "metadata": {},
   "outputs": [
    {
     "name": "stdout",
     "output_type": "stream",
     "text": [
      "Negative class\n",
      "0 -3.9930140259038565 disappoint\n",
      "0 -4.042764986286793 tast\n",
      "0 -4.232981713111151 good\n",
      "0 -4.522249170162022 like\n",
      "0 -4.639110810099506 bad\n",
      "0 -4.7981475368161535 flavor\n",
      "0 -4.867584962002007 product\n",
      "0 -4.875577624484664 terribl\n",
      "0 -4.9079891831732505 dont\n",
      "0 -4.929787349828707 buy\n",
      " ************************************* \n",
      "Positive class\n",
      "1 -3.2988585114941245 great\n",
      "1 -3.650644927430511 good\n",
      "1 -3.731381743527624 love\n",
      "1 -3.935576727009348 best\n",
      "1 -4.044748775665127 delici\n",
      "1 -4.312253799987996 product\n",
      "1 -4.35779161642971 tea\n",
      "1 -4.364724268831607 tast\n",
      "1 -4.386164862552725 coffe\n",
      "1 -4.474822415540693 excel\n"
     ]
    }
   ],
   "source": [
    "most_informative_feature(vect, paramsearch.best_estimator_)"
   ]
  },
  {
   "cell_type": "markdown",
   "metadata": {},
   "source": [
    "### MultinomialNB for Tf-Idf with summary length as additional feature"
   ]
  },
  {
   "cell_type": "code",
   "execution_count": 35,
   "metadata": {},
   "outputs": [
    {
     "name": "stdout",
     "output_type": "stream",
     "text": [
      "AUC score: 0.75\n",
      "Classification report  :-\n",
      "+--------------+-----------+--------+----------+----------+\n",
      "|    Label     | Precision | Recall | f1-Score | Support  |\n",
      "+--------------+-----------+--------+----------+----------+\n",
      "|      0       |    0.83   |  0.53  |   0.64   | 12535.00 |\n",
      "|      1       |    0.91   |  0.98  |   0.94   | 60300.00 |\n",
      "|  micro avg   |    0.90   |  0.90  |   0.90   | 72835.00 |\n",
      "|  macro avg   |    0.87   |  0.75  |   0.79   | 72835.00 |\n",
      "| weighted avg |    0.89   |  0.90  |   0.89   | 72835.00 |\n",
      "+--------------+-----------+--------+----------+----------+\n",
      "Confusion matrix  :-\n"
     ]
    },
    {
     "data": {
      "image/png": "[encoded data removed]",
      "text/plain": [
       "<Figure size 432x432 with 2 Axes>"
      ]
     },
     "metadata": {},
     "output_type": "display_data"
    }
   ],
   "source": [
    "#including summary length as another feature with bigram bow\n",
    "\n",
    "classifier = Pipeline([\n",
    "    ('features', FeatureUnion([\n",
    "        ('text', TfidfVectorizer(ngram_range=(1,2))),\n",
    "        ('length', Pipeline([\n",
    "            ('count', FunctionTransformer(get_text_length, validate=False)),\n",
    "        ]))\n",
    "    ])),\n",
    "    ('clf', GridSearchCV(MultinomialNB(), param_grid=dict(alpha=[0.1,0.01,0.0001,0.001]), n_jobs=1,cv=tscv,refit='AUC')    )\n",
    "])\n",
    "\n",
    "classifier.fit(x_train, y_train)\n",
    "predicted = classifier.predict(x_test)\n",
    "bow_score = roc_auc_score(y_test,predicted)\n",
    "print('AUC score:',round(bow_score,2))\n",
    "print('Classification report  :-')\n",
    "bow_dict = metrics.classification_report(y_test,predicted,output_dict=True)\n",
    "print_classif_report(bow_dict)\n",
    "print('Confusion matrix  :-')\n",
    "print_confusion_matrix(confusion_matrix(y_test, predicted,labels=[1,0]), [1,0])\n"
   ]
  },
  {
   "cell_type": "code",
   "execution_count": 36,
   "metadata": {},
   "outputs": [
    {
     "name": "stdout",
     "output_type": "stream",
     "text": [
      "AUC score: 0.72\n",
      "Classification report  :-\n",
      "+--------------+-----------+--------+----------+----------+\n",
      "|    Label     | Precision | Recall | f1-Score | Support  |\n",
      "+--------------+-----------+--------+----------+----------+\n",
      "|      0       |    0.83   |  0.46  |   0.59   | 12535.00 |\n",
      "|      1       |    0.90   |  0.98  |   0.94   | 60300.00 |\n",
      "|  micro avg   |    0.89   |  0.89  |   0.89   | 72835.00 |\n",
      "|  macro avg   |    0.86   |  0.72  |   0.76   | 72835.00 |\n",
      "| weighted avg |    0.88   |  0.89  |   0.88   | 72835.00 |\n",
      "+--------------+-----------+--------+----------+----------+\n",
      "Confusion matrix  :-\n"
     ]
    },
    {
     "data": {
      "image/png": "[encoded data removed]",
      "text/plain": [
       "<Figure size 432x432 with 2 Axes>"
      ]
     },
     "metadata": {},
     "output_type": "display_data"
    }
   ],
   "source": [
    "#including summary length as another feature with unigram bow\n",
    "\n",
    "classifier = Pipeline([\n",
    "    ('features', FeatureUnion([\n",
    "        ('text', TfidfVectorizer()),\n",
    "        ('length', Pipeline([\n",
    "            ('count', FunctionTransformer(get_text_length, validate=False)),\n",
    "        ]))\n",
    "    ])),\n",
    "    ('clf', GridSearchCV(MultinomialNB(), param_grid=dict(alpha=[0.1,0.01,0.0001,0.001]), n_jobs=1,cv=tscv,refit='AUC')    )\n",
    "])\n",
    "\n",
    "classifier.fit(x_train, y_train)\n",
    "predicted = classifier.predict(x_test)\n",
    "bow_score = roc_auc_score(y_test,predicted)\n",
    "print('AUC score:',round(bow_score,2))\n",
    "print('Classification report  :-')\n",
    "bow_dict = metrics.classification_report(y_test,predicted,output_dict=True)\n",
    "print_classif_report(bow_dict)\n",
    "print('Confusion matrix  :-')\n",
    "print_confusion_matrix(confusion_matrix(y_test, predicted,labels=[1,0]), [1,0])\n"
   ]
  },
  {
   "cell_type": "markdown",
   "metadata": {},
   "source": [
    "### Summary for Tf-Idf vectorizer"
   ]
  },
  {
   "cell_type": "code",
   "execution_count": 45,
   "metadata": {},
   "outputs": [
    {
     "name": "stdout",
     "output_type": "stream",
     "text": [
      "+---------------+-------------+---------------------+------+\n",
      "|   Classifier  | Ngram_range | Length included Y/N | AUC  |\n",
      "+---------------+-------------+---------------------+------+\n",
      "| MultinomialNB |      1      |          N          | 0.78 |\n",
      "| MultinomialNB |     1,2     |          N          | 0.78 |\n",
      "| MultinomialNB |      1      |          Y          | 0.72 |\n",
      "| MultinomialNB |     1,2     |          Y          | 0.75 |\n",
      "+---------------+-------------+---------------------+------+\n"
     ]
    }
   ],
   "source": [
    "tab = PrettyTable()\n",
    "tab.field_names = [\"Classifier\",\"Ngram_range\",\"Length included Y/N\",\"AUC\"]\n",
    "list1=[\"MultinomialNB\",\"1\",\"N\",\"0.78\"]\n",
    "list2=[\"MultinomialNB\",\"1,2\",\"N\",\"0.78\"]\n",
    "list3=[\"MultinomialNB\",\"1\",\"Y\",\"0.72\"]\n",
    "list4=[\"MultinomialNB\",\"1,2\",\"Y\",\"0.75\"]\n",
    "tab.add_row(list1)\n",
    "tab.add_row(list2)\n",
    "tab.add_row(list3)\n",
    "tab.add_row(list4)\n",
    "print(tab) "
   ]
  },
  {
   "cell_type": "code",
   "execution_count": null,
   "metadata": {},
   "outputs": [],
   "source": []
  }
 ],
 "metadata": {
  "kernelspec": {
   "display_name": "Python 3",
   "language": "python",
   "name": "python3"
  },
  "language_info": {
   "codemirror_mode": {
    "name": "ipython",
    "version": 3
   },
   "file_extension": ".py",
   "mimetype": "text/x-python",
   "name": "python",
   "nbconvert_exporter": "python",
   "pygments_lexer": "ipython3",
   "version": "3.6.5"
  }
 },
 "nbformat": 4,
 "nbformat_minor": 2
}
